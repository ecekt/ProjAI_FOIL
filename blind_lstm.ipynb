{
 "cells": [
  {
   "cell_type": "code",
   "execution_count": 1,
   "metadata": {
    "collapsed": true
   },
   "outputs": [],
   "source": [
    "import numpy as np\n",
    "\n",
    "from scipy.stats import pearsonr\n",
    "from scipy.stats import spearmanr\n",
    "from sklearn.metrics.pairwise import cosine_similarity\n",
    "from scipy import spatial\n",
    "from scipy import stats\n",
    "\n",
    "import torch\n",
    "from torch.autograd import Variable\n",
    "import torch.nn as nn\n",
    "import torch.autograd as autograd\n",
    "import torch.optim as optim\n",
    "import torch.nn.functional as F\n",
    "torch.manual_seed(1)\n",
    "\n",
    "import time\n",
    "from datetime import datetime\n",
    "\n",
    "from collections import defaultdict\n",
    "from collections import Counter\n",
    "\n",
    "from random import randint\n",
    "import pickle\n",
    "\n",
    "import matplotlib.pyplot as plt\n",
    "\n",
    "# import warnings\n",
    "# warnings.filterwarnings('error')\n",
    "\n",
    "import string\n",
    "\n",
    "import json\n",
    "\n",
    "from mosestokenizer import *"
   ]
  },
  {
   "cell_type": "code",
   "execution_count": 2,
   "metadata": {
    "collapsed": true
   },
   "outputs": [],
   "source": [
    "with open('foilGWVQA.train.json', 'r') as f:\n",
    "    train = json.load(f)\n",
    "\n",
    "with open('foilGWVQA.val.json', 'r') as f:\n",
    "    valid = json.load(f)\n",
    "    \n",
    "with open('foilGWVQA.test.json', 'r') as f:\n",
    "    test = json.load(f)"
   ]
  },
  {
   "cell_type": "code",
   "execution_count": 4,
   "metadata": {},
   "outputs": [
    {
     "name": "stdout",
     "output_type": "stream",
     "text": [
      "0\n",
      "100\n",
      "200\n",
      "300\n",
      "400\n",
      "500\n",
      "600\n",
      "700\n",
      "800\n",
      "900\n",
      "1000\n",
      "1100\n",
      "1200\n",
      "1300\n",
      "1400\n",
      "1500\n",
      "1600\n",
      "1700\n",
      "1800\n",
      "1900\n",
      "2000\n",
      "2100\n",
      "2200\n",
      "2300\n",
      "2400\n",
      "2500\n",
      "2600\n",
      "2700\n",
      "2800\n",
      "2900\n",
      "3000\n",
      "3100\n",
      "3200\n",
      "3300\n",
      "3400\n",
      "3500\n",
      "3600\n",
      "3700\n",
      "3800\n",
      "3900\n",
      "4000\n",
      "4100\n",
      "4200\n",
      "4300\n",
      "4400\n",
      "4500\n",
      "4600\n",
      "4700\n",
      "4800\n",
      "4900\n",
      "5000\n",
      "5100\n",
      "5200\n",
      "5300\n",
      "5400\n",
      "5500\n"
     ]
    }
   ],
   "source": [
    "def get_tokenized_sentence(sentence, token_set):\n",
    "    \n",
    "    tokenized_sentence = []\n",
    "    \n",
    "    with MosesTokenizer('en') as tokenize:\n",
    "            \n",
    "        sentence = sentence.replace('\\n', '')\n",
    "        sentence = [t.lower() for t in tokenize(sentence)]\n",
    "        \n",
    "        for s in sentence:\n",
    "            token_set.add(s)\n",
    "            \n",
    "    return sentence, token_set\n",
    "\n",
    "\n",
    "# train_set = []\n",
    "\n",
    "# portion = len(train['annotations'])\n",
    "\n",
    "# tokens = set()\n",
    "\n",
    "# with MosesTokenizer('en') as tokenizer:\n",
    "\n",
    "#     for i in range(portion):\n",
    "\n",
    "#         t = train['annotations'][i]\n",
    "\n",
    "#         tokenized_caption, tokens = get_tokenized_sentence(t['caption'], tokens)\n",
    "                        \n",
    "#         if t['foilWord'] == 'Original':\n",
    "#             caption_class = 0\n",
    "\n",
    "#         else:\n",
    "#             caption_class = 1\n",
    "            \n",
    "#         train_set.append((tokenized_caption, caption_class))\n",
    "#         if i %100 == 0:\n",
    "#             print(i)\n",
    "            \n",
    "            \n",
    "valid_set = []\n",
    "\n",
    "portion = len(valid['annotations'])\n",
    "\n",
    "with MosesTokenizer('en') as tokenizer:\n",
    "\n",
    "    for i in range(portion):\n",
    "\n",
    "        t = valid['annotations'][i]\n",
    "\n",
    "        tokenized_caption, tokens = get_tokenized_sentence(t['caption'], tokens)\n",
    "                        \n",
    "        if t['foilWord'] == 'Original':\n",
    "            caption_class = 0\n",
    "\n",
    "        else:\n",
    "            caption_class = 1\n",
    "            \n",
    "        valid_set.append((tokenized_caption, caption_class))\n",
    "        if i %100 == 0:\n",
    "            print(i)\n",
    "            \n",
    "# test_set = []\n",
    "\n",
    "# portion = len(test['annotations'])\n",
    "\n",
    "\n",
    "# with MosesTokenizer('en') as tokenizer:\n",
    "\n",
    "#     for i in range(portion):\n",
    "\n",
    "#         t = test['annotations'][i]\n",
    "\n",
    "#         tokenized_caption, tokens = get_tokenized_sentence(t['caption'], tokens)\n",
    "                        \n",
    "#         if t['foilWord'] == 'Original':\n",
    "#             caption_class = 0\n",
    "\n",
    "#         else:\n",
    "#             caption_class = 1\n",
    "            \n",
    "#         test_set.append((tokenized_caption, caption_class))\n",
    "#         if i %100 == 0:\n",
    "#             print(i)\n",
    "            "
   ]
  },
  {
   "cell_type": "code",
   "execution_count": 5,
   "metadata": {},
   "outputs": [
    {
     "ename": "NameError",
     "evalue": "name 'test_set' is not defined",
     "output_type": "error",
     "traceback": [
      "\u001b[0;31m---------------------------------------------------------------------------\u001b[0m",
      "\u001b[0;31mNameError\u001b[0m                                 Traceback (most recent call last)",
      "\u001b[0;32m<ipython-input-5-69abd482b481>\u001b[0m in \u001b[0;36m<module>\u001b[0;34m()\u001b[0m\n\u001b[1;32m      6\u001b[0m \u001b[0;34m\u001b[0m\u001b[0m\n\u001b[1;32m      7\u001b[0m \u001b[0;32mwith\u001b[0m \u001b[0mopen\u001b[0m\u001b[0;34m(\u001b[0m\u001b[0;34m'tokenized_annotations_test.json'\u001b[0m\u001b[0;34m,\u001b[0m \u001b[0;34m'w'\u001b[0m\u001b[0;34m)\u001b[0m \u001b[0;32mas\u001b[0m \u001b[0mfile\u001b[0m\u001b[0;34m:\u001b[0m\u001b[0;34m\u001b[0m\u001b[0m\n\u001b[0;32m----> 8\u001b[0;31m     \u001b[0mjson\u001b[0m\u001b[0;34m.\u001b[0m\u001b[0mdump\u001b[0m\u001b[0;34m(\u001b[0m\u001b[0mtest_set\u001b[0m\u001b[0;34m,\u001b[0m \u001b[0mfile\u001b[0m\u001b[0;34m)\u001b[0m\u001b[0;34m\u001b[0m\u001b[0m\n\u001b[0m",
      "\u001b[0;31mNameError\u001b[0m: name 'test_set' is not defined"
     ]
    }
   ],
   "source": [
    "with open('tokenized_annotations_train.json', 'w') as file:\n",
    "    json.dump(train_set, file)\n",
    "    \n",
    "with open('tokenized_annotations_valid.json', 'w') as file:\n",
    "    json.dump(valid_set, file)\n",
    "\n",
    "with open('tokenized_annotations_test.json', 'w') as file:\n",
    "    json.dump(test_set, file)"
   ]
  },
  {
   "cell_type": "code",
   "execution_count": 7,
   "metadata": {},
   "outputs": [
    {
     "data": {
      "text/plain": [
       "5596"
      ]
     },
     "execution_count": 7,
     "metadata": {},
     "output_type": "execute_result"
    }
   ],
   "source": [
    "len(valid_set)"
   ]
  },
  {
   "cell_type": "code",
   "execution_count": 65,
   "metadata": {
    "collapsed": true
   },
   "outputs": [],
   "source": [
    "with open('tokenized_annotations_train.json', 'r') as file:\n",
    "    train_set = json.load(file)\n",
    "    \n",
    "with open('tokenized_annotations_valid.json', 'r') as file:\n",
    "    valid_set = json.load(file)\n",
    "\n",
    "with open('tokenized_annotations_test.json', 'r') as file:\n",
    "    test_set = json.load(file)"
   ]
  },
  {
   "cell_type": "code",
   "execution_count": 58,
   "metadata": {
    "collapsed": true
   },
   "outputs": [],
   "source": [
    "tokens = set()\n",
    "\n",
    "for i in range(len(train_set)):\n",
    "\n",
    "    t_split = train_set[i][0]\n",
    "    \n",
    "    for t in t_split:\n",
    "        tokens.add(t)\n",
    "        \n",
    "\n",
    "for i in range(len(test_set)):\n",
    "\n",
    "    t_split = test_set[i][0]\n",
    "    \n",
    "    for t in t_split:\n",
    "        tokens.add(t)\n",
    "        \n",
    "\n",
    "for i in range(len(valid_set)):\n",
    "\n",
    "    t_split = valid_set[i][0]\n",
    "    \n",
    "    for t in t_split:\n",
    "        tokens.add(t)"
   ]
  },
  {
   "cell_type": "code",
   "execution_count": 59,
   "metadata": {
    "collapsed": true
   },
   "outputs": [],
   "source": [
    "token2id = defaultdict(int)\n",
    "count = 0\n",
    "for t in tokens:\n",
    "    token2id[t] = count\n",
    "    count += 1"
   ]
  },
  {
   "cell_type": "code",
   "execution_count": 60,
   "metadata": {
    "collapsed": true
   },
   "outputs": [],
   "source": [
    "def get_sent2id(sentence):\n",
    "    \n",
    "    sentence2id = []\n",
    "    \n",
    "    for s in sentence:\n",
    "        sentence2id.append(token2id[s])\n",
    "        \n",
    "    return sentence2id"
   ]
  },
  {
   "cell_type": "code",
   "execution_count": 61,
   "metadata": {
    "collapsed": true
   },
   "outputs": [],
   "source": [
    "with open('token2id.json', 'w') as file:\n",
    "    json.dump(token2id, file)"
   ]
  },
  {
   "cell_type": "code",
   "execution_count": 66,
   "metadata": {
    "collapsed": true
   },
   "outputs": [],
   "source": [
    "with open('token2id.json', 'r') as file:\n",
    "    token2id = json.load(file)"
   ]
  },
  {
   "cell_type": "code",
   "execution_count": 67,
   "metadata": {},
   "outputs": [
    {
     "data": {
      "text/plain": [
       "2596"
      ]
     },
     "execution_count": 67,
     "metadata": {},
     "output_type": "execute_result"
    }
   ],
   "source": [
    "token2id['taken']"
   ]
  },
  {
   "cell_type": "code",
   "execution_count": 80,
   "metadata": {},
   "outputs": [
    {
     "name": "stdout",
     "output_type": "stream",
     "text": [
      "epoch, total loss, average loss, duration\n",
      "0 69.53411465883255 0.695341146588 0:00:00.399789\n",
      "1 69.475761115551 0.695049378872 0:00:00.391298\n",
      "2 69.42029881477356 0.694767248631 0:00:00.392310\n",
      "3 69.38069915771484 0.694527184367 0:00:00.394800\n",
      "4 69.33786725997925 0.694297482014 0:00:00.394162\n",
      "5 69.28702795505524 0.694059614937 0:00:00.394378\n",
      "6 69.24094641208649 0.693823879106 0:00:00.393356\n",
      "7 69.1935384273529 0.693587817252 0:00:00.392247\n",
      "8 69.14335262775421 0.693348451588 0:00:00.399479\n",
      "9 69.09582996368408 0.693109436393 0:00:00.411528\n"
     ]
    },
    {
     "ename": "KeyboardInterrupt",
     "evalue": "",
     "output_type": "error",
     "traceback": [
      "\u001b[0;31m---------------------------------------------------------------------------\u001b[0m",
      "\u001b[0;31mKeyboardInterrupt\u001b[0m                         Traceback (most recent call last)",
      "\u001b[0;32m<ipython-input-80-adc03ceeda30>\u001b[0m in \u001b[0;36m<module>\u001b[0;34m()\u001b[0m\n\u001b[1;32m     59\u001b[0m \u001b[0;34m\u001b[0m\u001b[0m\n\u001b[1;32m     60\u001b[0m         \u001b[0mloss\u001b[0m \u001b[0;34m=\u001b[0m \u001b[0mloss_fn\u001b[0m\u001b[0;34m(\u001b[0m\u001b[0msoft_output\u001b[0m\u001b[0;34m.\u001b[0m\u001b[0mview\u001b[0m\u001b[0;34m(\u001b[0m\u001b[0;36m1\u001b[0m\u001b[0;34m,\u001b[0m\u001b[0;34m-\u001b[0m\u001b[0;36m1\u001b[0m\u001b[0;34m)\u001b[0m\u001b[0;34m,\u001b[0m \u001b[0mclass_sent\u001b[0m\u001b[0;34m)\u001b[0m\u001b[0;34m\u001b[0m\u001b[0m\n\u001b[0;32m---> 61\u001b[0;31m         \u001b[0mloss\u001b[0m\u001b[0;34m.\u001b[0m\u001b[0mbackward\u001b[0m\u001b[0;34m(\u001b[0m\u001b[0;34m)\u001b[0m\u001b[0;34m\u001b[0m\u001b[0m\n\u001b[0m\u001b[1;32m     62\u001b[0m \u001b[0;34m\u001b[0m\u001b[0m\n\u001b[1;32m     63\u001b[0m         \u001b[0moptimizer\u001b[0m\u001b[0;34m.\u001b[0m\u001b[0mstep\u001b[0m\u001b[0;34m(\u001b[0m\u001b[0;34m)\u001b[0m\u001b[0;34m\u001b[0m\u001b[0m\n",
      "\u001b[0;32m~/anaconda3/lib/python3.6/site-packages/torch/tensor.py\u001b[0m in \u001b[0;36mbackward\u001b[0;34m(self, gradient, retain_graph, create_graph)\u001b[0m\n\u001b[1;32m     91\u001b[0m                 \u001b[0mproducts\u001b[0m\u001b[0;34m.\u001b[0m \u001b[0mDefaults\u001b[0m \u001b[0mto\u001b[0m\u001b[0;31m \u001b[0m\u001b[0;31m`\u001b[0m\u001b[0;31m`\u001b[0m\u001b[0;32mFalse\u001b[0m\u001b[0;31m`\u001b[0m\u001b[0;31m`\u001b[0m\u001b[0;34m.\u001b[0m\u001b[0;34m\u001b[0m\u001b[0m\n\u001b[1;32m     92\u001b[0m         \"\"\"\n\u001b[0;32m---> 93\u001b[0;31m         \u001b[0mtorch\u001b[0m\u001b[0;34m.\u001b[0m\u001b[0mautograd\u001b[0m\u001b[0;34m.\u001b[0m\u001b[0mbackward\u001b[0m\u001b[0;34m(\u001b[0m\u001b[0mself\u001b[0m\u001b[0;34m,\u001b[0m \u001b[0mgradient\u001b[0m\u001b[0;34m,\u001b[0m \u001b[0mretain_graph\u001b[0m\u001b[0;34m,\u001b[0m \u001b[0mcreate_graph\u001b[0m\u001b[0;34m)\u001b[0m\u001b[0;34m\u001b[0m\u001b[0m\n\u001b[0m\u001b[1;32m     94\u001b[0m \u001b[0;34m\u001b[0m\u001b[0m\n\u001b[1;32m     95\u001b[0m     \u001b[0;32mdef\u001b[0m \u001b[0mregister_hook\u001b[0m\u001b[0;34m(\u001b[0m\u001b[0mself\u001b[0m\u001b[0;34m,\u001b[0m \u001b[0mhook\u001b[0m\u001b[0;34m)\u001b[0m\u001b[0;34m:\u001b[0m\u001b[0;34m\u001b[0m\u001b[0m\n",
      "\u001b[0;32m~/anaconda3/lib/python3.6/site-packages/torch/autograd/__init__.py\u001b[0m in \u001b[0;36mbackward\u001b[0;34m(tensors, grad_tensors, retain_graph, create_graph, grad_variables)\u001b[0m\n\u001b[1;32m     87\u001b[0m     Variable._execution_engine.run_backward(\n\u001b[1;32m     88\u001b[0m         \u001b[0mtensors\u001b[0m\u001b[0;34m,\u001b[0m \u001b[0mgrad_tensors\u001b[0m\u001b[0;34m,\u001b[0m \u001b[0mretain_graph\u001b[0m\u001b[0;34m,\u001b[0m \u001b[0mcreate_graph\u001b[0m\u001b[0;34m,\u001b[0m\u001b[0;34m\u001b[0m\u001b[0m\n\u001b[0;32m---> 89\u001b[0;31m         allow_unreachable=True)  # allow_unreachable flag\n\u001b[0m\u001b[1;32m     90\u001b[0m \u001b[0;34m\u001b[0m\u001b[0m\n\u001b[1;32m     91\u001b[0m \u001b[0;34m\u001b[0m\u001b[0m\n",
      "\u001b[0;31mKeyboardInterrupt\u001b[0m: "
     ]
    }
   ],
   "source": [
    "class BlindLSTM(nn.Module):\n",
    "    def __init__(self, vocab_size, embedding_dim):\n",
    "        super(BlindLSTM, self).__init__()\n",
    "        \n",
    "        self.vocab_size = vocab_size\n",
    "        self.embedding_dim = embedding_dim\n",
    "        \n",
    "        self.embeddings = nn.Embedding(self.vocab_size, self.embedding_dim)\n",
    "        \n",
    "        self.LSTM = nn.LSTM(self.embedding_dim, self.embedding_dim, bidirectional=False)\n",
    "        \n",
    "        self.affine = nn.Linear(self.embedding_dim, 2)\n",
    "        \n",
    "        \n",
    "            \n",
    "    def init_hidden(self):\n",
    "        return(Variable(torch.zeros(1,1,self.embedding_dim)), Variable(torch.zeros(1,1,self.embedding_dim, requires_grad=True)))\n",
    "        \n",
    "    def forward(self, sentence, hidden):\n",
    "\n",
    "        embeddings = self.embeddings(sentence)\n",
    "\n",
    "        output, new_hidden = self.LSTM(embeddings.view(len(sentence), 1, -1), hidden)\n",
    "\n",
    "        xi = self.affine(output[-1])\n",
    "        xi = F.relu(xi)\n",
    "        xi = F.softmax(xi, dim = 1)\n",
    "        return xi, new_hidden\n",
    "    \n",
    "\n",
    "epochs = 100\n",
    "learning_rate = 0.01\n",
    "portion = 100 #len(train_set)\n",
    "embedding_dim = 100\n",
    "vocab_size = len(token2id)\n",
    "#batch_size = 100\n",
    "\n",
    "model = BlindLSTM(vocab_size, embedding_dim)\n",
    "optimizer = optim.SGD(model.parameters(), lr = learning_rate)\n",
    "loss_fn = nn.CrossEntropyLoss()\n",
    "\n",
    "losses = []\n",
    "avg_losses = []\n",
    "\n",
    "print('epoch, total loss, average loss, duration')\n",
    "for e in range(epochs):\n",
    "    \n",
    "    then = datetime.now()\n",
    "    \n",
    "    total_loss = 0.0\n",
    "    \n",
    "    for b in range(portion):\n",
    "\n",
    "        sent2id = get_sent2id(train_set[b][0])\n",
    "        sentence = Variable(torch.tensor(np.asarray(sent2id), dtype= torch.long))\n",
    "        class_sent = Variable(torch.tensor(np.asarray(train_set[b][1]), dtype= torch.long).view(1))\n",
    "\n",
    "        soft_output, new_hidden = model(sentence, model.init_hidden())\n",
    "\n",
    "        optimizer.zero_grad()\n",
    "\n",
    "        loss = loss_fn(soft_output.view(1,-1), class_sent)\n",
    "        loss.backward()\n",
    "\n",
    "        optimizer.step()\n",
    "\n",
    "        total_loss += loss.item() \n",
    "    \n",
    "    \n",
    "    now = datetime.now()\n",
    "        \n",
    "    losses.append(total_loss)\n",
    "    \n",
    "    avg_loss = np.mean(losses)/portion\n",
    "    \n",
    "    print(e, total_loss, avg_loss, now-then)\n",
    "    \n",
    "    avg_losses.append(avg_loss)\n",
    "    \n",
    "with open('model_blind_lstm' + str(portion) + '.pickle','wb') as file:\n",
    "    pickle.dump(model,file)\n",
    "      \n",
    "iteration= list(range(len(avg_losses)))\n",
    "\n",
    "plt.plot(iteration, avg_losses)\n",
    "plt.xlabel(\"Iterations for Blind LSTM\")\n",
    "plt.ylabel('Average loss')\n",
    "plt.title('Evolution of the loss as a function of the iteration')\n",
    "plt.savefig(\"Blind LSTM\" + str(portion)+\".png\")\n",
    "plt.show()\n",
    "\n",
    "with torch.no_grad():\n",
    "    sent = train_set[0][0]\n",
    "    class_sent = train_set[0][1]\n",
    "    \n",
    "    sent2id = get_sent2id(sent)\n",
    "    sentence = torch.tensor(np.asarray(sent2id), dtype= torch.long)\n",
    "    class_sent = torch.tensor(np.asarray(class_sent), dtype= torch.long).view(1)\n",
    "\n",
    "    soft, hidden = model(sentence, model.init_hidden())\n",
    "    print(sent, class_sent)\n",
    "    print(soft.view(1,-1), class_sent)\n"
   ]
  },
  {
   "cell_type": "code",
   "execution_count": null,
   "metadata": {
    "collapsed": true
   },
   "outputs": [],
   "source": [
    "with torch.no_grad():\n",
    "    count = 0\n",
    "    \n",
    "    for t in range(len(train_set)):\n",
    "        sent = train_set[t][0]\n",
    "        class_sent = train_set[t][1]\n",
    "\n",
    "        sent2id = get_sent2id(sent)\n",
    "        sentence = torch.tensor(np.asarray(sent2id), dtype= torch.long)\n",
    "        class_sent = torch.tensor(np.asarray(class_sent), dtype= torch.long).view(1)\n",
    "\n",
    "        soft, hidden = model(sentence, model.init_hidden())\n",
    "        pred = torch.argmax(soft.view(1,-1))\n",
    "#         print(sent, class_sent)\n",
    "#         print(pred, soft.view(1,-1), class_sent)\n",
    "\n",
    "       # if \n",
    "        if pred == class_sent:\n",
    "            count += 1\n",
    "    \n",
    "    print('acc_train', count/len(train_set))"
   ]
  },
  {
   "cell_type": "code",
   "execution_count": 78,
   "metadata": {},
   "outputs": [
    {
     "name": "stdout",
     "output_type": "stream",
     "text": [
      "acc_test 0.5139826422372228\n"
     ]
    }
   ],
   "source": [
    "with torch.no_grad():\n",
    "    count = 0\n",
    "    \n",
    "    for t in range(len(test_set)):\n",
    "        sent = test_set[t][0]\n",
    "        class_sent = test_set[t][1]\n",
    "\n",
    "        sent2id = get_sent2id(sent)\n",
    "        sentence = torch.tensor(np.asarray(sent2id), dtype= torch.long)\n",
    "        class_sent = torch.tensor(np.asarray(class_sent), dtype= torch.long).view(1)\n",
    "\n",
    "        soft, hidden = model(sentence, model.init_hidden())\n",
    "        pred = torch.argmax(soft.view(1,-1))\n",
    "#         print(sent, class_sent)\n",
    "#         print(pred, soft.view(1,-1), class_sent)\n",
    "\n",
    "       # if \n",
    "        if pred == class_sent:\n",
    "            count += 1\n",
    "    \n",
    "    print('acc_test', count/len(test_set))"
   ]
  },
  {
   "cell_type": "code",
   "execution_count": 79,
   "metadata": {},
   "outputs": [
    {
     "name": "stdout",
     "output_type": "stream",
     "text": [
      "acc_valid 0.4955325232308792\n"
     ]
    }
   ],
   "source": [
    "with torch.no_grad():\n",
    "    count = 0\n",
    "    \n",
    "    for t in range(len(valid_set)):\n",
    "        sent = valid_set[t][0]\n",
    "        class_sent = valid_set[t][1]\n",
    "\n",
    "        sent2id = get_sent2id(sent)\n",
    "        sentence = torch.tensor(np.asarray(sent2id), dtype= torch.long)\n",
    "        class_sent = torch.tensor(np.asarray(class_sent), dtype= torch.long).view(1)\n",
    "\n",
    "        soft, hidden = model(sentence, model.init_hidden())\n",
    "        pred = torch.argmax(soft.view(1,-1))\n",
    "#         print(sent, class_sent)\n",
    "#         print(pred, soft.view(1,-1), class_sent)\n",
    "\n",
    "       # if \n",
    "        if pred == class_sent:\n",
    "            count += 1\n",
    "    \n",
    "    print('acc_valid', count/len(valid_set))"
   ]
  },
  {
   "cell_type": "code",
   "execution_count": null,
   "metadata": {
    "collapsed": true
   },
   "outputs": [],
   "source": []
  }
 ],
 "metadata": {
  "kernelspec": {
   "display_name": "Python [default]",
   "language": "python",
   "name": "python3"
  },
  "language_info": {
   "codemirror_mode": {
    "name": "ipython",
    "version": 3
   },
   "file_extension": ".py",
   "mimetype": "text/x-python",
   "name": "python",
   "nbconvert_exporter": "python",
   "pygments_lexer": "ipython3",
   "version": "3.6.3"
  }
 },
 "nbformat": 4,
 "nbformat_minor": 2
}
