{
 "cells": [
  {
   "cell_type": "code",
   "execution_count": 311,
   "metadata": {
    "collapsed": true
   },
   "outputs": [],
   "source": [
    "import json\n",
    "import numpy as np\n",
    "import matplotlib.pyplot as plt\n",
    "from collections import Counter\n",
    "from collections import defaultdict\n",
    "import pandas as pd\n",
    "from scipy.stats import pearsonr\n",
    "from scipy.stats import spearmanr\n",
    "from scipy import stats\n",
    "\n",
    "from nltk.tokenize import TweetTokenizer\n",
    "tknzr = TweetTokenizer(preserve_case=False)\n",
    "from nltk.stem import WordNetLemmatizer\n",
    "wordnet_lemmatizer = WordNetLemmatizer()\n"
   ]
  },
  {
   "cell_type": "code",
   "execution_count": 142,
   "metadata": {
    "collapsed": true
   },
   "outputs": [],
   "source": [
    "with open('model_gw_frozen_N2N_SL.json', 'r') as f:\n",
    "    results_gw_frozen_SL = json.load(f)\n",
    "    \n",
    "with open('model_gw_finetune_SL.json', 'r') as f:\n",
    "    results_gw_finetune_SL = json.load(f)\n",
    "    \n",
    "with open('model_VQA_frozen_HCA.json', 'r') as f:\n",
    "    results_vqa_frozen = json.load(f)"
   ]
  },
  {
   "cell_type": "code",
   "execution_count": 143,
   "metadata": {
    "collapsed": true
   },
   "outputs": [],
   "source": [
    "with open('foilGWVQA.train.json', 'r') as f:\n",
    "    train = json.load(f)\n",
    "    \n",
    "with open('foilGWVQA.test.json', 'r') as f:\n",
    "    test = json.load(f)\n",
    "    \n",
    "with open('foilGWVQA.val.json', 'r') as f:\n",
    "    val = json.load(f)"
   ]
  },
  {
   "cell_type": "code",
   "execution_count": 144,
   "metadata": {
    "collapsed": true
   },
   "outputs": [],
   "source": [
    "with open('cocoObject_target.txt', 'r') as f:\n",
    "    foil_categories = [l.split()[0] for l in f.readlines()]"
   ]
  },
  {
   "cell_type": "code",
   "execution_count": 145,
   "metadata": {},
   "outputs": [
    {
     "name": "stdout",
     "output_type": "stream",
     "text": [
      "['airplane', 'apple', 'backpack', 'ball', 'banana', 'bat', 'bear', 'bed', 'bench', 'bicycle', 'bird', 'boat', 'book', 'bottle', 'bowl', 'broccoli', 'bus', 'cake', 'car', 'carrot', 'cat', 'chair', 'clock', 'couch', 'cow', 'cup', 'dog', 'donut', 'drier', 'elephant', 'fork', 'frisbee', 'giraffe', 'glass', 'glove', 'handbag', 'horse', 'hydrant', 'keyboard', 'kite', 'knife', 'laptop', 'microwave', 'motorcycle', 'mouse', 'orange', 'oven', 'phone', 'pizza', 'racket', 'refrigerator', 'remote', 'sandwich', 'scissors', 'sheep', 'sink', 'skateboard', 'skis', 'snowboard', 'spoon', 'suitcase', 'surfboard', 'table', 'tie', 'toaster', 'toilet', 'toothbrush', 'train', 'truck', 'tv', 'umbrella', 'vase', 'zebra']\n"
     ]
    }
   ],
   "source": [
    "print(foil_categories)"
   ]
  },
  {
   "cell_type": "code",
   "execution_count": 146,
   "metadata": {
    "collapsed": true
   },
   "outputs": [],
   "source": [
    "#for object areas and object counts in images\n",
    "with open(\"annotations_trainval/instances_val2017.json\") as in_file:\n",
    "    instances_val = json.load(in_file)"
   ]
  },
  {
   "cell_type": "code",
   "execution_count": 147,
   "metadata": {
    "collapsed": true
   },
   "outputs": [],
   "source": [
    "#for object areas and object counts in images\n",
    "with open(\"annotations_trainval/instances_train2017.json\") as in_file:\n",
    "    instances_train = json.load(in_file)"
   ]
  },
  {
   "cell_type": "code",
   "execution_count": 201,
   "metadata": {},
   "outputs": [
    {
     "data": {
      "text/plain": [
       "dict_keys(['info', 'licenses', 'images', 'annotations', 'categories'])"
      ]
     },
     "execution_count": 201,
     "metadata": {},
     "output_type": "execute_result"
    }
   ],
   "source": [
    "instances_train.keys()"
   ]
  },
  {
   "cell_type": "code",
   "execution_count": 204,
   "metadata": {},
   "outputs": [],
   "source": [
    "instances_all = defaultdict(list)\n",
    "instances_all['categories'] = instances_train['categories']\n",
    "\n",
    "for i in instances_val['annotations']:\n",
    "    instances_all['annotations'].append(i)\n",
    "    \n",
    "for i in instances_train['annotations']:\n",
    "    instances_all['annotations'].append(i)"
   ]
  },
  {
   "cell_type": "code",
   "execution_count": 205,
   "metadata": {
    "collapsed": true
   },
   "outputs": [],
   "source": [
    "def get_category_lookup(instances_set):\n",
    "    \n",
    "    category_lookup = defaultdict(lambda: defaultdict(str))\n",
    "    \n",
    "    for cat in instances_all['categories']:\n",
    "        \n",
    "        category_lookup[cat['id']] = {'name':cat['name'], 'supercategory':cat['supercategory']}\n",
    "    \n",
    "    return category_lookup"
   ]
  },
  {
   "cell_type": "code",
   "execution_count": 206,
   "metadata": {
    "collapsed": true
   },
   "outputs": [],
   "source": [
    "category_lookup = get_category_lookup(instances_all)"
   ]
  },
  {
   "cell_type": "code",
   "execution_count": 207,
   "metadata": {
    "collapsed": true
   },
   "outputs": [],
   "source": [
    "def get_image_object_instances(instances_set):\n",
    "    \n",
    "    instances = defaultdict(set)\n",
    "    \n",
    "    for inst in instances_set['annotations']:\n",
    "        category_name_supcat = category_lookup[inst['category_id']]\n",
    "        instances[inst['image_id']].add(category_name_supcat['name'])\n",
    "        \n",
    "    return instances"
   ]
  },
  {
   "cell_type": "code",
   "execution_count": 208,
   "metadata": {},
   "outputs": [
    {
     "name": "stdout",
     "output_type": "stream",
     "text": [
      "{'segmentation': [[510.66, 423.01, 511.72, 420.03, 510.45, 416.0, 510.34, 413.02, 510.77, 410.26, 510.77, 407.5, 510.34, 405.16, 511.51, 402.83, 511.41, 400.49, 510.24, 398.16, 509.39, 397.31, 504.61, 399.22, 502.17, 399.64, 500.89, 401.66, 500.47, 402.08, 499.09, 401.87, 495.79, 401.98, 490.59, 401.77, 488.79, 401.77, 485.39, 398.58, 483.9, 397.31, 481.56, 396.35, 478.48, 395.93, 476.68, 396.03, 475.4, 396.77, 473.92, 398.79, 473.28, 399.96, 473.49, 401.87, 474.56, 403.47, 473.07, 405.59, 473.39, 407.71, 476.68, 409.41, 479.23, 409.73, 481.56, 410.69, 480.4, 411.85, 481.35, 414.93, 479.86, 418.65, 477.32, 420.03, 476.04, 422.58, 479.02, 422.58, 480.29, 423.01, 483.79, 419.93, 486.66, 416.21, 490.06, 415.57, 492.18, 416.85, 491.65, 420.24, 492.82, 422.9, 493.56, 424.39, 496.43, 424.6, 498.02, 423.01, 498.13, 421.31, 497.07, 420.03, 497.07, 415.15, 496.33, 414.51, 501.1, 411.96, 502.06, 411.32, 503.02, 415.04, 503.33, 418.12, 501.1, 420.24, 498.98, 421.63, 500.47, 424.39, 505.03, 423.32, 506.2, 421.31, 507.69, 419.5, 506.31, 423.32, 510.03, 423.01, 510.45, 423.01]], 'area': 702.1057499999998, 'iscrowd': 0, 'image_id': 289343, 'bbox': [473.07, 395.93, 38.65, 28.67], 'category_id': 18, 'id': 1768}\n"
     ]
    }
   ],
   "source": [
    "print(instances_all['annotations'][0])"
   ]
  },
  {
   "cell_type": "code",
   "execution_count": 210,
   "metadata": {},
   "outputs": [
    {
     "name": "stdout",
     "output_type": "stream",
     "text": [
      "58 2765.1486500000005\n",
      "44 3193.2059999999997\n",
      "44 1600.3732500000003\n",
      "47 4314.179250000001\n",
      "1 66127.9536\n",
      "44 1234.5397500000004\n",
      "50 466.50930000000074\n",
      "1 9611.7572\n",
      "44 1548.8500999999994\n",
      "67 18689.786450000014\n",
      "50 564.4570999999984\n"
     ]
    }
   ],
   "source": [
    "for inst in instances_all['annotations']:\n",
    "    if inst['image_id'] == 558840:\n",
    "        print(inst['category_id'],inst['area'])"
   ]
  },
  {
   "cell_type": "code",
   "execution_count": 211,
   "metadata": {
    "collapsed": true
   },
   "outputs": [],
   "source": [
    "train_object_instances = get_image_object_instances(instances_all)"
   ]
  },
  {
   "cell_type": "code",
   "execution_count": 212,
   "metadata": {},
   "outputs": [
    {
     "data": {
      "text/plain": [
       "{'bottle', 'cup', 'dining table', 'hot dog', 'person', 'spoon'}"
      ]
     },
     "execution_count": 212,
     "metadata": {},
     "output_type": "execute_result"
    }
   ],
   "source": [
    "train_object_instances[558840]"
   ]
  },
  {
   "cell_type": "code",
   "execution_count": 406,
   "metadata": {
    "collapsed": true
   },
   "outputs": [],
   "source": [
    "#method to obtain the foil accuracy, original accuracy and overall accuracy\n",
    "\n",
    "def get_foil_orig_overall_acc(results):\n",
    "    \n",
    "    #foil and original sentence accuracies separately\n",
    "    \n",
    "    foil_correct = 0\n",
    "    orig_correct = 0 \n",
    "    foil_incorrect = 0\n",
    "    orig_incorrect = 0\n",
    "    \n",
    "    all_foil = 0\n",
    "    all_orig = 0\n",
    "    res_size = len(results)\n",
    "    \n",
    "    for r in results:\n",
    "        res_split = r.split('_')\n",
    "        if res_split[1] == '0':\n",
    "            all_orig += 1\n",
    "            \n",
    "            if results[r]['answer'] == 'ORIG':\n",
    "                #original sentence & correct answer\n",
    "                orig_correct += 1\n",
    "            else:\n",
    "                orig_incorrect += 1\n",
    "        \n",
    "        elif res_split[1] != '0': \n",
    "            all_foil += 1            \n",
    "            if results[r]['answer'] == 'FOIL':\n",
    "                #foil sentence & correct answer\n",
    "                foil_correct += 1     \n",
    "            else:\n",
    "                foil_incorrect += 1   \n",
    "            \n",
    "    print('All foil', all_foil, 'All original', all_orig, 'All', res_size)\n",
    "    all_sum = orig_correct + foil_correct + orig_incorrect + foil_incorrect\n",
    "    print('OC',orig_correct, 'FC',foil_correct, 'OI',orig_incorrect, 'FI', foil_incorrect, 'All',all_sum)\n",
    "    \n",
    "    pred_info = {'oc': orig_correct, 'fc':foil_correct, 'oi': orig_incorrect, 'fi':foil_incorrect, }\n",
    "    \n",
    "    return foil_correct/all_foil, orig_correct/all_orig, (foil_correct + orig_correct)/res_size, pred_info"
   ]
  },
  {
   "cell_type": "code",
   "execution_count": 407,
   "metadata": {},
   "outputs": [
    {
     "name": "stdout",
     "output_type": "stream",
     "text": [
      "All foil 5185 All original 5185 All 10370\n",
      "OC 3793 FC 2207 OI 1392 FI 2978 All 10370\n",
      "GW_Frozen_SL 0.42565091610414657 0.731533269045323 0.5785920925747348\n"
     ]
    }
   ],
   "source": [
    "foil_acc_gw_frozen_SL, orig_acc_gw_frozen_SL, overall_acc_gw_frozen_SL, pred_dict_gw_frozen_SL = get_foil_orig_overall_acc(results_gw_frozen_SL)\n",
    "print('GW_Frozen_SL', foil_acc_gw_frozen_SL, orig_acc_gw_frozen_SL, overall_acc_gw_frozen_SL)"
   ]
  },
  {
   "cell_type": "code",
   "execution_count": 408,
   "metadata": {},
   "outputs": [
    {
     "name": "stdout",
     "output_type": "stream",
     "text": [
      "All foil 5185 All original 5185 All 10370\n",
      "OC 4366 FC 2166 OI 819 FI 3019 All 10370\n",
      "GW_Finetune_SL 0.4177434908389585 0.8420443587270974 0.629893924783028\n"
     ]
    }
   ],
   "source": [
    "foil_acc_gw_fine_SL, orig_acc_gw_fine_SL, overall_acc_gw_fine_SL,pred_dict_gw_fine_SL = get_foil_orig_overall_acc(results_gw_finetune_SL)\n",
    "print('GW_Finetune_SL', foil_acc_gw_fine_SL, orig_acc_gw_fine_SL, overall_acc_gw_fine_SL)"
   ]
  },
  {
   "cell_type": "code",
   "execution_count": 409,
   "metadata": {},
   "outputs": [
    {
     "name": "stdout",
     "output_type": "stream",
     "text": [
      "All foil 5185 All original 5185 All 10370\n",
      "OC 3565 FC 1644 OI 1620 FI 3541 All 10370\n",
      "VQA_FROZEN 0.3170684667309547 0.6875602700096431 0.502314368370299\n"
     ]
    }
   ],
   "source": [
    "foil_acc_vqa_frozen, orig_acc_vqa_frozen, overall_vqa_frozen, pred_dict_vqa_frozen= get_foil_orig_overall_acc(results_vqa_frozen)\n",
    "print('VQA_FROZEN', foil_acc_vqa_frozen, orig_acc_vqa_frozen, overall_vqa_frozen)"
   ]
  },
  {
   "cell_type": "code",
   "execution_count": 411,
   "metadata": {},
   "outputs": [],
   "source": [
    "def get_precision_recall(pred_dict):\n",
    "\n",
    "    '''oc = original correct\n",
    "    fc = foil correct\n",
    "    oi = original incorrect\n",
    "    fi = foil incorrect'''\n",
    "    \n",
    "    oc = pred_dict['oc']\n",
    "    fc = pred_dict['fc']\n",
    "    \n",
    "    oi = pred_dict['oi']\n",
    "    fi = pred_dict['fi']\n",
    "    \n",
    "    precision_f = fc / (fc + fi)\n",
    "    precision_o = oc /(oc + oi)\n",
    "    \n",
    "    recall_f = fc / (fc + oi)\n",
    "    recall_o = oc / (oc + fi)\n",
    "\n",
    "    return precision_f,precision_o, recall_f, recall_o"
   ]
  },
  {
   "cell_type": "code",
   "execution_count": 413,
   "metadata": {},
   "outputs": [
    {
     "name": "stdout",
     "output_type": "stream",
     "text": [
      "Prec-rec FROZEN GW: 0.42565091610414657 0.731533269045323 0.6132258960822451 0.5601831339536257\n",
      "Prec-rec FINE GW: 0.4177434908389585 0.8420443587270974 0.7256281407035176 0.591198375084631\n",
      "Prec-rec FROZEN VQA: 0.3170684667309547 0.6875602700096431 0.5036764705882353 0.5016887137630172\n"
     ]
    }
   ],
   "source": [
    "precision_f,precision_o, recall_f, recall_o = get_precision_recall(pred_dict_gw_frozen_SL)\n",
    "print('Prec-rec FROZEN GW:', precision_f,precision_o, recall_f, recall_o)\n",
    "\n",
    "precision_f,precision_o, recall_f, recall_o = get_precision_recall(pred_dict_gw_fine_SL)\n",
    "print('Prec-rec FINE GW:', precision_f,precision_o, recall_f, recall_o)\n",
    "\n",
    "precision_f,precision_o, recall_f, recall_o = get_precision_recall(pred_dict_vqa_frozen)\n",
    "print('Prec-rec FROZEN VQA:', precision_f,precision_o, recall_f, recall_o)"
   ]
  },
  {
   "cell_type": "code",
   "execution_count": 216,
   "metadata": {},
   "outputs": [
    {
     "name": "stdout",
     "output_type": "stream",
     "text": [
      "10370\n"
     ]
    }
   ],
   "source": [
    "captions_per_changeid = defaultdict()\n",
    "set2captions = test\n",
    "\n",
    "#dictionary that takes change_id and returns caption\n",
    "#from the given set\n",
    "\n",
    "for t in set2captions['annotations']:\n",
    "    if 'Original' in t['change_id']:\n",
    "        id_bits = '0_'+ str(t['id'])\n",
    "        captions_per_changeid[id_bits] = t['caption']\n",
    "    else:\n",
    "        captions_per_changeid[t['change_id']] = t['caption']\n",
    "        \n",
    "print(len(captions_per_changeid))"
   ]
  },
  {
   "cell_type": "code",
   "execution_count": 217,
   "metadata": {},
   "outputs": [
    {
     "data": {
      "text/plain": [
       "{'annType': 'vehicle',\n",
       " 'caption': 'the shiny bicycle is being shown on a display.',\n",
       " 'change_id': '420932_1',\n",
       " 'foilWord': 'bicycle',\n",
       " 'id': 420932,\n",
       " 'image_id': 251252,\n",
       " 'presence': 'FOIL-NOTPRESENT',\n",
       " 'similarity': '0',\n",
       " 'source': 'COCO_SuperCatergory',\n",
       " 'targetWord': 'motorcycle',\n",
       " 'type': 'COCO'}"
      ]
     },
     "execution_count": 217,
     "metadata": {},
     "output_type": "execute_result"
    }
   ],
   "source": [
    "test['annotations'][7]"
   ]
  },
  {
   "cell_type": "code",
   "execution_count": 218,
   "metadata": {},
   "outputs": [
    {
     "name": "stdout",
     "output_type": "stream",
     "text": [
      "10370\n"
     ]
    }
   ],
   "source": [
    "captions_per_compound_id = defaultdict()\n",
    "set2captions = test\n",
    "\n",
    "#dictionary that takes image id and change_id and returns caption\n",
    "#from the given set\n",
    "\n",
    "for t in set2captions['annotations']:\n",
    "    if 'Original' in t['change_id']:\n",
    "        id_bits = str(t['image_id']) + '_0_'+ str(t['id'])\n",
    "        captions_per_compound_id[id_bits] = t['caption']\n",
    "    else:\n",
    "        id_bits = str(t['image_id']) + '_'+ str(t['change_id'])\n",
    "        captions_per_compound_id[id_bits] = t['caption']\n",
    "        \n",
    "print(len(captions_per_compound_id))"
   ]
  },
  {
   "cell_type": "code",
   "execution_count": 219,
   "metadata": {
    "collapsed": true
   },
   "outputs": [],
   "source": [
    "length2captions = defaultdict(list)\n",
    "\n",
    "#gets a length and returns all the change_ids for captions of the given length\n",
    "\n",
    "for c in captions_per_compound_id:\n",
    "    caption = captions_per_compound_id[c]\n",
    "    caption = tknzr.tokenize(caption)\n",
    "    length2captions[len(caption)].append(c)    "
   ]
  },
  {
   "cell_type": "code",
   "execution_count": 220,
   "metadata": {},
   "outputs": [
    {
     "name": "stdout",
     "output_type": "stream",
     "text": [
      "dict_keys([12, 9, 10, 13, 11, 22, 14, 19, 16, 18, 8, 15, 17, 7, 24, 20, 23, 21, 25, 29, 31, 26, 28, 41, 27, 30])\n",
      "26\n"
     ]
    }
   ],
   "source": [
    "print(length2captions.keys())\n",
    "print(len(length2captions.keys()))"
   ]
  },
  {
   "cell_type": "code",
   "execution_count": 221,
   "metadata": {},
   "outputs": [
    {
     "data": {
      "text/plain": [
       "['32677_0_25859',\n",
       " '32677_25859_29',\n",
       " '310915_0_747060',\n",
       " '310915_747060_2',\n",
       " '415073_0_512517',\n",
       " '415073_512517_5',\n",
       " '127170_0_144527',\n",
       " '127170_144527_11']"
      ]
     },
     "execution_count": 221,
     "metadata": {},
     "output_type": "execute_result"
    }
   ],
   "source": [
    "length2captions[25]"
   ]
  },
  {
   "cell_type": "code",
   "execution_count": 274,
   "metadata": {},
   "outputs": [
    {
     "name": "stdout",
     "output_type": "stream",
     "text": [
      "12 1554\n",
      "9 1484\n",
      "10 2134\n",
      "13 1006\n",
      "11 2066\n",
      "22 24\n",
      "14 650\n",
      "19 44\n",
      "16 202\n",
      "18 74\n",
      "8 424\n",
      "15 420\n",
      "17 128\n",
      "7 40\n",
      "24 12\n",
      "20 36\n",
      "23 10\n",
      "21 28\n",
      "25 8\n",
      "29 2\n",
      "31 2\n",
      "26 10\n",
      "28 4\n",
      "41 2\n",
      "27 2\n",
      "30 4\n"
     ]
    }
   ],
   "source": [
    "caption_len_distribution = []\n",
    "\n",
    "for l in length2captions:\n",
    "    count_list_sents = len(length2captions[l])\n",
    "    print(l, count_list_sents)\n",
    "    caption_len_distribution.extend([l]*count_list_sents)"
   ]
  },
  {
   "cell_type": "code",
   "execution_count": 276,
   "metadata": {},
   "outputs": [
    {
     "data": {
      "image/png": "[encoded data removed]",
      "text/plain": [
       "<matplotlib.figure.Figure at 0x7f86367a2b70>"
      ]
     },
     "metadata": {},
     "output_type": "display_data"
    }
   ],
   "source": [
    "df = pd.DataFrame(caption_len_distribution, columns=['caption len'])\n",
    "df.plot.hist(figsize=(15,15),bins = 100)\n",
    "plt.savefig('cap_len.png')\n",
    "plt.show()"
   ]
  },
  {
   "cell_type": "code",
   "execution_count": 320,
   "metadata": {},
   "outputs": [
    {
     "name": "stdout",
     "output_type": "stream",
     "text": [
      "NormaltestResult(statistic=4996.5428877496634, pvalue=0.0)\n"
     ]
    }
   ],
   "source": [
    "print(stats.normaltest(caption_len_distribution))"
   ]
  },
  {
   "cell_type": "code",
   "execution_count": 223,
   "metadata": {
    "collapsed": true
   },
   "outputs": [],
   "source": [
    "def get_caption_length_acc(results, length2captions):\n",
    "    \n",
    "    caption_lengths_accs = defaultdict(list)\n",
    "    res_size = len(results)\n",
    "    \n",
    "    for l in length2captions:\n",
    "        \n",
    "        #for all lengths\n",
    "        count = len(length2captions[l])\n",
    "            \n",
    "        foil_correct = 0\n",
    "        orig_correct = 0 \n",
    "\n",
    "        all_foil = 0\n",
    "        all_orig = 0\n",
    "\n",
    "        for c in length2captions[l]:\n",
    "            # result of that caption\n",
    "            \n",
    "            c_split = c.split('_')\n",
    "            res = results[c]\n",
    "\n",
    "            if c_split[1] == '0':\n",
    "                all_orig += 1\n",
    "                if res['answer'] == 'ORIG':\n",
    "                    orig_correct += 1\n",
    "            else:\n",
    "                all_foil += 1\n",
    "                if res['answer'] == 'FOIL':\n",
    "                    foil_correct += 1\n",
    "                    \n",
    "                    \n",
    "        caption_lengths_accs[l] = [orig_correct/all_orig, foil_correct/all_foil,(orig_correct+foil_correct)/count]\n",
    "                \n",
    "    return caption_lengths_accs"
   ]
  },
  {
   "cell_type": "code",
   "execution_count": 325,
   "metadata": {},
   "outputs": [
    {
     "name": "stdout",
     "output_type": "stream",
     "text": [
      "GW_Frozen_SL defaultdict(<class 'list'>, {12: [0.7258687258687259, 0.40540540540540543, 0.5656370656370656], 9: [0.7641509433962265, 0.4110512129380054, 0.5876010781671159], 10: [0.7488284910965324, 0.42642924086223055, 0.5876288659793815], 13: [0.73558648111332, 0.43339960238568587, 0.584493041749503], 11: [0.7386253630203291, 0.4317521781219748, 0.585188770571152], 22: [0.5833333333333334, 0.6666666666666666, 0.625], 14: [0.7046153846153846, 0.4553846153846154, 0.58], 19: [0.5909090909090909, 0.5454545454545454, 0.5681818181818182], 16: [0.6237623762376238, 0.48514851485148514, 0.5544554455445545], 18: [0.6216216216216216, 0.35135135135135137, 0.4864864864864865], 8: [0.6933962264150944, 0.419811320754717, 0.5566037735849056], 15: [0.719047619047619, 0.40476190476190477, 0.5619047619047619], 17: [0.65625, 0.5, 0.578125], 7: [0.8, 0.4, 0.6], 24: [0.5, 0.5, 0.5], 20: [0.6111111111111112, 0.3333333333333333, 0.4722222222222222], 23: [0.6, 0.8, 0.7], 21: [0.8571428571428571, 0.35714285714285715, 0.6071428571428571], 25: [0.5, 0.75, 0.625], 29: [1.0, 0.0, 0.5], 31: [0.0, 1.0, 0.5], 26: [0.6, 0.4, 0.5], 28: [0.5, 0.0, 0.25], 41: [1.0, 0.0, 0.5], 27: [0.0, 0.0, 0.0], 30: [1.0, 0.0, 0.5]})\n"
     ]
    }
   ],
   "source": [
    "caption_lengths_accs = get_caption_length_acc(results_gw_frozen_SL, length2captions)\n",
    "print('GW_Frozen_SL', caption_lengths_accs)"
   ]
  },
  {
   "cell_type": "code",
   "execution_count": 295,
   "metadata": {},
   "outputs": [
    {
     "name": "stdout",
     "output_type": "stream",
     "text": [
      "0.5656370656370656 , 0.7258687258687259 , 0.40540540540540543\n",
      "0.5876010781671159 , 0.7641509433962265 , 0.4110512129380054\n",
      "0.5876288659793815 , 0.7488284910965324 , 0.42642924086223055\n",
      "0.584493041749503 , 0.73558648111332 , 0.43339960238568587\n",
      "0.585188770571152 , 0.7386253630203291 , 0.4317521781219748\n",
      "0.625 , 0.5833333333333334 , 0.6666666666666666\n",
      "0.58 , 0.7046153846153846 , 0.4553846153846154\n",
      "0.5681818181818182 , 0.5909090909090909 , 0.5454545454545454\n",
      "0.5544554455445545 , 0.6237623762376238 , 0.48514851485148514\n",
      "0.4864864864864865 , 0.6216216216216216 , 0.35135135135135137\n",
      "0.5566037735849056 , 0.6933962264150944 , 0.419811320754717\n",
      "0.5619047619047619 , 0.719047619047619 , 0.40476190476190477\n",
      "0.578125 , 0.65625 , 0.5\n",
      "0.6 , 0.8 , 0.4\n",
      "0.5 , 0.5 , 0.5\n",
      "0.4722222222222222 , 0.6111111111111112 , 0.3333333333333333\n",
      "0.7 , 0.6 , 0.8\n",
      "0.6071428571428571 , 0.8571428571428571 , 0.35714285714285715\n",
      "0.625 , 0.5 , 0.75\n",
      "0.5 , 1.0 , 0.0\n",
      "0.5 , 0.0 , 1.0\n",
      "0.5 , 0.6 , 0.4\n",
      "0.25 , 0.5 , 0.0\n",
      "0.5 , 1.0 , 0.0\n",
      "0.0 , 0.0 , 0.0\n",
      "0.5 , 1.0 , 0.0\n"
     ]
    }
   ],
   "source": [
    "for c in caption_lengths_accs:\n",
    "    print(caption_lengths_accs[c][2],',',caption_lengths_accs[c][0],',',caption_lengths_accs[c][1])"
   ]
  },
  {
   "cell_type": "code",
   "execution_count": 326,
   "metadata": {},
   "outputs": [
    {
     "name": "stdout",
     "output_type": "stream",
     "text": [
      "Pearson's coefficient: -0.383216194404 \n",
      "p-value: 0.0533063404615\n",
      "Spearman's r: -0.474725302901 \n",
      "p-value: 0.0142647472461\n"
     ]
    }
   ],
   "source": [
    "\n",
    "list_obj_counts = list(caption_lengths_accs.keys())\n",
    "list_obj_accs = []\n",
    "\n",
    "for c in caption_lengths_accs:\n",
    "    list_obj_accs.append(caption_lengths_accs[c][2])\n",
    "    \n",
    "#correlation between the object counts in the images in the training set vs accuracy\n",
    "coef, p = pearsonr(list_obj_counts, list_obj_accs)\n",
    "print('Pearson\\'s coefficient:',coef, '\\np-value:', p)\n",
    "\n",
    "r, p = spearmanr(list_obj_counts, list_obj_accs)\n",
    "print('Spearman\\'s r:',r, '\\np-value:',p)"
   ]
  },
  {
   "cell_type": "code",
   "execution_count": 226,
   "metadata": {},
   "outputs": [
    {
     "name": "stdout",
     "output_type": "stream",
     "text": [
      "[12, 9, 10, 13, 11, 22, 14, 19, 16, 18, 8, 15, 17, 7, 24, 20, 23, 21, 25, 29, 31, 26, 28, 41, 27, 30] [0.5656370656370656, 0.5876010781671159, 0.5876288659793815, 0.584493041749503, 0.585188770571152, 0.625, 0.58, 0.5681818181818182, 0.5544554455445545, 0.4864864864864865, 0.5566037735849056, 0.5619047619047619, 0.578125, 0.6, 0.5, 0.4722222222222222, 0.7, 0.6071428571428571, 0.625, 0.5, 0.5, 0.5, 0.25, 0.5, 0.0, 0.5]\n"
     ]
    }
   ],
   "source": [
    "print(list_obj_counts, list_obj_accs)"
   ]
  },
  {
   "cell_type": "code",
   "execution_count": 330,
   "metadata": {},
   "outputs": [
    {
     "name": "stdout",
     "output_type": "stream",
     "text": [
      "GW_Fine_SL defaultdict(<class 'list'>, {12: [0.8738738738738738, 0.4375804375804376, 0.6557271557271557], 9: [0.8355795148247979, 0.4110512129380054, 0.6233153638814016], 10: [0.8397375820056232, 0.40393626991565135, 0.6218369259606373], 13: [0.827037773359841, 0.3817097415506958, 0.6043737574552683], 11: [0.846079380445305, 0.4181994191674734, 0.6321393998063891], 22: [0.75, 0.6666666666666666, 0.7083333333333334], 14: [0.8584615384615385, 0.44, 0.6492307692307693], 19: [0.9545454545454546, 0.5, 0.7272727272727273], 16: [0.801980198019802, 0.32673267326732675, 0.5643564356435643], 18: [0.8378378378378378, 0.40540540540540543, 0.6216216216216216], 8: [0.8301886792452831, 0.5047169811320755, 0.6674528301886793], 15: [0.8095238095238095, 0.3904761904761905, 0.6], 17: [0.859375, 0.46875, 0.6640625], 7: [0.8, 0.3, 0.55], 24: [0.8333333333333334, 0.5, 0.6666666666666666], 20: [0.7777777777777778, 0.4444444444444444, 0.6111111111111112], 23: [0.8, 0.6, 0.7], 21: [0.7857142857142857, 0.42857142857142855, 0.6071428571428571], 25: [0.75, 0.5, 0.625], 29: [1.0, 0.0, 0.5], 31: [0.0, 1.0, 0.5], 26: [0.6, 0.8, 0.7], 28: [0.5, 0.5, 0.5], 41: [0.0, 1.0, 0.5], 27: [0.0, 1.0, 0.5], 30: [0.5, 0.5, 0.5]})\n",
      "Pearson's coefficient: -0.456302692963 \n",
      "p-value: 0.019127080881\n",
      "Spearman's r: -0.358108000232 \n",
      "p-value: 0.0724458496911\n"
     ]
    }
   ],
   "source": [
    "caption_lengths_accs = get_caption_length_acc(results_gw_finetune_SL, length2captions)\n",
    "print('GW_Fine_SL', caption_lengths_accs)\n",
    "\n",
    "\n",
    "list_obj_counts = list(caption_lengths_accs.keys())\n",
    "list_obj_accs = []\n",
    "\n",
    "for c in caption_lengths_accs:\n",
    "    list_obj_accs.append(caption_lengths_accs[c][2])\n",
    "    \n",
    "#correlation between the object counts in the images in the training set vs accuracy\n",
    "coef, p = pearsonr(list_obj_counts, list_obj_accs)\n",
    "print('Pearson\\'s coefficient:',coef, '\\np-value:', p)\n",
    "\n",
    "r, p = spearmanr(list_obj_counts, list_obj_accs)\n",
    "print('Spearman\\'s r:',r, '\\np-value:',p)\n"
   ]
  },
  {
   "cell_type": "code",
   "execution_count": 329,
   "metadata": {},
   "outputs": [
    {
     "name": "stdout",
     "output_type": "stream",
     "text": [
      "[12, 9, 10, 13, 11, 22, 14, 19, 16, 18, 8, 15, 17, 7, 24, 20, 23, 21, 25, 29, 31, 26, 28, 41, 27, 30] [0.6557271557271557, 0.6233153638814016, 0.6218369259606373, 0.6043737574552683, 0.6321393998063891, 0.7083333333333334, 0.6492307692307693, 0.7272727272727273, 0.5643564356435643, 0.6216216216216216, 0.6674528301886793, 0.6, 0.6640625, 0.55, 0.6666666666666666, 0.6111111111111112, 0.7, 0.6071428571428571, 0.625, 0.5, 0.5, 0.7, 0.5, 0.5, 0.5, 0.5]\n"
     ]
    }
   ],
   "source": [
    "print(list_obj_counts, list_obj_accs)"
   ]
  },
  {
   "cell_type": "code",
   "execution_count": 292,
   "metadata": {},
   "outputs": [
    {
     "name": "stdout",
     "output_type": "stream",
     "text": [
      "7 [0.8, 0.3, 0.55]\n",
      "8 [0.8301886792452831, 0.5047169811320755, 0.6674528301886793]\n",
      "9 [0.8355795148247979, 0.4110512129380054, 0.6233153638814016]\n",
      "10 [0.8397375820056232, 0.40393626991565135, 0.6218369259606373]\n",
      "11 [0.846079380445305, 0.4181994191674734, 0.6321393998063891]\n",
      "12 [0.8738738738738738, 0.4375804375804376, 0.6557271557271557]\n",
      "13 [0.827037773359841, 0.3817097415506958, 0.6043737574552683]\n",
      "14 [0.8584615384615385, 0.44, 0.6492307692307693]\n",
      "15 [0.8095238095238095, 0.3904761904761905, 0.6]\n",
      "16 [0.801980198019802, 0.32673267326732675, 0.5643564356435643]\n",
      "17 [0.859375, 0.46875, 0.6640625]\n",
      "18 [0.8378378378378378, 0.40540540540540543, 0.6216216216216216]\n",
      "19 [0.9545454545454546, 0.5, 0.7272727272727273]\n",
      "20 [0.7777777777777778, 0.4444444444444444, 0.6111111111111112]\n",
      "21 [0.7857142857142857, 0.42857142857142855, 0.6071428571428571]\n",
      "22 [0.75, 0.6666666666666666, 0.7083333333333334]\n",
      "23 [0.8, 0.6, 0.7]\n",
      "24 [0.8333333333333334, 0.5, 0.6666666666666666]\n",
      "25 [0.75, 0.5, 0.625]\n",
      "26 [0.6, 0.8, 0.7]\n",
      "27 [0.0, 1.0, 0.5]\n",
      "28 [0.5, 0.5, 0.5]\n",
      "29 [1.0, 0.0, 0.5]\n",
      "30 [0.5, 0.5, 0.5]\n",
      "31 [0.0, 1.0, 0.5]\n",
      "41 [0.0, 1.0, 0.5]\n"
     ]
    }
   ],
   "source": [
    "sorted_pos = sorted(caption_lengths_accs.keys())\n",
    "\n",
    "for s in sorted_pos:\n",
    "    print(s, caption_lengths_accs[s])"
   ]
  },
  {
   "cell_type": "code",
   "execution_count": 293,
   "metadata": {},
   "outputs": [
    {
     "name": "stdout",
     "output_type": "stream",
     "text": [
      "0.6557271557271557 , 0.8738738738738738 , 0.4375804375804376\n",
      "0.6233153638814016 , 0.8355795148247979 , 0.4110512129380054\n",
      "0.6218369259606373 , 0.8397375820056232 , 0.40393626991565135\n",
      "0.6043737574552683 , 0.827037773359841 , 0.3817097415506958\n",
      "0.6321393998063891 , 0.846079380445305 , 0.4181994191674734\n",
      "0.7083333333333334 , 0.75 , 0.6666666666666666\n",
      "0.6492307692307693 , 0.8584615384615385 , 0.44\n",
      "0.7272727272727273 , 0.9545454545454546 , 0.5\n",
      "0.5643564356435643 , 0.801980198019802 , 0.32673267326732675\n",
      "0.6216216216216216 , 0.8378378378378378 , 0.40540540540540543\n",
      "0.6674528301886793 , 0.8301886792452831 , 0.5047169811320755\n",
      "0.6 , 0.8095238095238095 , 0.3904761904761905\n",
      "0.6640625 , 0.859375 , 0.46875\n",
      "0.55 , 0.8 , 0.3\n",
      "0.6666666666666666 , 0.8333333333333334 , 0.5\n",
      "0.6111111111111112 , 0.7777777777777778 , 0.4444444444444444\n",
      "0.7 , 0.8 , 0.6\n",
      "0.6071428571428571 , 0.7857142857142857 , 0.42857142857142855\n",
      "0.625 , 0.75 , 0.5\n",
      "0.5 , 1.0 , 0.0\n",
      "0.5 , 0.0 , 1.0\n",
      "0.7 , 0.6 , 0.8\n",
      "0.5 , 0.5 , 0.5\n",
      "0.5 , 0.0 , 1.0\n",
      "0.5 , 0.0 , 1.0\n",
      "0.5 , 0.5 , 0.5\n"
     ]
    }
   ],
   "source": [
    "for c in caption_lengths_accs:\n",
    "    print(caption_lengths_accs[c][2],',',caption_lengths_accs[c][0],',',caption_lengths_accs[c][1])"
   ]
  },
  {
   "cell_type": "code",
   "execution_count": 394,
   "metadata": {},
   "outputs": [
    {
     "name": "stdout",
     "output_type": "stream",
     "text": [
      "VQA_FROZEN defaultdict(<class 'list'>, {12: [0.6988416988416989, 0.3088803088803089, 0.5038610038610039], 9: [0.6738544474393531, 0.32345013477088946, 0.49865229110512127], 10: [0.662605435801312, 0.33270852858481725, 0.49765698219306465], 13: [0.6878727634194831, 0.33001988071570576, 0.5089463220675944], 11: [0.7047434656340755, 0.3010648596321394, 0.5029041626331074], 22: [0.4166666666666667, 0.6666666666666666, 0.5416666666666666], 14: [0.7169230769230769, 0.3230769230769231, 0.52], 19: [0.8636363636363636, 0.13636363636363635, 0.5], 16: [0.7425742574257426, 0.32673267326732675, 0.5346534653465347], 18: [0.5675675675675675, 0.35135135135135137, 0.4594594594594595], 8: [0.7358490566037735, 0.25, 0.49292452830188677], 15: [0.6904761904761905, 0.3142857142857143, 0.5023809523809524], 17: [0.5625, 0.375, 0.46875], 7: [0.55, 0.25, 0.4], 24: [1.0, 0.0, 0.5], 20: [0.4444444444444444, 0.5, 0.4722222222222222], 23: [0.4, 0.4, 0.4], 21: [0.7857142857142857, 0.21428571428571427, 0.5], 25: [0.5, 0.5, 0.5], 29: [1.0, 0.0, 0.5], 31: [1.0, 0.0, 0.5], 26: [1.0, 0.6, 0.8], 28: [0.5, 0.5, 0.5], 41: [1.0, 0.0, 0.5], 27: [0.0, 1.0, 0.5], 30: [1.0, 0.5, 0.75]})\n",
      "Pearson's coefficient: 0.304502286438 \n",
      "p-value: 0.130411305546\n",
      "Spearman's r: 0.211253267401 \n",
      "p-value: 0.300221873588\n"
     ]
    }
   ],
   "source": [
    "caption_lengths_accs = get_caption_length_acc(results_vqa_frozen, length2captions)\n",
    "print('VQA_FROZEN', caption_lengths_accs)\n",
    "\n",
    "list_obj_counts = list(caption_lengths_accs.keys())\n",
    "list_obj_accs = []\n",
    "\n",
    "for c in caption_lengths_accs:\n",
    "    list_obj_accs.append(caption_lengths_accs[c][2])\n",
    "    \n",
    "#correlation between the object counts in the images in the training set vs accuracy\n",
    "coef, p = pearsonr(list_obj_counts, list_obj_accs)\n",
    "print('Pearson\\'s coefficient:',coef, '\\np-value:', p)\n",
    "\n",
    "r, p = spearmanr(list_obj_counts, list_obj_accs)\n",
    "print('Spearman\\'s r:',r, '\\np-value:',p)\n"
   ]
  },
  {
   "cell_type": "code",
   "execution_count": 313,
   "metadata": {},
   "outputs": [
    {
     "name": "stdout",
     "output_type": "stream",
     "text": [
      "24\n"
     ]
    }
   ],
   "source": [
    "foil_positions_per_caption = defaultdict(list)\n",
    "set2captions = test\n",
    "\n",
    "#dictionary that takes foil position and returns image id and change_id\n",
    "#from the given set ONLY FOR FOIL SENTENCES\n",
    "foil_caption_rel_pos = defaultdict(float)\n",
    "foil_caption_abs_pos = defaultdict(float)\n",
    "\n",
    "for t in set2captions['annotations']:\n",
    "    if 'Original' in t['change_id']:\n",
    "        pass\n",
    "    else:\n",
    "        caption_split = tknzr.tokenize(t['caption'])\n",
    "        target = t['foilWord']\n",
    "        \n",
    "        abs_position = -1\n",
    "        rel_position = -1\n",
    "        \n",
    "        orig_caption_split = tknzr.tokenize(captions_per_changeid['0_' + str(t['change_id'].split('_')[0])])\n",
    "            \n",
    "        for i in range(len(caption_split)):\n",
    "            if caption_split[i] != orig_caption_split[i]:\n",
    "                abs_position = i+1\n",
    "                rel_position = (i+1)/len(caption_split)\n",
    "              \n",
    "        id_bits = str(t['image_id']) + '_'+ str(t['change_id'])\n",
    "        foil_positions_per_caption[abs_position].append(id_bits)\n",
    "        foil_caption_rel_pos[id_bits] = rel_position\n",
    "        foil_caption_abs_pos[id_bits] = abs_position\n",
    "        \n",
    "print(len(foil_positions_per_caption)) #TODO must be equal to the number of foil sentences"
   ]
  },
  {
   "cell_type": "code",
   "execution_count": 297,
   "metadata": {},
   "outputs": [
    {
     "name": "stdout",
     "output_type": "stream",
     "text": [
      "dict_keys([11, 8, 10, 3, 2, 6, 12, 5, 9, 1, 18, 7, 15, 4, 13, 16, 14, 17, 21, 22, 35, 19, 23, 20])\n"
     ]
    }
   ],
   "source": [
    "print(foil_positions_per_caption.keys())"
   ]
  },
  {
   "cell_type": "code",
   "execution_count": 298,
   "metadata": {},
   "outputs": [
    {
     "data": {
      "text/plain": [
       "defaultdict(float,\n",
       "            {'522418_681330_7': 0.9166666666666666,\n",
       "             '522418_686718_7': 0.8888888888888888,\n",
       "             '522418_693159_7': 1.0,\n",
       "             '251252_420932_1': 0.3,\n",
       "             '251252_423539_1': 0.3333333333333333,\n",
       "             '251252_424295_1': 0.16666666666666666,\n",
       "             '251252_424592_2': 0.2,\n",
       "             '268556_226907_1': 0.6,\n",
       "             '268556_228905_8': 0.9230769230769231,\n",
       "             '268556_239120_1': 0.4166666666666667,\n",
       "             '199951_36178_2': 0.2222222222222222,\n",
       "             '527040_776777_3': 0.9,\n",
       "             '560623_241451_4': 0.2,\n",
       "             '242139_168083_2': 0.2222222222222222,\n",
       "             '29913_394782_2': 0.16666666666666666,\n",
       "             '460347_77750_3': 0.3,\n",
       "             '78522_667429_5': 0.2,\n",
       "             '78522_674266_5': 0.3,\n",
       "             '78522_675862_5': 0.1,\n",
       "             '129942_232471_5': 0.2727272727272727,\n",
       "             '129942_241663_1': 0.4166666666666667,\n",
       "             '437609_763972_6': 0.6,\n",
       "             '437609_767074_6': 0.2727272727272727,\n",
       "             '54088_630152_2': 0.3,\n",
       "             '54088_636638_8': 0.6,\n",
       "             '54088_637805_3': 0.3,\n",
       "             '54088_638435_5': 0.7692307692307693,\n",
       "             '383406_119806_6': 0.8181818181818182,\n",
       "             '171062_69844_12': 0.6666666666666666,\n",
       "             '171062_70327_10': 0.5,\n",
       "             '171062_72010_10': 0.5384615384615384,\n",
       "             '171062_78145_12': 0.6153846153846154,\n",
       "             '171062_85114_2': 0.4166666666666667,\n",
       "             '412914_794793_7': 0.2222222222222222,\n",
       "             '233771_240468_3': 0.5714285714285714,\n",
       "             '233771_246246_3': 0.15789473684210525,\n",
       "             '304305_14742_4': 0.4166666666666667,\n",
       "             '304305_18444_4': 0.3333333333333333,\n",
       "             '304305_19965_4': 0.3,\n",
       "             '304305_20181_4': 0.3,\n",
       "             '429580_57248_3': 0.18181818181818182,\n",
       "             '429580_61697_3': 0.5454545454545454,\n",
       "             '314154_211770_2': 0.8888888888888888,\n",
       "             '314154_219507_2': 0.9230769230769231,\n",
       "             '356427_108498_5': 0.5,\n",
       "             '356427_121722_5': 0.5,\n",
       "             '356427_122886_5': 0.5454545454545454,\n",
       "             '156416_55326_2': 0.9375,\n",
       "             '156416_55602_3': 0.8888888888888888,\n",
       "             '103579_429644_3': 0.9,\n",
       "             '103579_430268_3': 0.5454545454545454,\n",
       "             '103579_432830_3': 0.6666666666666666,\n",
       "             '103579_436193_2': 0.5555555555555556,\n",
       "             '62060_117309_3': 0.9,\n",
       "             '18149_512496_7': 0.18181818181818182,\n",
       "             '18149_556965_7': 0.25,\n",
       "             '18149_559293_7': 0.18181818181818182,\n",
       "             '443591_125247_4': 0.16666666666666666,\n",
       "             '443591_130074_9': 0.25,\n",
       "             '443591_139416_9': 0.2222222222222222,\n",
       "             '433460_135156_7': 0.4,\n",
       "             '138975_709310_2': 0.36363636363636365,\n",
       "             '138975_715139_2': 0.6,\n",
       "             '162827_550575_1': 0.9,\n",
       "             '216228_448290_5': 1.0,\n",
       "             '285291_720020_2': 0.45454545454545453,\n",
       "             '349860_407404_5': 1.0,\n",
       "             '349860_408013_5': 0.6923076923076923,\n",
       "             '349860_410326_1': 0.8181818181818182,\n",
       "             '385861_194208_3': 0.5,\n",
       "             '385861_203742_6': 0.9090909090909091,\n",
       "             '385861_204156_6': 0.8888888888888888,\n",
       "             '262873_388783_7': 0.4,\n",
       "             '400573_464982_1': 0.875,\n",
       "             '400573_466893_3': 0.6666666666666666,\n",
       "             '313155_759494_1': 0.9090909090909091,\n",
       "             '66412_52658_5': 0.9,\n",
       "             '66412_58232_4': 0.9230769230769231,\n",
       "             '319908_2414_4': 0.2777777777777778,\n",
       "             '319908_2552_5': 0.9090909090909091,\n",
       "             '556462_810798_6': 0.2727272727272727,\n",
       "             '289444_279144_6': 1.0,\n",
       "             '239347_808608_2': 0.5,\n",
       "             '193565_511271_3': 0.9,\n",
       "             '193565_550475_7': 0.7857142857142857,\n",
       "             '193565_556250_9': 0.9,\n",
       "             '371250_32920_8': 0.36363636363636365,\n",
       "             '371250_34828_2': 0.2222222222222222,\n",
       "             '436470_123258_1': 1.0,\n",
       "             '436470_127509_2': 0.4166666666666667,\n",
       "             '471009_814883_1': 0.6,\n",
       "             '471009_815880_1': 0.7692307692307693,\n",
       "             '471009_816234_1': 0.4,\n",
       "             '471009_816792_1': 0.6666666666666666,\n",
       "             '471009_817473_1': 0.6666666666666666,\n",
       "             '146738_380585_1': 0.45454545454545453,\n",
       "             '168330_129131_1': 0.25,\n",
       "             '168330_131486_1': 0.21428571428571427,\n",
       "             '168330_132347_1': 0.5454545454545454,\n",
       "             '168330_134363_1': 0.6,\n",
       "             '168330_134648_1': 0.75,\n",
       "             '383384_585006_4': 0.5454545454545454,\n",
       "             '5064_810033_15': 0.9,\n",
       "             '46859_22374_6': 0.9,\n",
       "             '46859_25773_4': 0.5833333333333334,\n",
       "             '564745_364733_4': 0.9,\n",
       "             '564745_366038_2': 0.4,\n",
       "             '240727_462100_3': 0.7,\n",
       "             '240727_827967_3': 0.6666666666666666,\n",
       "             '280607_573786_3': 0.8888888888888888,\n",
       "             '280607_576477_3': 0.6,\n",
       "             '461063_676269_9': 1.0,\n",
       "             '461063_677055_4': 1.0,\n",
       "             '461063_683202_9': 0.6,\n",
       "             '38034_158608_9': 1.0,\n",
       "             '27235_110054_11': 1.0,\n",
       "             '27235_111842_11': 0.9,\n",
       "             '27235_122477_11': 0.5,\n",
       "             '320039_816073_3': 0.9090909090909091,\n",
       "             '320039_816334_1': 0.9411764705882353,\n",
       "             '421010_293225_1': 0.7,\n",
       "             '421010_295436_1': 0.46153846153846156,\n",
       "             '421010_295649_1': 0.6,\n",
       "             '421010_300347_1': 0.7272727272727273,\n",
       "             '231339_62109_1': 0.5,\n",
       "             '157184_569375_3': 0.5454545454545454,\n",
       "             '157184_573587_3': 1.0,\n",
       "             '157184_573749_3': 0.9090909090909091,\n",
       "             '334007_552440_10': 1.0,\n",
       "             '527102_214116_3': 0.5454545454545454,\n",
       "             '527102_242391_3': 0.9166666666666666,\n",
       "             '569801_740614_1': 0.8888888888888888,\n",
       "             '569801_743068_2': 0.8333333333333334,\n",
       "             '569801_827761_1': 0.6363636363636364,\n",
       "             '431197_816856_4': 0.07692307692307693,\n",
       "             '431197_816925_3': 0.5,\n",
       "             '463610_690714_3': 0.25,\n",
       "             '463610_693804_3': 0.7272727272727273,\n",
       "             '463610_695406_4': 0.45454545454545453,\n",
       "             '463610_695715_4': 0.6666666666666666,\n",
       "             '117425_19394_5': 0.5,\n",
       "             '117425_20939_5': 0.4166666666666667,\n",
       "             '117425_21497_5': 0.45454545454545453,\n",
       "             '581402_438302_2': 0.2,\n",
       "             '581402_442889_9': 0.9166666666666666,\n",
       "             '581402_449294_2': 0.6,\n",
       "             '451053_170157_5': 0.9,\n",
       "             '559442_829464_1': 0.6363636363636364,\n",
       "             '430867_654482_8': 1.0,\n",
       "             '430867_654923_4': 0.5625,\n",
       "             '430867_658343_3': 0.5,\n",
       "             '430867_660746_3': 0.14285714285714285,\n",
       "             '485887_355791_3': 0.3333333333333333,\n",
       "             '485887_357189_1': 0.6363636363636364,\n",
       "             '485887_358503_4': 0.4166666666666667,\n",
       "             '190160_465406_1': 0.7058823529411765,\n",
       "             '43133_15308_4': 0.6923076923076923,\n",
       "             '43133_17072_4': 0.2727272727272727,\n",
       "             '188546_802965_1': 0.6666666666666666,\n",
       "             '188546_808470_1': 0.14285714285714285,\n",
       "             '188546_811473_1': 0.2222222222222222,\n",
       "             '188546_815636_7': 0.2,\n",
       "             '71281_787505_5': 0.5,\n",
       "             '547839_597786_5': 0.5555555555555556,\n",
       "             '547839_598026_6': 0.16666666666666666,\n",
       "             '547839_605730_5': 0.2,\n",
       "             '145039_351365_1': 0.5,\n",
       "             '307995_359177_5': 0.15384615384615385,\n",
       "             '307995_359699_2': 0.2222222222222222,\n",
       "             '307995_362279_2': 0.2,\n",
       "             '307995_364064_2': 0.16666666666666666,\n",
       "             '442286_328037_7': 0.3333333333333333,\n",
       "             '442286_338846_4': 0.38461538461538464,\n",
       "             '201220_375614_5': 0.9,\n",
       "             '84477_719121_3': 0.7857142857142857,\n",
       "             '84477_722634_3': 0.2,\n",
       "             '84477_729216_3': 0.3076923076923077,\n",
       "             '84477_729537_3': 0.25,\n",
       "             '88784_689246_3': 0.9090909090909091,\n",
       "             '88784_693032_3': 0.16666666666666666,\n",
       "             '88784_697850_7': 0.16666666666666666,\n",
       "             '495808_792160_4': 0.9,\n",
       "             '507719_767980_5': 0.8888888888888888,\n",
       "             '71209_646285_5': 0.6666666666666666,\n",
       "             '71209_655372_3': 1.0,\n",
       "             '463013_589006_4': 1.0,\n",
       "             '66445_639152_5': 1.0,\n",
       "             '66445_641312_5': 0.6666666666666666,\n",
       "             '119939_619698_1': 0.5714285714285714,\n",
       "             '362005_518742_1': 0.8461538461538461,\n",
       "             '362005_519894_1': 0.5454545454545454,\n",
       "             '460494_475043_1': 0.9166666666666666,\n",
       "             '460494_479450_2': 0.5454545454545454,\n",
       "             '460494_822062_1': 0.5,\n",
       "             '492914_748477_1': 0.5454545454545454,\n",
       "             '492914_765195_5': 0.8888888888888888,\n",
       "             '315641_95655_3': 0.6363636363636364,\n",
       "             '506441_671202_2': 0.3333333333333333,\n",
       "             '506441_675645_6': 0.4,\n",
       "             '506441_677496_6': 0.6666666666666666,\n",
       "             '528496_170541_6': 0.5625,\n",
       "             '528496_172701_6': 0.36363636363636365,\n",
       "             '528496_179421_6': 0.6,\n",
       "             '528496_180984_6': 0.2222222222222222,\n",
       "             '159736_205484_7': 0.5,\n",
       "             '253485_813660_7': 0.9090909090909091,\n",
       "             '253485_816862_7': 0.8888888888888888,\n",
       "             '469203_318052_7': 0.8333333333333334,\n",
       "             '469203_318772_7': 0.5454545454545454,\n",
       "             '469203_319963_7': 0.8888888888888888,\n",
       "             '475398_227619_11': 0.9166666666666666,\n",
       "             '475398_254757_7': 0.8888888888888888,\n",
       "             '475398_260250_7': 0.8888888888888888,\n",
       "             '475398_261411_7': 0.6363636363636364,\n",
       "             '380487_649299_2': 0.5333333333333333,\n",
       "             '380487_651363_2': 0.6666666666666666,\n",
       "             '380487_654030_2': 1.0,\n",
       "             '380487_654630_2': 0.875,\n",
       "             '432035_797262_3': 0.3333333333333333,\n",
       "             '432035_799530_3': 1.0,\n",
       "             '432035_799554_3': 0.3,\n",
       "             '371910_284051_2': 0.5555555555555556,\n",
       "             '371910_402173_2': 0.5833333333333334,\n",
       "             '371910_406331_10': 0.5,\n",
       "             '371910_407504_1': 0.13333333333333333,\n",
       "             '385320_701567_2': 0.6923076923076923,\n",
       "             '56701_299486_11': 0.9166666666666666,\n",
       "             '56701_300851_3': 1.0,\n",
       "             '367398_352937_1': 0.5,\n",
       "             '278121_634730_1': 0.4,\n",
       "             '160580_473723_1': 0.14285714285714285,\n",
       "             '393031_380411_4': 0.38461538461538464,\n",
       "             '393031_385421_4': 0.9090909090909091,\n",
       "             '241551_311070_6': 0.75,\n",
       "             '450599_179918_9': 0.5384615384615384,\n",
       "             '432258_374853_1': 0.3333333333333333,\n",
       "             '432258_375105_1': 0.3333333333333333,\n",
       "             '432258_376359_1': 0.375,\n",
       "             '432258_379305_1': 0.16666666666666666,\n",
       "             '432258_381939_1': 0.2,\n",
       "             '414296_353245_3': 0.3076923076923077,\n",
       "             '414296_356758_1': 0.2,\n",
       "             '414296_358123_3': 0.5555555555555556,\n",
       "             '414296_358321_3': 0.16666666666666666,\n",
       "             '414296_359350_3': 0.46153846153846156,\n",
       "             '368367_341522_2': 0.8888888888888888,\n",
       "             '368367_345308_2': 0.9,\n",
       "             '278365_187940_5': 0.3333333333333333,\n",
       "             '278365_190835_3': 0.5,\n",
       "             '66154_524817_1': 0.9090909090909091,\n",
       "             '365822_76904_2': 0.8125,\n",
       "             '447038_450897_3': 0.5555555555555556,\n",
       "             '447038_451095_3': 0.4,\n",
       "             '447038_452901_3': 0.5,\n",
       "             '447038_823665_4': 0.3333333333333333,\n",
       "             '126502_675833_1': 0.9,\n",
       "             '126502_676190_9': 0.9090909090909091,\n",
       "             '126502_677534_1': 0.3333333333333333,\n",
       "             '126502_679586_9': 0.9,\n",
       "             '380756_100048_12': 0.8235294117647058,\n",
       "             '380756_108994_3': 0.2,\n",
       "             '363415_169538_2': 0.4,\n",
       "             '363415_169751_2': 0.3333333333333333,\n",
       "             '363415_170591_2': 0.18181818181818182,\n",
       "             '363415_176627_2': 0.18181818181818182,\n",
       "             '469119_176814_4': 0.9090909090909091,\n",
       "             '469119_193533_4': 0.9333333333333333,\n",
       "             '469119_220170_3': 0.9090909090909091,\n",
       "             '469119_225915_4': 0.8888888888888888,\n",
       "             '389453_493818_4': 0.8888888888888888,\n",
       "             '389453_498483_4': 0.25,\n",
       "             '389453_504024_4': 0.9166666666666666,\n",
       "             '409914_444032_4': 0.9,\n",
       "             '432179_689747_6': 0.2727272727272727,\n",
       "             '432179_692714_6': 0.3,\n",
       "             '432179_695912_6': 0.16666666666666666,\n",
       "             '432179_697079_5': 0.2222222222222222,\n",
       "             '575428_289328_6': 0.15384615384615385,\n",
       "             '575428_289469_6': 0.15384615384615385,\n",
       "             '575428_289772_6': 0.2,\n",
       "             '575428_290117_6': 0.2727272727272727,\n",
       "             '575428_290357_6': 0.38461538461538464,\n",
       "             '195598_386689_4': 0.4444444444444444,\n",
       "             '195598_387556_13': 0.6666666666666666,\n",
       "             '195598_397486_4': 0.21428571428571427,\n",
       "             '195598_517480_6': 0.18181818181818182,\n",
       "             '12827_311908_7': 1.0,\n",
       "             '12827_313699_7': 0.6428571428571429,\n",
       "             '12827_314008_2': 0.5454545454545454,\n",
       "             '12827_314980_2': 0.6666666666666666,\n",
       "             '301575_632597_2': 0.2727272727272727,\n",
       "             '301575_634202_9': 0.1875,\n",
       "             '97748_202068_7': 0.9,\n",
       "             '336568_260198_3': 0.2727272727272727,\n",
       "             '336568_265193_12': 0.45454545454545453,\n",
       "             '336568_265880_3': 0.2,\n",
       "             '80340_427273_4': 0.45454545454545453,\n",
       "             '80340_429802_6': 0.625,\n",
       "             '80340_433432_2': 0.6363636363636364,\n",
       "             '80340_433645_4': 0.5454545454545454,\n",
       "             '525376_98794_5': 0.9090909090909091,\n",
       "             '525376_103549_5': 0.9090909090909091,\n",
       "             '260774_247761_7': 0.125,\n",
       "             '260774_248286_7': 0.21428571428571427,\n",
       "             '260774_256719_7': 0.2222222222222222,\n",
       "             '13605_382709_7': 0.3333333333333333,\n",
       "             '13605_382757_3': 0.8888888888888888,\n",
       "             '292618_528600_2': 0.4444444444444444,\n",
       "             '56714_95175_10': 0.5,\n",
       "             '56714_95358_19': 0.9166666666666666,\n",
       "             '56714_104328_14': 0.3,\n",
       "             '487333_305946_18': 0.9,\n",
       "             '487333_307203_19': 0.8888888888888888,\n",
       "             '487333_310590_19': 0.8888888888888888,\n",
       "             '487333_317769_14': 0.7272727272727273,\n",
       "             '487333_318957_18': 0.9333333333333333,\n",
       "             '95113_635880_2': 0.6666666666666666,\n",
       "             '211498_437137_5': 0.4,\n",
       "             '211498_441142_5': 0.3076923076923077,\n",
       "             '225943_402688_5': 1.0,\n",
       "             '225943_409618_5': 0.6666666666666666,\n",
       "             '225943_412108_5': 0.2727272727272727,\n",
       "             '384010_449423_5': 0.75,\n",
       "             '384010_454097_5': 0.9090909090909091,\n",
       "             '384010_454631_5': 1.0,\n",
       "             '384010_822845_5': 0.9375,\n",
       "             '463961_52879_11': 0.9090909090909091,\n",
       "             '463961_53644_5': 1.0,\n",
       "             '463961_54121_5': 1.0,\n",
       "             '463961_54919_3': 0.8888888888888888,\n",
       "             '463961_55309_11': 0.9,\n",
       "             '332025_523370_3': 0.35714285714285715,\n",
       "             '332025_531935_3': 0.5,\n",
       "             '51376_190208_12': 0.6363636363636364,\n",
       "             '51376_190655_6': 0.9166666666666666,\n",
       "             '51376_194354_2': 0.4375,\n",
       "             '51376_195725_3': 0.15384615384615385,\n",
       "             '220111_580557_3': 0.17647058823529413,\n",
       "             '220111_583755_3': 0.7272727272727273,\n",
       "             '429985_696576_3': 0.42857142857142855,\n",
       "             '429985_701727_7': 0.5833333333333334,\n",
       "             '429985_709173_3': 0.7272727272727273,\n",
       "             '429985_709407_3': 0.6,\n",
       "             '452866_610845_7': 0.8,\n",
       "             '452866_614106_7': 0.7777777777777778,\n",
       "             '452866_614847_13': 0.8461538461538461,\n",
       "             '452866_615666_7': 0.8888888888888888,\n",
       "             '452866_617034_7': 1.0,\n",
       "             '363577_807491_7': 0.9090909090909091,\n",
       "             '363577_807791_3': 0.375,\n",
       "             '363577_807902_11': 0.6666666666666666,\n",
       "             '99428_540369_3': 0.9,\n",
       "             '99428_543864_2': 0.2,\n",
       "             '54252_29991_6': 0.9,\n",
       "             '54252_31377_7': 0.6666666666666666,\n",
       "             '54252_32910_6': 0.8888888888888888,\n",
       "             '54252_33828_6': 0.5833333333333334,\n",
       "             '386352_15715_4': 0.6,\n",
       "             '386352_17329_4': 0.5,\n",
       "             '386352_24052_4': 0.6666666666666666,\n",
       "             '38892_194837_6': 1.0,\n",
       "             '341118_14139_11': 0.7083333333333334,\n",
       "             '341118_14445_2': 0.6153846153846154,\n",
       "             '341118_19107_1': 0.9,\n",
       "             '307323_290716_3': 0.4,\n",
       "             '307323_293128_1': 0.5,\n",
       "             '307323_298825_1': 0.7,\n",
       "             '448259_67429_5': 0.9444444444444444,\n",
       "             '448259_67534_6': 0.631578947368421,\n",
       "             '448259_71377_1': 0.6363636363636364,\n",
       "             '448259_71794_1': 0.38461538461538464,\n",
       "             '456942_669796_1': 0.125,\n",
       "             '456942_673279_1': 0.2857142857142857,\n",
       "             '456942_675331_11': 0.7692307692307693,\n",
       "             '456942_676375_1': 0.09090909090909091,\n",
       "             '24601_197745_9': 1.0,\n",
       "             '401971_473994_3': 0.2727272727272727,\n",
       "             '321935_656477_1': 0.18181818181818182,\n",
       "             '321935_657632_1': 0.2222222222222222,\n",
       "             '321935_659639_1': 0.2,\n",
       "             '451087_565865_4': 0.9,\n",
       "             '451087_566186_4': 0.6666666666666666,\n",
       "             '451087_567113_15': 1.0,\n",
       "             '451087_567362_4': 1.0,\n",
       "             '499577_626137_18': 0.5333333333333333,\n",
       "             '499577_633733_2': 0.55,\n",
       "             '499577_639550_4': 0.9,\n",
       "             '225352_612658_8': 0.9166666666666666,\n",
       "             '225352_616939_6': 0.9375,\n",
       "             '225352_617644_6': 0.8888888888888888,\n",
       "             '225352_618535_6': 0.7333333333333333,\n",
       "             '185781_86347_1': 0.8181818181818182,\n",
       "             '534894_306348_3': 0.4166666666666667,\n",
       "             '484312_112660_2': 0.5555555555555556,\n",
       "             '484312_126625_11': 0.9166666666666666,\n",
       "             '484312_132331_7': 0.42857142857142855,\n",
       "             '197756_530608_2': 0.7692307692307693,\n",
       "             '197756_534406_5': 0.9166666666666666,\n",
       "             '197756_538747_2': 0.9166666666666666,\n",
       "             '218234_102283_7': 0.5454545454545454,\n",
       "             '218234_105142_6': 0.4166666666666667,\n",
       "             '218234_112408_2': 0.5,\n",
       "             '218234_124939_2': 0.9333333333333333,\n",
       "             '570138_92821_4': 0.8888888888888888,\n",
       "             '570138_94585_4': 0.46153846153846156,\n",
       "             '403565_247965_2': 0.9166666666666666,\n",
       "             '403565_251193_2': 0.9090909090909091,\n",
       "             '344271_768705_6': 0.6,\n",
       "             '344271_770928_5': 1.0,\n",
       "             '344271_772020_5': 1.0,\n",
       "             '344271_774774_1': 0.42857142857142855,\n",
       "             '344271_777657_15': 0.9166666666666666,\n",
       "             '231732_676593_4': 0.2,\n",
       "             '231732_681816_2': 0.18181818181818182,\n",
       "             '231732_684147_4': 0.45454545454545453,\n",
       "             '282658_114943_1': 0.8181818181818182,\n",
       "             '451412_358200_3': 0.6,\n",
       "             '451412_361353_4': 0.9166666666666666,\n",
       "             '223930_532491_1': 0.2222222222222222,\n",
       "             '324008_730784_6': 0.38461538461538464,\n",
       "             '324008_731981_1': 0.9090909090909091,\n",
       "             '518605_523078_9': 0.4444444444444444,\n",
       "             '279818_649678_1': 0.5454545454545454,\n",
       "             '279818_651073_1': 0.3888888888888889,\n",
       "             '524140_342125_3': 0.25,\n",
       "             '524140_343031_3': 0.3333333333333333,\n",
       "             '524140_343913_3': 0.125,\n",
       "             '524140_344876_4': 0.3333333333333333,\n",
       "             '35887_275602_1': 0.7777777777777778,\n",
       "             '35887_275923_4': 0.8,\n",
       "             '35887_284836_1': 0.3333333333333333,\n",
       "             '150235_412285_2': 0.16666666666666666,\n",
       "             '150235_418288_21': 0.9090909090909091,\n",
       "             '150235_420841_2': 0.2,\n",
       "             '150235_423982_10': 0.9090909090909091,\n",
       "             '150235_424255_2': 0.25,\n",
       "             '513312_457620_10': 0.9,\n",
       "             '513312_461181_10': 0.875,\n",
       "             '513312_463713_10': 0.8,\n",
       "             '513312_465630_2': 0.4,\n",
       "             '417455_430832_12': 0.9,\n",
       "             '417455_431222_2': 0.3333333333333333,\n",
       "             '304698_148065_3': 0.5454545454545454,\n",
       "             '358555_613844_8': 0.5,\n",
       "             '358555_620969_17': 0.6,\n",
       "             '358555_621917_8': 0.46153846153846156,\n",
       "             '302243_25254_9': 0.2,\n",
       "             '433279_152442_6': 0.7692307692307693,\n",
       "             '433279_155178_9': 0.7142857142857143,\n",
       "             '433279_155532_6': 0.6,\n",
       "             '417653_760108_1': 0.16666666666666666,\n",
       "             '417653_760393_5': 0.6666666666666666,\n",
       "             '417653_762265_5': 0.5714285714285714,\n",
       "             '417653_763402_5': 0.9166666666666666,\n",
       "             '200143_469274_9': 0.3333333333333333,\n",
       "             '290113_206441_2': 0.9375,\n",
       "             '314182_323664_1': 0.5714285714285714,\n",
       "             '277440_731360_6': 0.6,\n",
       "             '277440_737075_1': 0.13333333333333333,\n",
       "             '277440_737690_1': 0.2,\n",
       "             '277440_740084_21': 0.625,\n",
       "             '356662_161943_5': 0.625,\n",
       "             '356662_165474_5': 0.75,\n",
       "             '356662_167352_5': 0.6428571428571429,\n",
       "             '113235_449977_6': 0.8888888888888888,\n",
       "             '113235_822902_8': 0.8888888888888888,\n",
       "             '387463_663417_11': 1.0,\n",
       "             '298680_493281_5': 0.16666666666666666,\n",
       "             '298680_498222_1': 0.25,\n",
       "             '298680_504192_1': 0.9090909090909091,\n",
       "             '58225_63641_1': 0.3333333333333333,\n",
       "             '58225_64193_1': 0.5333333333333333,\n",
       "             '341645_356178_9': 0.7,\n",
       "             '341645_356253_5': 0.9,\n",
       "             '341645_359127_5': 0.9166666666666666,\n",
       "             '367706_812363_15': 0.7083333333333334,\n",
       "             '224358_635414_9': 0.9166666666666666,\n",
       "             '211326_318209_4': 0.9090909090909091,\n",
       "             '211326_326294_3': 0.9090909090909091,\n",
       "             '211326_329570_3': 0.7333333333333333,\n",
       "             '313246_76761_2': 0.4,\n",
       "             '391978_783535_3': 0.15384615384615385,\n",
       "             '391978_789811_2': 1.0,\n",
       "             '132540_612963_5': 0.8,\n",
       "             '132540_618465_10': 0.75,\n",
       "             '132540_619368_3': 0.9090909090909091,\n",
       "             '132540_622161_3': 0.46153846153846156,\n",
       "             '292363_598777_3': 1.0,\n",
       "             '292363_600280_3': 0.5,\n",
       "             '292363_601453_3': 0.6363636363636364,\n",
       "             '444207_396058_4': 0.46153846153846156,\n",
       "             '122388_688991_1': 0.9090909090909091,\n",
       "             '275661_242357_3': 0.5625,\n",
       "             '532747_317796_5': 0.6666666666666666,\n",
       "             '532747_317982_8': 0.6666666666666666,\n",
       "             '470658_199668_1': 0.35294117647058826,\n",
       "             '470658_201639_1': 0.6666666666666666,\n",
       "             '470658_229362_3': 0.16666666666666666,\n",
       "             '65051_98475_1': 0.8888888888888888,\n",
       "             '65051_112929_1': 1.0,\n",
       "             '417590_470418_6': 0.38461538461538464,\n",
       "             '417590_472131_6': 0.6363636363636364,\n",
       "             '182021_123728_4': 0.46153846153846156,\n",
       "             '182021_173837_4': 1.0,\n",
       "             '182021_195782_13': 0.6666666666666666,\n",
       "             '182021_198839_4': 1.0,\n",
       "             '405093_78307_4': 1.0,\n",
       "             '383386_635951_3': 1.0,\n",
       "             '383386_644954_3': 1.0,\n",
       "             '54091_540779_1': 0.5,\n",
       "             '54091_544880_1': 1.0,\n",
       "             '54091_546452_1': 0.875,\n",
       "             '54091_549314_2': 0.9,\n",
       "             '387_273288_2': 0.23076923076923078,\n",
       "             '387_275268_5': 0.9,\n",
       "             '387_276879_1': 0.5,\n",
       "             '193194_21649_5': 0.9166666666666666,\n",
       "             '193194_23590_3': 0.6,\n",
       "             '193194_23626_8': 1.0,\n",
       "             '65969_533068_2': 0.16666666666666666,\n",
       "             '65969_533935_12': 0.9166666666666666,\n",
       "             '65969_534442_2': 0.14285714285714285,\n",
       "             '65969_544582_1': 0.18181818181818182,\n",
       "             '292482_117452_1': 0.4666666666666667,\n",
       "             '292482_128459_1': 0.6363636363636364,\n",
       "             '515660_711170_1': 0.9285714285714286,\n",
       "             '420081_322472_2': 0.4166666666666667,\n",
       "             '420081_324671_3': 0.6,\n",
       "             '535808_695305_1': 0.8,\n",
       "             '535808_700375_1': 0.9,\n",
       "             '63740_18549_1': 0.18181818181818182,\n",
       "             '63740_27981_10': 0.625,\n",
       "             '348091_595814_1': 0.5,\n",
       "             '394131_825160_7': 0.16666666666666666,\n",
       "             '559051_662258_9': 0.4,\n",
       "             '559051_673616_9': 0.4,\n",
       "             '321861_443950_1': 0.2727272727272727,\n",
       "             '321861_447136_1': 0.6666666666666666,\n",
       "             '321861_447556_10': 1.0,\n",
       "             '379800_486194_13': 0.2,\n",
       "             '379800_486857_13': 0.25,\n",
       "             '379800_488735_5': 0.2,\n",
       "             '379800_823214_5': 0.3,\n",
       "             '507950_777946_6': 0.6153846153846154,\n",
       "             '507950_785581_8': 0.18181818181818182,\n",
       "             '507950_790489_13': 0.8888888888888888,\n",
       "             '50354_729438_6': 0.4444444444444444,\n",
       "             '50354_732447_5': 0.2222222222222222,\n",
       "             '76155_413804_6': 0.36363636363636365,\n",
       "             '76155_422360_6': 0.4444444444444444,\n",
       "             '581717_27412_2': 0.25,\n",
       "             '581717_32725_2': 0.45454545454545453,\n",
       "             '581717_33136_2': 0.375,\n",
       "             '581717_35764_2': 0.2222222222222222,\n",
       "             '581717_44011_2': 0.2,\n",
       "             '123131_187005_4': 0.45454545454545453,\n",
       "             '123131_188046_2': 1.0,\n",
       "             '123131_197193_2': 0.5,\n",
       "             '313623_516631_4': 0.4444444444444444,\n",
       "             '472399_26621_7': 0.9166666666666666,\n",
       "             '472399_26654_12': 0.5454545454545454,\n",
       "             '472399_31592_12': 0.3181818181818182,\n",
       "             '262626_304870_6': 0.1,\n",
       "             '262626_305509_2': 0.4166666666666667,\n",
       "             '262626_309898_2': 0.08695652173913043,\n",
       "             '78741_351432_9': 0.14285714285714285,\n",
       "             '78741_364290_10': 0.9,\n",
       "             '78741_365367_2': 0.14285714285714285,\n",
       "             '402778_586866_7': 0.25,\n",
       "             '402778_588168_12': 0.6666666666666666,\n",
       "             '402778_590544_7': 0.18181818181818182,\n",
       "             '402778_590547_7': 0.2,\n",
       "             '402778_591180_1': 0.3333333333333333,\n",
       "             '115796_320523_3': 0.7272727272727273,\n",
       "             '115796_327570_2': 0.5714285714285714,\n",
       "             '236784_704249_2': 1.0,\n",
       "             '236784_704753_2': 1.0,\n",
       "             '236784_714971_2': 0.8888888888888888,\n",
       "             '349926_304748_3': 0.9375,\n",
       "             '349926_305726_3': 1.0,\n",
       "             '349926_307211_3': 0.9,\n",
       "             '349926_309416_3': 0.6,\n",
       "             '349926_310139_3': 1.0,\n",
       "             '240033_485585_3': 0.9166666666666666,\n",
       "             '240033_488324_3': 0.6363636363636364,\n",
       "             '240033_490190_3': 0.6363636363636364,\n",
       "             '240033_824900_3': 0.6,\n",
       "             '179950_469081_3': 0.8888888888888888,\n",
       "             '179950_476725_3': 0.75,\n",
       "             '462241_121325_7': 0.375,\n",
       "             '462241_121418_7': 0.7272727272727273,\n",
       "             '11760_38032_9': 0.25,\n",
       "             '361919_184469_2': 0.42857142857142855,\n",
       "             '479129_661765_2': 0.8461538461538461,\n",
       "             '398563_130588_5': 0.7777777777777778,\n",
       "             '398563_177649_5': 0.9166666666666666,\n",
       "             '364187_47155_5': 0.9166666666666666,\n",
       "             '364187_47545_5': 0.1111111111111111,\n",
       "             '364187_48451_9': 1.0,\n",
       "             '364187_50356_5': 0.4444444444444444,\n",
       "             '73668_113782_2': 0.9090909090909091,\n",
       "             '73668_118801_2': 0.45454545454545453,\n",
       "             '419503_820981_5': 0.8461538461538461,\n",
       "             '398153_333452_3': 0.4444444444444444,\n",
       "             '398153_336197_11': 0.9411764705882353,\n",
       "             '283162_348751_6': 0.2222222222222222,\n",
       "             '283162_349423_3': 0.9333333333333333,\n",
       "             '283162_351601_6': 0.3333333333333333,\n",
       "             '283162_355816_11': 0.9285714285714286,\n",
       "             '283162_355852_11': 0.9285714285714286,\n",
       "             '434930_442759_3': 0.8888888888888888,\n",
       "             '434930_444580_1': 0.6666666666666666,\n",
       "             '434930_445039_3': 0.6363636363636364,\n",
       "             '139518_678711_3': 1.0,\n",
       "             '571313_206493_2': 0.9090909090909091,\n",
       "             '146358_144119_7': 0.8888888888888888,\n",
       "             '146358_147479_7': 0.8888888888888888,\n",
       "             '146358_150728_7': 1.0,\n",
       "             '253518_798259_3': 0.6428571428571429,\n",
       "             '478528_268569_2': 0.5555555555555556,\n",
       "             '229207_346027_3': 1.0,\n",
       "             '281782_121758_1': 0.5555555555555556,\n",
       "             '281782_133470_1': 0.9166666666666666,\n",
       "             '281782_138063_1': 0.8888888888888888,\n",
       "             '231281_84696_15': 1.0,\n",
       "             '231281_87606_4': 0.6363636363636364,\n",
       "             '231281_96063_6': 1.0,\n",
       "             '575051_196659_4': 1.0,\n",
       "             '290179_121511_1': 0.5,\n",
       "             '105973_773374_4': 0.5454545454545454,\n",
       "             '105973_775285_4': 0.6,\n",
       "             '105973_787975_6': 0.9090909090909091,\n",
       "             '462931_593942_4': 0.5454545454545454,\n",
       "             '462931_744395_4': 0.9166666666666666,\n",
       "             '462931_748558_4': 0.9166666666666666,\n",
       "             '54593_593187_9': 0.5833333333333334,\n",
       "             '54593_595641_4': 0.46153846153846156,\n",
       "             '520787_445525_3': 0.36363636363636365,\n",
       "             '520787_450751_3': 0.4,\n",
       "             '520787_454618_7': 0.3333333333333333,\n",
       "             '485236_467997_3': 0.4,\n",
       "             '485236_469005_5': 0.4444444444444444,\n",
       "             '485236_471720_5': 0.5454545454545454,\n",
       "             '179322_304153_2': 0.9090909090909091,\n",
       "             '179322_305488_2': 1.0,\n",
       "             '8170_816510_5': 0.9090909090909091,\n",
       "             '8170_816657_3': 0.7,\n",
       "             '459884_747765_2': 0.7777777777777778,\n",
       "             '168953_795002_1': 0.35714285714285715,\n",
       "             '168953_803585_1': 0.5,\n",
       "             '309933_280864_3': 0.5555555555555556,\n",
       "             '309933_283471_3': 0.5714285714285714,\n",
       "             '309933_285436_3': 0.2,\n",
       "             '309933_402010_2': 0.9,\n",
       "             '105737_521510_2': 0.5,\n",
       "             '105737_521756_10': 0.8333333333333334,\n",
       "             '105737_528734_2': 0.3,\n",
       "             '135399_275839_3': 0.2857142857142857,\n",
       "             '265227_592740_3': 0.5238095238095238,\n",
       "             '548882_432653_2': 0.5833333333333334,\n",
       "             '548882_435107_3': 0.75,\n",
       "             '548882_439367_3': 0.5,\n",
       "             '487385_567299_1': 0.6363636363636364,\n",
       "             '487385_571664_3': 0.75,\n",
       "             '165818_561134_2': 0.625,\n",
       "             '56070_24667_2': 0.4444444444444444,\n",
       "             '56070_25651_1': 0.3,\n",
       "             '534733_562913_3': 0.2222222222222222,\n",
       "             '534733_566642_5': 0.16666666666666666,\n",
       "             '68650_334504_5': 0.9166666666666666,\n",
       "             '68650_334678_5': 1.0,\n",
       "             '68650_337474_5': 0.9090909090909091,\n",
       "             '371330_722126_6': 0.9,\n",
       "             '239148_547611_5': 0.2,\n",
       "             '35826_600177_6': 0.13333333333333333,\n",
       "             '35826_604569_6': 0.16666666666666666,\n",
       "             '35826_606240_6': 0.23076923076923078,\n",
       "             '552289_789712_11': 0.7647058823529411,\n",
       "             '552289_791515_8': 0.9285714285714286,\n",
       "             '552289_792238_5': 0.5454545454545454,\n",
       "             '552289_793885_3': 0.2222222222222222,\n",
       "             '371054_337825_2': 0.3333333333333333,\n",
       "             '371054_340036_2': 0.4444444444444444,\n",
       "             '93803_495121_4': 0.36363636363636365,\n",
       "             '93803_501379_2': 0.375,\n",
       "             '578383_732629_6': 0.23076923076923078,\n",
       "             '578383_741812_6': 0.125,\n",
       "             '578383_827540_6': 0.45454545454545453,\n",
       "             '578383_828118_6': 0.36363636363636365,\n",
       "             '526751_288399_7': 0.13333333333333333,\n",
       "             '526751_291300_4': 0.125,\n",
       "             '504589_104589_3': 0.9,\n",
       "             '504589_118650_3': 0.9285714285714286,\n",
       "             '504589_121977_3': 0.6923076923076923,\n",
       "             '573179_637661_5': 0.9166666666666666,\n",
       "             '573179_638276_5': 1.0,\n",
       "             '573179_638630_5': 0.9,\n",
       "             '573179_642785_5': 0.9166666666666666,\n",
       "             '18654_610853_5': 0.25,\n",
       "             '341719_740037_2': 0.5,\n",
       "             '53958_105802_6': 0.25,\n",
       "             '53958_123154_2': 0.4444444444444444,\n",
       "             '338375_403157_2': 0.9090909090909091,\n",
       "             '455555_422580_5': 0.7,\n",
       "             '455555_427500_1': 0.9,\n",
       "             '439092_736874_2': 0.8888888888888888,\n",
       "             '439092_740105_2': 0.5,\n",
       "             '531115_372828_3': 0.18181818181818182,\n",
       "             '531115_377100_3': 1.0,\n",
       "             '530052_680286_1': 0.5833333333333334,\n",
       "             '121006_206962_1': 0.9090909090909091,\n",
       "             '121006_207478_6': 0.5454545454545454,\n",
       "             '121006_209899_1': 1.0,\n",
       "             '473118_101023_6': 0.5,\n",
       "             '466425_749334_3': 0.9090909090909091,\n",
       "             '384416_5306_1': 0.8888888888888888,\n",
       "             '384416_5918_1': 0.45454545454545453,\n",
       "             '384416_8264_1': 0.7142857142857143,\n",
       "             '19957_572772_3': 0.9090909090909091,\n",
       "             '19957_573684_5': 0.9,\n",
       "             '19957_575268_3': 0.6428571428571429,\n",
       "             '19957_578688_3': 1.0,\n",
       "             '6028_672057_5': 0.9090909090909091,\n",
       "             '357870_22013_3': 0.26666666666666666,\n",
       "             '346774_532011_3': 0.5,\n",
       "             '346774_532896_3': 0.42857142857142855,\n",
       "             '346774_533883_3': 0.18181818181818182,\n",
       "             '346774_534717_3': 0.8125,\n",
       "             '346774_535662_7': 0.9090909090909091,\n",
       "             '417668_65407_4': 0.1111111111111111,\n",
       "             '453824_261429_3': 0.9166666666666666,\n",
       "             '446881_157240_3': 0.7777777777777778,\n",
       "             '446881_159409_5': 0.75,\n",
       "             '446881_162619_7': 0.9333333333333333,\n",
       "             '341681_60050_9': 0.9,\n",
       "             '343524_69016_9': 0.8333333333333334,\n",
       "             '343524_70663_9': 0.9,\n",
       "             '526359_123416_5': 0.7142857142857143,\n",
       "             '518224_532049_4': 0.5454545454545454,\n",
       "             '518224_532586_4': 0.6,\n",
       "             '133060_110942_6': 0.6363636363636364,\n",
       "             '133060_113663_15': 0.9333333333333333,\n",
       "             '133060_114386_4': 1.0,\n",
       "             '339426_215405_4': 0.6,\n",
       "             '339426_234794_4': 0.5,\n",
       "             '339426_236333_6': 0.6363636363636364,\n",
       "             '339426_239204_6': 0.5454545454545454,\n",
       "             '27731_700885_9': 0.9230769230769231,\n",
       "             '329789_473163_1': 0.6363636363636364,\n",
       "             '329789_476052_1': 0.6363636363636364,\n",
       "             '329789_481686_1': 0.6923076923076923,\n",
       "             '329789_482154_1': 0.7333333333333333,\n",
       "             '329789_485829_3': 0.4666666666666667,\n",
       "             '497599_89525_1': 0.6,\n",
       "             '497599_92594_1': 0.8888888888888888,\n",
       "             '515755_655523_11': 0.9,\n",
       "             '515755_656903_2': 0.3,\n",
       "             '515755_658325_11': 0.8888888888888888,\n",
       "             '515755_658433_2': 0.8888888888888888,\n",
       "             '476731_29536_2': 1.0,\n",
       "             '476731_44977_2': 0.7368421052631579,\n",
       "             '20004_519965_1': 0.4444444444444444,\n",
       "             '218204_704102_1': 0.3333333333333333,\n",
       "             '218204_706895_2': 0.4444444444444444,\n",
       "             '218204_718991_1': 0.6363636363636364,\n",
       "             '382758_547441_3': 0.9333333333333333,\n",
       "             '561523_773180_1': 0.8888888888888888,\n",
       "             '561523_773333_1': 0.9166666666666666,\n",
       "             '561523_773501_3': 0.18181818181818182,\n",
       "             '451345_478225_1': 1.0,\n",
       "             '451345_481594_1': 0.9090909090909091,\n",
       "             '423173_396167_11': 0.9285714285714286,\n",
       "             '423173_397277_1': 0.45454545454545453,\n",
       "             '423173_400202_4': 0.9,\n",
       "             '423173_401381_11': 0.9166666666666666,\n",
       "             '423173_513197_9': 0.7142857142857143,\n",
       "             '230615_439350_3': 0.8181818181818182,\n",
       "             '230615_442806_3': 0.15384615384615385,\n",
       "             '177934_21197_1': 0.7777777777777778,\n",
       "             '177934_27587_1': 0.4444444444444444,\n",
       "             '575904_555323_5': 0.75,\n",
       "             '577182_302435_1': 0.2,\n",
       "             '577182_312773_1': 0.25,\n",
       "             '577182_317285_4': 0.6666666666666666,\n",
       "             '175867_466034_5': 0.45454545454545453,\n",
       "             '79011_221682_9': 0.18181818181818182,\n",
       "             '393254_166844_3': 0.8888888888888888,\n",
       "             '393254_169613_4': 0.7692307692307693,\n",
       "             '60128_711775_4': 0.25,\n",
       "             '60128_720175_4': 0.2727272727272727,\n",
       "             '60128_722953_1': 0.25,\n",
       "             '60128_723661_4': 0.3,\n",
       "             '285957_238053_9': 0.2,\n",
       "             '84123_227515_5': 0.2727272727272727,\n",
       "             '418435_69740_5': 0.9285714285714286,\n",
       "             '203128_754844_2': 0.2857142857142857,\n",
       "             '203128_756536_3': 0.7272727272727273,\n",
       "             '203128_757325_2': 0.9,\n",
       "             '291541_781181_2': 0.2,\n",
       "             '291541_790889_2': 0.2727272727272727,\n",
       "             '527038_674781_1': 0.7,\n",
       "             '527038_675612_1': 0.5454545454545454,\n",
       "             '232849_356022_2': 0.9090909090909091,\n",
       "             '66485_198948_3': 0.8888888888888888,\n",
       "             '66485_208521_3': 0.6,\n",
       "             '66485_208683_3': 0.5555555555555556,\n",
       "             '66485_210882_3': 0.9090909090909091,\n",
       "             '211837_106918_9': 0.5,\n",
       "             '211837_121915_4': 0.3333333333333333,\n",
       "             '518249_680948_3': 0.15384615384615385,\n",
       "             '518249_694253_3': 0.6363636363636364,\n",
       "             '566276_792858_5': 0.9,\n",
       "             '566276_792894_5': 0.6666666666666666,\n",
       "             '566276_795258_5': 0.4,\n",
       "             '156232_518526_5': 0.9090909090909091,\n",
       "             '297698_735464_7': 0.5,\n",
       "             '236272_48729_4': 0.5454545454545454,\n",
       "             '236272_48801_4': 0.8888888888888888,\n",
       "             '575915_402963_3': 0.36363636363636365,\n",
       "             '575915_405744_3': 0.4117647058823529,\n",
       "             '575915_417363_3': 0.9166666666666666,\n",
       "             '190041_429110_1': 0.5,\n",
       "             '190041_434018_1': 0.625,\n",
       "             '316514_571701_5': 0.25,\n",
       "             '316514_577890_5': 1.0,\n",
       "             '558854_523483_1': 0.5833333333333334,\n",
       "             '558854_524527_3': 0.2222222222222222,\n",
       "             '232115_675630_3': 0.2,\n",
       "             '232115_682197_3': 0.2222222222222222,\n",
       "             '420281_748476_1': 0.8888888888888888,\n",
       "             '420281_750771_1': 0.5,\n",
       "             '420281_759113_1': 0.75,\n",
       "             '420281_765194_1': 0.6666666666666666,\n",
       "             '244940_445787_3': 0.45454545454545453,\n",
       "             '244940_452036_3': 0.8888888888888888,\n",
       "             '244940_823763_1': 0.25,\n",
       "             '257198_413597_4': 0.8888888888888888,\n",
       "             '310059_365991_6': 0.9166666666666666,\n",
       "             '300206_717874_3': 0.45454545454545453,\n",
       "             '43944_635956_6': 0.16666666666666666,\n",
       "             '581683_583009_7': 0.4444444444444444,\n",
       "             '581683_583930_3': 0.5,\n",
       "             '85735_125332_7': 0.5454545454545454,\n",
       "             '85735_129046_7': 0.3333333333333333,\n",
       "             '85735_131479_7': 0.5833333333333334,\n",
       "             '150874_188699_2': 0.5555555555555556,\n",
       "             '150874_190340_2': 0.2727272727272727,\n",
       "             '150874_196094_2': 0.625,\n",
       "             '368280_712089_9': 0.9090909090909091,\n",
       "             '368280_717141_9': 0.7272727272727273,\n",
       "             '132987_451210_3': 0.5555555555555556,\n",
       "             '482275_383492_7': 0.75,\n",
       "             '482275_386183_7': 0.8888888888888888,\n",
       "             '482275_391670_7': 0.6666666666666666,\n",
       "             '330897_771177_3': 0.3,\n",
       "             '330897_773769_3': 0.25,\n",
       "             '330897_773850_3': 0.4166666666666667,\n",
       "             '330897_774900_3': 0.9090909090909091,\n",
       "             '202436_594227_2': 0.14285714285714285,\n",
       "             '226988_9376_3': 0.5833333333333334,\n",
       "             '36844_217229_7': 0.4,\n",
       "             '425620_364608_2': 0.6666666666666666,\n",
       "             '12576_169174_7': 0.9,\n",
       "             '12576_172669_3': 0.6363636363636364,\n",
       "             '12576_177931_3': 0.1111111111111111,\n",
       "             '581450_676241_7': 0.5555555555555556,\n",
       "             '581450_677318_2': 0.5,\n",
       "             '226220_428438_2': 0.2222222222222222,\n",
       "             '226220_430121_11': 1.0,\n",
       "             '226220_434327_11': 0.6,\n",
       "             '481996_274284_2': 0.5,\n",
       "             '311310_575400_1': 0.9,\n",
       "             '311310_576966_1': 0.7272727272727273,\n",
       "             '311310_576978_1': 0.625,\n",
       "             '311310_577188_1': 0.6428571428571429,\n",
       "             '571893_315325_1': 0.16666666666666666,\n",
       "             '78638_207906_4': 0.5,\n",
       "             '78638_220521_4': 1.0,\n",
       "             '78638_220944_4': 0.5,\n",
       "             '356878_186906_1': 0.5,\n",
       "             '356878_198660_5': 0.8,\n",
       "             '233315_82133_6': 1.0,\n",
       "             '410225_162261_2': 0.36363636363636365,\n",
       "             '410225_167190_2': 0.6363636363636364,\n",
       "             '410225_169599_10': 0.5333333333333333,\n",
       "             '410225_170052_3': 0.8,\n",
       "             '382973_654918_3': 0.7857142857142857,\n",
       "             '382973_659622_1': 0.38461538461538464,\n",
       "             '31368_372922_3': 0.5,\n",
       "             '201190_513918_4': 1.0,\n",
       "             '201190_514821_3': 0.5555555555555556,\n",
       "             '201190_514845_3': 0.6666666666666666,\n",
       "             '321811_668095_1': 1.0,\n",
       "             '410301_373036_4': 0.6,\n",
       "             '410301_374959_3': 0.38461538461538464,\n",
       "             '104865_571234_5': 0.2,\n",
       "             '104865_577024_11': 1.0,\n",
       "             '104865_578539_5': 0.3333333333333333,\n",
       "             '154721_787011_1': 0.14285714285714285,\n",
       "             '154721_787122_1': 0.25,\n",
       "             '279887_814974_3': 0.25,\n",
       "             '444209_458942_1': 0.5454545454545454,\n",
       "             '531234_86205_1': 0.625,\n",
       "             '531234_88887_3': 0.6363636363636364,\n",
       "             '421131_760749_1': 0.9230769230769231,\n",
       "             '421131_761883_1': 1.0,\n",
       "             '213693_96990_1': 0.8888888888888888,\n",
       "             '232900_63342_4': 0.3333333333333333,\n",
       "             '232900_68100_4': 0.5,\n",
       "             '232900_68463_4': 0.3,\n",
       "             '463084_475536_1': 0.18181818181818182,\n",
       "             '463084_477054_1': 0.16666666666666666,\n",
       "             '463084_828332_1': 0.8181818181818182,\n",
       "             '173797_84202_1': 0.5454545454545454,\n",
       "             '173797_85159_1': 0.15384615384615385,\n",
       "             '173797_86029_4': 0.4166666666666667,\n",
       "             '543551_810984_4': 0.4,\n",
       "             '543551_814299_4': 0.4,\n",
       "             '187144_186258_4': 0.25,\n",
       "             '187144_195198_3': 0.36363636363636365,\n",
       "             '187144_199008_4': 0.3,\n",
       "             '187144_209760_3': 0.9230769230769231,\n",
       "             '58651_167229_6': 0.3333333333333333,\n",
       "             '504516_694334_15': 0.6428571428571429,\n",
       "             '504516_695138_3': 0.13333333333333333,\n",
       "             '504516_699314_3': 0.5,\n",
       "             '504516_701186_2': 0.9230769230769231,\n",
       "             '556420_39828_3': 0.6363636363636364,\n",
       "             '556420_41778_7': 0.4375,\n",
       "             '556420_51477_3': 0.2,\n",
       "             '183648_255174_4': 1.0,\n",
       "             '183648_269727_4': 0.6666666666666666,\n",
       "             '183648_270696_4': 1.0,\n",
       "             '183648_275523_4': 0.9090909090909091,\n",
       "             '42793_406449_1': 0.6,\n",
       "             '42793_408942_1': 0.42857142857142855,\n",
       "             '32677_17063_11': 0.45454545454545453,\n",
       "             '32677_25859_29': 0.72,\n",
       "             '418110_768257_10': 0.9090909090909091,\n",
       "             '418110_769193_10': 0.9285714285714286,\n",
       "             '418110_779546_10': 0.8,\n",
       "             '418110_783848_10': 1.0,\n",
       "             '405249_408953_11': 0.9090909090909091,\n",
       "             '405249_410108_7': 0.9090909090909091,\n",
       "             '405249_415793_3': 0.5454545454545454,\n",
       "             '405249_416435_7': 0.7,\n",
       "             '533032_610644_5': 0.4166666666666667,\n",
       "             '533032_610986_5': 0.5,\n",
       "             '533032_611586_5': 0.7058823529411765,\n",
       "             '533032_614046_5': 0.16666666666666666,\n",
       "             '160341_40472_2': 0.4,\n",
       "             '260036_291998_5': 0.8181818181818182,\n",
       "             '260036_295508_6': 0.9,\n",
       "             '260036_295919_5': 0.6363636363636364,\n",
       "             '146240_702710_1': 0.6153846153846154,\n",
       "             '146240_707924_1': 0.75,\n",
       "             '146240_710747_1': 0.6666666666666666,\n",
       "             '370170_737960_5': 0.625,\n",
       "             '57843_764836_7': 0.7,\n",
       "             '131841_576928_3': 0.6923076923076923,\n",
       "             '131841_577285_2': 0.3333333333333333,\n",
       "             '334185_507844_2': 0.4,\n",
       "             '233651_551537_3': 0.8888888888888888,\n",
       "             '233651_552554_7': 0.4,\n",
       "             '192457_202364_19': 0.9090909090909091,\n",
       "             '192457_218894_12': 0.7272727272727273,\n",
       "             '192457_228677_12': 0.75,\n",
       "             '192457_231623_9': 0.5,\n",
       "             '401027_572574_6': 0.6666666666666666,\n",
       "             '401027_573210_4': 0.7,\n",
       "             '401027_574599_3': 0.1111111111111111,\n",
       "             '542260_261320_6': 0.6363636363636364,\n",
       "             '184384_741106_7': 0.26666666666666666,\n",
       "             '184384_742159_3': 0.6,\n",
       "             '522163_730140_3': 0.5,\n",
       "             '522163_738801_3': 0.9090909090909091,\n",
       "             '147309_809767_7': 0.5714285714285714,\n",
       "             '147309_814666_10': 0.5384615384615384,\n",
       "             '147309_816668_7': 0.6428571428571429,\n",
       "             '111211_440346_2': 0.45454545454545453,\n",
       "             '111211_440910_2': 0.2,\n",
       "             '152012_642412_6': 0.5833333333333334,\n",
       "             '313770_585965_7': 0.9230769230769231,\n",
       "             '313770_590372_11': 0.9090909090909091,\n",
       "             '313770_596648_7': 0.6363636363636364,\n",
       "             '158222_171885_1': 0.2,\n",
       "             '158222_175707_1': 0.9,\n",
       "             '158222_186429_1': 0.9,\n",
       "             '212927_568029_2': 0.5714285714285714,\n",
       "             '212927_569637_5': 1.0,\n",
       "             '212927_572124_5': 0.9,\n",
       "             '212927_572202_5': 1.0,\n",
       "             '280079_56992_5': 0.42857142857142855,\n",
       "             '280079_57826_5': 0.5,\n",
       "             '280079_58954_5': 0.5555555555555556,\n",
       "             '398505_571155_5': 0.9,\n",
       "             '398505_572631_3': 1.0,\n",
       "             '398505_572829_5': 0.6,\n",
       "             '564337_29361_3': 0.6666666666666666,\n",
       "             '564337_31020_3': 0.5,\n",
       "             ...})"
      ]
     },
     "execution_count": 298,
     "metadata": {},
     "output_type": "execute_result"
    }
   ],
   "source": [
    "foil_caption_rel_pos"
   ]
  },
  {
   "cell_type": "code",
   "execution_count": 299,
   "metadata": {},
   "outputs": [
    {
     "data": {
      "image/png": "[encoded data removed]",
      "text/plain": [
       "<matplotlib.figure.Figure at 0x7f866cdf6c18>"
      ]
     },
     "metadata": {},
     "output_type": "display_data"
    }
   ],
   "source": [
    "rel_pos_distribution = [foil_caption_rel_pos[k] for k in foil_caption_rel_pos]\n",
    "df = pd.DataFrame(rel_pos_distribution, columns=['relative pos'])\n",
    "df.plot.hist(figsize=(15,15),bins = 100)\n",
    "plt.savefig('rel_pos.png')\n",
    "plt.show()"
   ]
  },
  {
   "cell_type": "code",
   "execution_count": 317,
   "metadata": {},
   "outputs": [
    {
     "data": {
      "image/png": "[encoded data removed]",
      "text/plain": [
       "<matplotlib.figure.Figure at 0x7f866e9582e8>"
      ]
     },
     "metadata": {},
     "output_type": "display_data"
    }
   ],
   "source": [
    "abs_pos_distribution = [foil_caption_abs_pos[k] for k in foil_caption_abs_pos]\n",
    "df = pd.DataFrame(abs_pos_distribution, columns=['absolute pos'])\n",
    "df.plot.hist(figsize=(15,15),bins = 100)\n",
    "plt.savefig('abs_pos.png')\n",
    "plt.show()"
   ]
  },
  {
   "cell_type": "code",
   "execution_count": 318,
   "metadata": {},
   "outputs": [
    {
     "name": "stdout",
     "output_type": "stream",
     "text": [
      "NormaltestResult(statistic=298.32270109964674, pvalue=1.6597724170211482e-65)\n"
     ]
    }
   ],
   "source": [
    "print(stats.normaltest(abs_pos_distribution))"
   ]
  },
  {
   "cell_type": "code",
   "execution_count": 319,
   "metadata": {},
   "outputs": [
    {
     "name": "stdout",
     "output_type": "stream",
     "text": [
      "NormaltestResult(statistic=20094.32526862562, pvalue=0.0)\n"
     ]
    }
   ],
   "source": [
    "print(stats.normaltest(rel_pos_distribution))"
   ]
  },
  {
   "cell_type": "code",
   "execution_count": 300,
   "metadata": {
    "collapsed": true
   },
   "outputs": [],
   "source": [
    "def get_position_acc(results, foil_positions_per_caption):\n",
    "    \n",
    "    absolute_acc = defaultdict(float)\n",
    "    relative_acc = defaultdict(float) \n",
    "    \n",
    "    for p in foil_positions_per_caption:\n",
    "        accuracy_sum = 0\n",
    "        count = len(foil_positions_per_caption[p])\n",
    "        \n",
    "        for c in foil_positions_per_caption[p]:\n",
    "            # result of that caption\n",
    "            c_split = c.split('_')\n",
    "            res = results[c]\n",
    "\n",
    "            if c_split[1] != '0' and res['answer'] == 'FOIL':\n",
    "                    #foil sentence & correct answer\n",
    "                    accuracy_sum += 1\n",
    "                    \n",
    "        absolute_acc[p] = accuracy_sum/count\n",
    "        \n",
    "        #TODO relative pos\n",
    "    return absolute_acc, relative_acc"
   ]
  },
  {
   "cell_type": "code",
   "execution_count": 307,
   "metadata": {},
   "outputs": [
    {
     "name": "stdout",
     "output_type": "stream",
     "text": [
      "GW_Frozen_SL defaultdict(<class 'float'>, {11: 0.44029850746268656, 8: 0.4099009900990099, 10: 0.4473684210526316, 3: 0.43609022556390975, 2: 0.4010152284263959, 6: 0.40463458110516937, 12: 0.39552238805970147, 5: 0.46303501945525294, 9: 0.40213523131672596, 1: 0.2962962962962963, 18: 0.4, 7: 0.4382284382284382, 15: 0.5666666666666667, 4: 0.4519230769230769, 13: 0.47368421052631576, 16: 0.6875, 14: 0.41379310344827586, 17: 0.3076923076923077, 21: 0.5, 22: 0.0, 35: 0.0, 19: 0.5, 23: 0.3333333333333333, 20: 0.0}) defaultdict(<class 'float'>, {})\n",
      "1 , 0.2962962962962963\n",
      "2 , 0.4010152284263959\n",
      "3 , 0.43609022556390975\n",
      "4 , 0.4519230769230769\n",
      "5 , 0.46303501945525294\n",
      "6 , 0.40463458110516937\n",
      "7 , 0.4382284382284382\n",
      "8 , 0.4099009900990099\n",
      "9 , 0.40213523131672596\n",
      "10 , 0.4473684210526316\n",
      "11 , 0.44029850746268656\n",
      "12 , 0.39552238805970147\n",
      "13 , 0.47368421052631576\n",
      "14 , 0.41379310344827586\n",
      "15 , 0.5666666666666667\n",
      "16 , 0.6875\n",
      "17 , 0.3076923076923077\n",
      "18 , 0.4\n",
      "19 , 0.5\n",
      "20 , 0.0\n",
      "21 , 0.5\n",
      "22 , 0.0\n",
      "23 , 0.3333333333333333\n",
      "35 , 0.0\n"
     ]
    }
   ],
   "source": [
    "absolute_acc, relative_acc = get_position_acc(results_gw_frozen_SL, foil_positions_per_caption)\n",
    "print('GW_Frozen_SL', absolute_acc, relative_acc)\n",
    "\n",
    "sorted_pos = sorted(absolute_acc.keys())\n",
    "\n",
    "for s in sorted_pos:\n",
    "    print(s,',', absolute_acc[s])"
   ]
  },
  {
   "cell_type": "code",
   "execution_count": 321,
   "metadata": {},
   "outputs": [
    {
     "name": "stdout",
     "output_type": "stream",
     "text": [
      "Pearson's coefficient: -0.456098765273 \n",
      "p-value: 0.025085230506\n",
      "Spearman's r: -0.175843412047 \n",
      "p-value: 0.411134393653\n"
     ]
    }
   ],
   "source": [
    "list_obj_counts = list(absolute_acc.keys())\n",
    "list_obj_accs = []\n",
    "\n",
    "for c in absolute_acc:\n",
    "    list_obj_accs.append(absolute_acc[c])\n",
    "    \n",
    "#correlation between the object counts in the images in the training set vs accuracy\n",
    "coef, p = pearsonr(list_obj_counts, list_obj_accs)\n",
    "print('Pearson\\'s coefficient:',coef, '\\np-value:', p)\n",
    "r, p = spearmanr(list_obj_counts, list_obj_accs)\n",
    "print('Spearman\\'s r:',r, '\\np-value:',p)"
   ]
  },
  {
   "cell_type": "code",
   "execution_count": 235,
   "metadata": {
    "collapsed": true
   },
   "outputs": [],
   "source": [
    "#todo regression model combining rel and abs\n",
    "#todo rel distribution"
   ]
  },
  {
   "cell_type": "code",
   "execution_count": 324,
   "metadata": {},
   "outputs": [
    {
     "name": "stdout",
     "output_type": "stream",
     "text": [
      "GW_Fine_SL defaultdict(<class 'float'>, {11: 0.43656716417910446, 8: 0.4613861386138614, 10: 0.4144736842105263, 3: 0.41102756892230574, 2: 0.3604060913705584, 6: 0.43672014260249553, 12: 0.44029850746268656, 5: 0.48249027237354086, 9: 0.40213523131672596, 1: 0.2962962962962963, 18: 0.4, 7: 0.42657342657342656, 15: 0.5666666666666667, 4: 0.3333333333333333, 13: 0.4105263157894737, 16: 0.6875, 14: 0.3793103448275862, 17: 0.38461538461538464, 21: 1.0, 22: 0.0, 35: 1.0, 19: 1.0, 23: 0.6666666666666666, 20: 0.5}) defaultdict(<class 'float'>, {})\n",
      "1 , 0.2962962962962963\n",
      "2 , 0.3604060913705584\n",
      "3 , 0.41102756892230574\n",
      "4 , 0.3333333333333333\n",
      "5 , 0.48249027237354086\n",
      "6 , 0.43672014260249553\n",
      "7 , 0.42657342657342656\n",
      "8 , 0.4613861386138614\n",
      "9 , 0.40213523131672596\n",
      "10 , 0.4144736842105263\n",
      "11 , 0.43656716417910446\n",
      "12 , 0.44029850746268656\n",
      "13 , 0.4105263157894737\n",
      "14 , 0.3793103448275862\n",
      "15 , 0.5666666666666667\n",
      "16 , 0.6875\n",
      "17 , 0.38461538461538464\n",
      "18 , 0.4\n",
      "19 , 1.0\n",
      "20 , 0.5\n",
      "21 , 1.0\n",
      "22 , 0.0\n",
      "23 , 0.6666666666666666\n",
      "35 , 1.0\n",
      "Pearson's coefficient: 0.533388381064 \n",
      "p-value: 0.00727278884498\n",
      "Spearman's r: 0.468233423635 \n",
      "p-value: 0.0210211921854\n"
     ]
    }
   ],
   "source": [
    "absolute_acc, relative_acc = get_position_acc(results_gw_finetune_SL, foil_positions_per_caption)\n",
    "print('GW_Fine_SL', absolute_acc, relative_acc)\n",
    "\n",
    "sorted_pos = sorted(absolute_acc.keys())\n",
    "\n",
    "for s in sorted_pos:\n",
    "    print(s,',', absolute_acc[s])\n",
    "    \n",
    "\n",
    "list_obj_counts = list(absolute_acc.keys())\n",
    "list_obj_accs = []\n",
    "\n",
    "for c in absolute_acc:\n",
    "    list_obj_accs.append(absolute_acc[c])\n",
    "    \n",
    "#correlation between the object counts in the images in the training set vs accuracy\n",
    "coef, p = pearsonr(list_obj_counts, list_obj_accs)\n",
    "print('Pearson\\'s coefficient:',coef, '\\np-value:', p)\n",
    "\n",
    "r, p = spearmanr(list_obj_counts, list_obj_accs)\n",
    "print('Spearman\\'s r:',r, '\\np-value:',p)"
   ]
  },
  {
   "cell_type": "code",
   "execution_count": 395,
   "metadata": {},
   "outputs": [
    {
     "name": "stdout",
     "output_type": "stream",
     "text": [
      "VQA_FROZEN defaultdict(<class 'float'>, {11: 0.30223880597014924, 8: 0.3207920792079208, 10: 0.31140350877192985, 3: 0.3082706766917293, 2: 0.3096446700507614, 6: 0.3333333333333333, 12: 0.3358208955223881, 5: 0.32684824902723736, 9: 0.3167259786476868, 1: 0.2222222222222222, 18: 0.4, 7: 0.30303030303030304, 15: 0.4, 4: 0.3333333333333333, 13: 0.28421052631578947, 16: 0.3125, 14: 0.3103448275862069, 17: 0.38461538461538464, 21: 0.5, 22: 1.0, 35: 0.0, 19: 0.25, 23: 0.3333333333333333, 20: 0.5}) defaultdict(<class 'float'>, {})\n",
      "1 , 0.2222222222222222\n",
      "2 , 0.3096446700507614\n",
      "3 , 0.3082706766917293\n",
      "4 , 0.3333333333333333\n",
      "5 , 0.32684824902723736\n",
      "6 , 0.3333333333333333\n",
      "7 , 0.30303030303030304\n",
      "8 , 0.3207920792079208\n",
      "9 , 0.3167259786476868\n",
      "10 , 0.31140350877192985\n",
      "11 , 0.30223880597014924\n",
      "12 , 0.3358208955223881\n",
      "13 , 0.28421052631578947\n",
      "14 , 0.3103448275862069\n",
      "15 , 0.4\n",
      "16 , 0.3125\n",
      "17 , 0.38461538461538464\n",
      "18 , 0.4\n",
      "19 , 0.25\n",
      "20 , 0.5\n",
      "21 , 0.5\n",
      "22 , 1.0\n",
      "23 , 0.3333333333333333\n",
      "35 , 0.0\n",
      "Pearson's coefficient: 0.115296715951 \n",
      "p-value: 0.59162833914\n",
      "Spearman's r: 0.345668557767 \n",
      "p-value: 0.0980306278073\n"
     ]
    }
   ],
   "source": [
    "absolute_acc, relative_acc = get_position_acc(results_vqa_frozen, foil_positions_per_caption)\n",
    "print('VQA_FROZEN', absolute_acc, relative_acc)\n",
    "\n",
    "sorted_pos = sorted(absolute_acc.keys())\n",
    "\n",
    "for s in sorted_pos:\n",
    "    print(s,',', absolute_acc[s])\n",
    "    \n",
    "\n",
    "list_obj_counts = list(absolute_acc.keys())\n",
    "list_obj_accs = []\n",
    "\n",
    "for c in absolute_acc:\n",
    "    list_obj_accs.append(absolute_acc[c])\n",
    "    \n",
    "#correlation between the object counts in the images in the training set vs accuracy\n",
    "coef, p = pearsonr(list_obj_counts, list_obj_accs)\n",
    "print('Pearson\\'s coefficient:',coef, '\\np-value:', p)\n",
    "\n",
    "r, p = spearmanr(list_obj_counts, list_obj_accs)\n",
    "print('Spearman\\'s r:',r, '\\np-value:',p)"
   ]
  },
  {
   "cell_type": "code",
   "execution_count": 238,
   "metadata": {},
   "outputs": [
    {
     "name": "stdout",
     "output_type": "stream",
     "text": [
      "11\n"
     ]
    }
   ],
   "source": [
    "supercategory_captions = defaultdict(list)\n",
    "set2captions = test\n",
    "\n",
    "#dictionary that takes supercategory and returns image id and change_id\n",
    "#from the given set ONLY FOR FOIL SENTENCES\n",
    "\n",
    "for t in set2captions['annotations']:\n",
    "    if 'Original' in t['change_id']:\n",
    "        pass\n",
    "    else:\n",
    "        sup_cat = t['annType']\n",
    "        id_bits = str(t['image_id']) + '_'+ str(t['change_id'])\n",
    "        supercategory_captions[sup_cat].append(id_bits)\n",
    "        \n",
    "print(len(supercategory_captions))"
   ]
  },
  {
   "cell_type": "code",
   "execution_count": 239,
   "metadata": {},
   "outputs": [
    {
     "data": {
      "text/plain": [
       "dict_keys(['food', 'vehicle', 'furniture', 'kitchen', 'animal', 'accessory', 'sports', 'electronic', 'indoor', 'appliance', 'outdoor'])"
      ]
     },
     "execution_count": 239,
     "metadata": {},
     "output_type": "execute_result"
    }
   ],
   "source": [
    "supercategory_captions.keys()"
   ]
  },
  {
   "cell_type": "code",
   "execution_count": 240,
   "metadata": {},
   "outputs": [],
   "source": [
    "def get_supercat_acc(results, supercategory_captions):\n",
    "    \n",
    "    supercat_acc = defaultdict(float)\n",
    "    \n",
    "    for s in supercategory_captions:\n",
    "        accuracy_sum = 0\n",
    "        count = len(supercategory_captions[s])\n",
    "#         if count == 0:\n",
    "#             print(supercategory_captions[s])\n",
    "\n",
    "        for c in supercategory_captions[s]:\n",
    "            # result of that caption\n",
    "            c_split = c.split('_')\n",
    "            res = results[c]\n",
    "\n",
    "            if c_split[1] != '0' and res['answer'] == 'FOIL':\n",
    "                    #foil sentence & correct answer\n",
    "                    accuracy_sum += 1\n",
    "                    \n",
    "        supercat_acc[s] = accuracy_sum/count\n",
    "        \n",
    "    return supercat_acc"
   ]
  },
  {
   "cell_type": "code",
   "execution_count": 241,
   "metadata": {},
   "outputs": [
    {
     "name": "stdout",
     "output_type": "stream",
     "text": [
      "GW_Frozen_SL defaultdict(<class 'float'>, {'food': 0.27543035993740217, 'vehicle': 0.41878453038674035, 'furniture': 0.5, 'kitchen': 0.5214285714285715, 'animal': 0.4211123723041998, 'accessory': 0.7051282051282052, 'sports': 0.38963963963963966, 'electronic': 0.4281842818428184, 'indoor': 0.48226950354609927, 'appliance': 0.42028985507246375, 'outdoor': 0.6})\n"
     ]
    }
   ],
   "source": [
    "supercat_acc = get_supercat_acc(results_gw_frozen_SL, supercategory_captions)\n",
    "print('GW_Frozen_SL', supercat_acc)"
   ]
  },
  {
   "cell_type": "code",
   "execution_count": 242,
   "metadata": {},
   "outputs": [
    {
     "data": {
      "text/plain": [
       "defaultdict(float,\n",
       "            {'accessory': 0.7051282051282052,\n",
       "             'animal': 0.4211123723041998,\n",
       "             'appliance': 0.42028985507246375,\n",
       "             'electronic': 0.4281842818428184,\n",
       "             'food': 0.27543035993740217,\n",
       "             'furniture': 0.5,\n",
       "             'indoor': 0.48226950354609927,\n",
       "             'kitchen': 0.5214285714285715,\n",
       "             'outdoor': 0.6,\n",
       "             'sports': 0.38963963963963966,\n",
       "             'vehicle': 0.41878453038674035})"
      ]
     },
     "execution_count": 242,
     "metadata": {},
     "output_type": "execute_result"
    }
   ],
   "source": [
    "supercat_acc"
   ]
  },
  {
   "cell_type": "code",
   "execution_count": 243,
   "metadata": {},
   "outputs": [
    {
     "name": "stdout",
     "output_type": "stream",
     "text": [
      "GW_Fine_SL defaultdict(<class 'float'>, {'food': 0.29107981220657275, 'vehicle': 0.39337016574585637, 'furniture': 0.5179948586118251, 'kitchen': 0.5142857142857142, 'animal': 0.4188422247446084, 'accessory': 0.6602564102564102, 'sports': 0.40202702702702703, 'electronic': 0.36314363143631434, 'indoor': 0.46099290780141844, 'appliance': 0.34782608695652173, 'outdoor': 0.1})\n"
     ]
    },
    {
     "data": {
      "text/plain": [
       "defaultdict(float,\n",
       "            {'accessory': 0.6602564102564102,\n",
       "             'animal': 0.4188422247446084,\n",
       "             'appliance': 0.34782608695652173,\n",
       "             'electronic': 0.36314363143631434,\n",
       "             'food': 0.29107981220657275,\n",
       "             'furniture': 0.5179948586118251,\n",
       "             'indoor': 0.46099290780141844,\n",
       "             'kitchen': 0.5142857142857142,\n",
       "             'outdoor': 0.1,\n",
       "             'sports': 0.40202702702702703,\n",
       "             'vehicle': 0.39337016574585637})"
      ]
     },
     "execution_count": 243,
     "metadata": {},
     "output_type": "execute_result"
    }
   ],
   "source": [
    "supercat_acc = get_supercat_acc(results_gw_finetune_SL, supercategory_captions)\n",
    "print('GW_Fine_SL', supercat_acc)\n",
    "supercat_acc"
   ]
  },
  {
   "cell_type": "code",
   "execution_count": 393,
   "metadata": {},
   "outputs": [
    {
     "name": "stdout",
     "output_type": "stream",
     "text": [
      "VQA_frozen_SL defaultdict(<class 'float'>, {'food': 0.35524256651017216, 'vehicle': 0.22983425414364642, 'furniture': 0.35475578406169667, 'kitchen': 0.29642857142857143, 'animal': 0.38251986379114644, 'accessory': 0.3141025641025641, 'sports': 0.26126126126126126, 'electronic': 0.4092140921409214, 'indoor': 0.23404255319148937, 'appliance': 0.32608695652173914, 'outdoor': 0.3})\n"
     ]
    },
    {
     "data": {
      "text/plain": [
       "defaultdict(float,\n",
       "            {'accessory': 0.3141025641025641,\n",
       "             'animal': 0.38251986379114644,\n",
       "             'appliance': 0.32608695652173914,\n",
       "             'electronic': 0.4092140921409214,\n",
       "             'food': 0.35524256651017216,\n",
       "             'furniture': 0.35475578406169667,\n",
       "             'indoor': 0.23404255319148937,\n",
       "             'kitchen': 0.29642857142857143,\n",
       "             'outdoor': 0.3,\n",
       "             'sports': 0.26126126126126126,\n",
       "             'vehicle': 0.22983425414364642})"
      ]
     },
     "execution_count": 393,
     "metadata": {},
     "output_type": "execute_result"
    }
   ],
   "source": [
    "supercat_acc = get_supercat_acc(results_vqa_frozen, supercategory_captions)\n",
    "print('VQA_frozen_SL', supercat_acc)\n",
    "supercat_acc"
   ]
  },
  {
   "cell_type": "code",
   "execution_count": 331,
   "metadata": {
    "collapsed": true
   },
   "outputs": [],
   "source": [
    "def get_obj_frequency(train, obj_categories):\n",
    "    \n",
    "    obj_frequencies = defaultdict(int)\n",
    "    \n",
    "    for c in obj_categories:\n",
    "        for t in train['annotations']:\n",
    "            caption_split = t['caption'].split()\n",
    "            \n",
    "            for w in caption_split:\n",
    "                if c == w:\n",
    "                    #exactly the same word as the target\n",
    "                    obj_frequencies[c] += 1\n",
    "                elif c in w:\n",
    "                    #contains target but not the same word\n",
    "                    #tokenize for .\n",
    "                    #lemmatize for plurals\n",
    "                    \n",
    "                    tokenized_w = tknzr.tokenize(w)\n",
    "                    \n",
    "                    for tw in tokenized_w:\n",
    "                        if c == wordnet_lemmatizer.lemmatize(tw):\n",
    "                            obj_frequencies[c] += 1\n",
    "                            #print (c,tokenized_w, wordnet_lemmatizer.lemmatize(tw))\n",
    "                    \n",
    "    return obj_frequencies"
   ]
  },
  {
   "cell_type": "code",
   "execution_count": 389,
   "metadata": {},
   "outputs": [
    {
     "name": "stdout",
     "output_type": "stream",
     "text": [
      "airplane , 212\n",
      "apple , 265\n",
      "backpack , 188\n",
      "ball , 1423\n",
      "banana , 598\n",
      "bat , 1846\n",
      "bear , 929\n",
      "bed , 1312\n",
      "bench , 498\n",
      "bicycle , 339\n",
      "bird , 528\n",
      "boat , 779\n",
      "book , 464\n",
      "bottle , 474\n",
      "bowl , 979\n",
      "broccoli , 457\n",
      "bus , 2412\n",
      "cake , 1634\n",
      "car , 1728\n",
      "carrot , 273\n",
      "cat , 2728\n",
      "chair , 1840\n",
      "clock , 532\n",
      "couch , 2100\n",
      "cow , 1164\n",
      "cup , 785\n",
      "dog , 2175\n",
      "donut , 953\n",
      "elephant , 1092\n",
      "fork , 410\n",
      "frisbee , 1079\n",
      "giraffe , 387\n",
      "glass , 926\n",
      "glove , 585\n",
      "handbag , 7\n",
      "horse , 958\n",
      "hydrant , 73\n",
      "keyboard , 1010\n",
      "kite , 1369\n",
      "knife , 279\n",
      "laptop , 1583\n",
      "microwave , 405\n",
      "motorcycle , 959\n",
      "mouse , 452\n",
      "orange , 594\n",
      "oven , 401\n",
      "phone , 827\n",
      "pizza , 1309\n",
      "racket , 544\n",
      "refrigerator , 419\n",
      "remote , 741\n",
      "sandwich , 789\n",
      "scissors , 119\n",
      "sheep , 943\n",
      "sink , 602\n",
      "skateboard , 1175\n",
      "skis , 718\n",
      "snowboard , 685\n",
      "spoon , 176\n",
      "suitcase , 617\n",
      "surfboard , 463\n",
      "table , 3288\n",
      "tie , 334\n",
      "toaster , 26\n",
      "toilet , 338\n",
      "toothbrush , 112\n",
      "train , 2170\n",
      "truck , 1973\n",
      "tv , 242\n",
      "umbrella , 772\n",
      "vase , 803\n",
      "zebra , 627\n"
     ]
    }
   ],
   "source": [
    "obj_frequencies = get_obj_frequency(train, foil_categories)\n",
    "\n",
    "for obj in obj_frequencies:\n",
    "    print(obj, ',', obj_frequencies[obj])"
   ]
  },
  {
   "cell_type": "code",
   "execution_count": 390,
   "metadata": {},
   "outputs": [
    {
     "data": {
      "text/plain": [
       "72"
      ]
     },
     "execution_count": 390,
     "metadata": {},
     "output_type": "execute_result"
    }
   ],
   "source": [
    "len(obj_frequencies)"
   ]
  },
  {
   "cell_type": "code",
   "execution_count": 363,
   "metadata": {},
   "outputs": [
    {
     "name": "stdout",
     "output_type": "stream",
     "text": [
      "defaultdict(<class 'str'>, {'522418_681330_7': 'pizza', '522418_686718_7': 'pizza', '522418_693159_7': 'pizza', '251252_420932_1': 'bicycle', '251252_423539_1': 'bicycle', '251252_424295_1': 'bicycle', '251252_424592_2': 'car', '268556_226907_1': 'bicycle', '268556_228905_8': 'bicycle', '268556_239120_1': 'bicycle', '199951_36178_2': 'car', '527040_776777_3': 'bed', '560623_241451_4': 'airplane', '242139_168083_2': 'cup', '29913_394782_2': 'motorcycle', '460347_77750_3': 'motorcycle', '78522_667429_5': 'cow', '78522_674266_5': 'cow', '78522_675862_5': 'cow', '129942_232471_5': 'carrot', '129942_241663_1': 'cat', '437609_763972_6': 'elephant', '437609_767074_6': 'elephant', '54088_630152_2': 'car', '54088_636638_8': 'bicycle', '54088_637805_3': 'motorcycle', '54088_638435_5': 'carrot', '383406_119806_6': 'bottle', '171062_69844_12': 'bed', '171062_70327_10': 'chair', '171062_72010_10': 'chair', '171062_78145_12': 'bed', '171062_85114_2': 'dog', '412914_794793_7': 'truck', '233771_240468_3': 'tie', '233771_246246_3': 'tie', '304305_14742_4': 'horse', '304305_18444_4': 'horse', '304305_19965_4': 'horse', '304305_20181_4': 'horse', '429580_57248_3': 'horse', '429580_61697_3': 'horse', '314154_211770_2': 'umbrella', '314154_219507_2': 'umbrella', '356427_108498_5': 'bus', '356427_121722_5': 'bus', '356427_122886_5': 'bus', '156416_55326_2': 'snowboard', '156416_55602_3': 'ball', '103579_429644_3': 'ball', '103579_430268_3': 'ball', '103579_432830_3': 'ball', '103579_436193_2': 'snowboard', '62060_117309_3': 'ball', '18149_512496_7': 'bear', '18149_556965_7': 'bear', '18149_559293_7': 'bear', '443591_125247_4': 'horse', '443591_130074_9': 'giraffe', '443591_139416_9': 'giraffe', '433460_135156_7': 'elephant', '138975_709310_2': 'snowboard', '138975_715139_2': 'snowboard', '162827_550575_1': 'chair', '216228_448290_5': 'kite', '285291_720020_2': 'snowboard', '349860_407404_5': 'kite', '349860_408013_5': 'kite', '349860_410326_1': 'frisbee', '385861_194208_3': 'bed', '385861_203742_6': 'pizza', '385861_204156_6': 'pizza', '262873_388783_7': 'skateboard', '400573_464982_1': 'banana', '400573_466893_3': 'sandwich', '313155_759494_1': 'tv', '66412_52658_5': 'bat', '66412_58232_4': 'kite', '319908_2414_4': 'kite', '319908_2552_5': 'bat', '556462_810798_6': 'pizza', '289444_279144_6': 'glove', '239347_808608_2': 'couch', '193565_511271_3': 'sandwich', '193565_550475_7': 'sandwich', '193565_556250_9': 'chair', '371250_32920_8': 'cake', '371250_34828_2': 'bed', '436470_123258_1': 'chair', '436470_127509_2': 'bed', '471009_814883_1': 'frisbee', '471009_815880_1': 'frisbee', '471009_816234_1': 'frisbee', '471009_816792_1': 'frisbee', '471009_817473_1': 'frisbee', '146738_380585_1': 'book', '168330_129131_1': 'book', '168330_131486_1': 'book', '168330_132347_1': 'book', '168330_134363_1': 'book', '168330_134648_1': 'book', '383384_585006_4': 'ball', '5064_810033_15': 'glove', '46859_22374_6': 'glove', '46859_25773_4': 'ball', '564745_364733_4': 'ball', '564745_366038_2': 'apple', '240727_462100_3': 'bed', '240727_827967_3': 'bed', '280607_573786_3': 'sandwich', '280607_576477_3': 'sandwich', '461063_676269_9': 'racket', '461063_677055_4': 'ball', '461063_683202_9': 'racket', '38034_158608_9': 'keyboard', '27235_110054_11': 'couch', '27235_111842_11': 'couch', '27235_122477_11': 'couch', '320039_816073_3': 'cup', '320039_816334_1': 'bottle', '421010_293225_1': 'chair', '421010_295436_1': 'chair', '421010_295649_1': 'chair', '421010_300347_1': 'chair', '231339_62109_1': 'microwave', '157184_569375_3': 'vase', '157184_573587_3': 'vase', '157184_573749_3': 'vase', '334007_552440_10': 'chair', '527102_214116_3': 'table', '527102_242391_3': 'bed', '569801_740614_1': 'microwave', '569801_743068_2': 'cup', '569801_827761_1': 'microwave', '431197_816856_4': 'refrigerator', '431197_816925_3': 'bed', '463610_690714_3': 'bed', '463610_693804_3': 'bed', '463610_695406_4': 'table', '463610_695715_4': 'table', '117425_19394_5': 'knife', '117425_20939_5': 'knife', '117425_21497_5': 'knife', '581402_438302_2': 'dog', '581402_442889_9': 'bottle', '581402_449294_2': 'dog', '451053_170157_5': 'phone', '559442_829464_1': 'book', '430867_654482_8': 'horse', '430867_654923_4': 'horse', '430867_658343_3': 'horse', '430867_660746_3': 'horse', '485887_355791_3': 'motorcycle', '485887_357189_1': 'bicycle', '485887_358503_4': 'airplane', '190160_465406_1': 'cat', '43133_15308_4': 'airplane', '43133_17072_4': 'airplane', '188546_802965_1': 'bird', '188546_808470_1': 'bird', '188546_811473_1': 'bird', '188546_815636_7': 'bear', '71281_787505_5': 'cow', '547839_597786_5': 'bus', '547839_598026_6': 'truck', '547839_605730_5': 'bus', '145039_351365_1': 'bicycle', '307995_359177_5': 'spoon', '307995_359699_2': 'cup', '307995_362279_2': 'cup', '307995_364064_2': 'cup', '442286_328037_7': 'truck', '442286_338846_4': 'airplane', '201220_375614_5': 'train', '84477_719121_3': 'table', '84477_722634_3': 'table', '84477_729216_3': 'table', '84477_729537_3': 'table', '88784_689246_3': 'ball', '88784_693032_3': 'horse', '88784_697850_7': 'bear', '495808_792160_4': 'tie', '507719_767980_5': 'cow', '71209_646285_5': 'cow', '71209_655372_3': 'dog', '463013_589006_4': 'ball', '66445_639152_5': 'carrot', '66445_641312_5': 'carrot', '119939_619698_1': 'frisbee', '362005_518742_1': 'frisbee', '362005_519894_1': 'frisbee', '460494_475043_1': 'chair', '460494_479450_2': 'apple', '460494_822062_1': 'banana', '492914_748477_1': 'frisbee', '492914_765195_5': 'kite', '315641_95655_3': 'bed', '506441_671202_2': 'sandwich', '506441_675645_6': 'pizza', '506441_677496_6': 'pizza', '528496_170541_6': 'pizza', '528496_172701_6': 'pizza', '528496_179421_6': 'pizza', '528496_180984_6': 'pizza', '159736_205484_7': 'pizza', '253485_813660_7': 'pizza', '253485_816862_7': 'pizza', '469203_318052_7': 'pizza', '469203_318772_7': 'pizza', '469203_319963_7': 'pizza', '475398_227619_11': 'pizza', '475398_254757_7': 'pizza', '475398_260250_7': 'pizza', '475398_261411_7': 'pizza', '380487_649299_2': 'couch', '380487_651363_2': 'couch', '380487_654030_2': 'couch', '380487_654630_2': 'couch', '432035_797262_3': 'sandwich', '432035_799530_3': 'sandwich', '432035_799554_3': 'sandwich', '371910_284051_2': 'laptop', '371910_402173_2': 'mouse', '371910_406331_10': 'phone', '371910_407504_1': 'chair', '385320_701567_2': 'clock', '56701_299486_11': 'bed', '56701_300851_3': 'horse', '367398_352937_1': 'tv', '278121_634730_1': 'tv', '160580_473723_1': 'book', '393031_380411_4': 'ball', '393031_385421_4': 'ball', '241551_311070_6': 'glove', '450599_179918_9': 'racket', '432258_374853_1': 'tv', '432258_375105_1': 'tv', '432258_376359_1': 'tv', '432258_379305_1': 'tv', '432258_381939_1': 'tv', '414296_353245_3': 'scissors', '414296_356758_1': 'book', '414296_358123_3': 'scissors', '414296_358321_3': 'scissors', '414296_359350_3': 'scissors', '368367_341522_2': 'laptop', '368367_345308_2': 'laptop', '278365_187940_5': 'broccoli', '278365_190835_3': 'bed', '66154_524817_1': 'chair', '365822_76904_2': 'cup', '447038_450897_3': 'toaster', '447038_451095_3': 'bed', '447038_452901_3': 'bed', '447038_823665_4': 'refrigerator', '126502_675833_1': 'bird', '126502_676190_9': 'zebra', '126502_677534_1': 'bird', '126502_679586_9': 'zebra', '380756_100048_12': 'motorcycle', '380756_108994_3': 'motorcycle', '363415_169538_2': 'dog', '363415_169751_2': 'dog', '363415_170591_2': 'dog', '363415_176627_2': 'dog', '469119_176814_4': 'airplane', '469119_193533_4': 'airplane', '469119_220170_3': 'motorcycle', '469119_225915_4': 'airplane', '389453_493818_4': 'horse', '389453_498483_4': 'horse', '389453_504024_4': 'horse', '409914_444032_4': 'airplane', '432179_689747_6': 'truck', '432179_692714_6': 'truck', '432179_695912_6': 'truck', '432179_697079_5': 'bus', '575428_289328_6': 'truck', '575428_289469_6': 'truck', '575428_289772_6': 'truck', '575428_290117_6': 'truck', '575428_290357_6': 'truck', '195598_386689_4': 'airplane', '195598_387556_13': 'truck', '195598_397486_4': 'airplane', '195598_517480_6': 'truck', '12827_311908_7': 'dog', '12827_313699_7': 'dog', '12827_314008_2': 'dog', '12827_314980_2': 'dog', '301575_632597_2': 'dog', '301575_634202_9': 'giraffe', '97748_202068_7': 'bear', '336568_260198_3': 'horse', '336568_265193_12': 'horse', '336568_265880_3': 'horse', '80340_427273_4': 'suitcase', '80340_429802_6': 'umbrella', '80340_433432_2': 'umbrella', '80340_433645_4': 'suitcase', '525376_98794_5': 'train', '525376_103549_5': 'train', '260774_247761_7': 'bear', '260774_248286_7': 'bear', '260774_256719_7': 'bear', '13605_382709_7': 'pizza', '13605_382757_3': 'sandwich', '292618_528600_2': 'snowboard', '56714_95175_10': 'apple', '56714_95358_19': 'orange', '56714_104328_14': 'pizza', '487333_305946_18': 'carrot', '487333_307203_19': 'bed', '487333_310590_19': 'bed', '487333_317769_14': 'carrot', '487333_318957_18': 'carrot', '95113_635880_2': 'snowboard', '211498_437137_5': 'carrot', '211498_441142_5': 'carrot', '225943_402688_5': 'carrot', '225943_409618_5': 'carrot', '225943_412108_5': 'carrot', '384010_449423_5': 'carrot', '384010_454097_5': 'carrot', '384010_454631_5': 'carrot', '384010_822845_5': 'carrot', '463961_52879_11': 'knife', '463961_53644_5': 'knife', '463961_54121_5': 'knife', '463961_54919_3': 'bed', '463961_55309_11': 'knife', '332025_523370_3': 'horse', '332025_531935_3': 'horse', '51376_190208_12': 'pizza', '51376_190655_6': 'pizza', '51376_194354_2': 'glass', '51376_195725_3': 'orange', '220111_580557_3': 'bed', '220111_583755_3': 'sandwich', '429985_696576_3': 'bed', '429985_701727_7': 'pizza', '429985_709173_3': 'bed', '429985_709407_3': 'bed', '452866_610845_7': 'pizza', '452866_614106_7': 'pizza', '452866_614847_13': 'pizza', '452866_615666_7': 'pizza', '452866_617034_7': 'pizza', '363577_807491_7': 'pizza', '363577_807791_3': 'bed', '363577_807902_11': 'pizza', '99428_540369_3': 'bed', '99428_543864_2': 'mouse', '54252_29991_6': 'chair', '54252_31377_7': 'mouse', '54252_32910_6': 'chair', '54252_33828_6': 'chair', '386352_15715_4': 'ball', '386352_17329_4': 'ball', '386352_24052_4': 'ball', '38892_194837_6': 'couch', '341118_14139_11': 'cat', '341118_14445_2': 'cat', '341118_19107_1': 'chair', '307323_290716_3': 'bed', '307323_293128_1': 'chair', '307323_298825_1': 'chair', '448259_67429_5': 'keyboard', '448259_67534_6': 'chair', '448259_71377_1': 'chair', '448259_71794_1': 'hydrant', '456942_669796_1': 'tv', '456942_673279_1': 'tv', '456942_675331_11': 'mouse', '456942_676375_1': 'tv', '24601_197745_9': 'racket', '401971_473994_3': 'table', '321935_656477_1': 'book', '321935_657632_1': 'book', '321935_659639_1': 'book', '451087_565865_4': 'ball', '451087_566186_4': 'ball', '451087_567113_15': 'glove', '451087_567362_4': 'ball', '499577_626137_18': 'racket', '499577_633733_2': 'skis', '499577_639550_4': 'ball', '225352_612658_8': 'bed', '225352_616939_6': 'chair', '225352_617644_6': 'chair', '225352_618535_6': 'chair', '185781_86347_1': 'tv', '534894_306348_3': 'scissors', '484312_112660_2': 'cup', '484312_126625_11': 'cup', '484312_132331_7': 'truck', '197756_530608_2': 'cup', '197756_534406_5': 'keyboard', '197756_538747_2': 'laptop', '218234_102283_7': 'boat', '218234_105142_6': 'truck', '218234_112408_2': 'car', '218234_124939_2': 'laptop', '570138_92821_4': 'refrigerator', '570138_94585_4': 'refrigerator', '403565_247965_2': 'motorcycle', '403565_251193_2': 'motorcycle', '344271_768705_6': 'pizza', '344271_770928_5': 'bus', '344271_772020_5': 'bus', '344271_774774_1': 'bicycle', '344271_777657_15': 'bicycle', '231732_676593_4': 'refrigerator', '231732_681816_2': 'cup', '231732_684147_4': 'refrigerator', '282658_114943_1': 'bicycle', '451412_358200_3': 'bed', '451412_361353_4': 'table', '223930_532491_1': 'bicycle', '324008_730784_6': 'truck', '324008_731981_1': 'chair', '518605_523078_9': 'zebra', '279818_649678_1': 'hydrant', '279818_651073_1': 'hydrant', '524140_342125_3': 'motorcycle', '524140_343031_3': 'motorcycle', '524140_343913_3': 'motorcycle', '524140_344876_4': 'airplane', '35887_275602_1': 'cat', '35887_275923_4': 'sheep', '35887_284836_1': 'cat', '150235_412285_2': 'apple', '150235_418288_21': 'suitcase', '150235_420841_2': 'dog', '150235_423982_10': 'couch', '150235_424255_2': 'dog', '513312_457620_10': 'tv', '513312_461181_10': 'tv', '513312_463713_10': 'tv', '513312_465630_2': 'apple', '417455_430832_12': 'table', '417455_431222_2': 'cat', '304698_148065_3': 'table', '358555_613844_8': 'zebra', '358555_620969_17': 'zebra', '358555_621917_8': 'zebra', '302243_25254_9': 'giraffe', '433279_152442_6': 'glove', '433279_155178_9': 'racket', '433279_155532_6': 'glove', '417653_760108_1': 'bird', '417653_760393_5': 'bird', '417653_762265_5': 'bird', '417653_763402_5': 'bird', '200143_469274_9': 'giraffe', '290113_206441_2': 'snowboard', '314182_323664_1': 'banana', '277440_731360_6': 'mouse', '277440_737075_1': 'tv', '277440_737690_1': 'tv', '277440_740084_21': 'cup', '356662_161943_5': 'carrot', '356662_165474_5': 'carrot', '356662_167352_5': 'carrot', '113235_449977_6': 'pizza', '113235_822902_8': 'cake', '387463_663417_11': 'glass', '298680_493281_5': 'knife', '298680_498222_1': 'bottle', '298680_504192_1': 'chair', '58225_63641_1': 'bird', '58225_64193_1': 'bird', '341645_356178_9': 'racket', '341645_356253_5': 'kite', '341645_359127_5': 'kite', '367706_812363_15': 'pizza', '224358_635414_9': 'racket', '211326_318209_4': 'fork', '211326_326294_3': 'bed', '211326_329570_3': 'scissors', '313246_76761_2': 'glass', '391978_783535_3': 'remote', '391978_789811_2': 'couch', '132540_612963_5': 'chair', '132540_618465_10': 'chair', '132540_619368_3': 'remote', '132540_622161_3': 'remote', '292363_598777_3': 'sandwich', '292363_600280_3': 'sandwich', '292363_601453_3': 'cup', '444207_396058_4': 'toilet', '122388_688991_1': 'tv', '275661_242357_3': 'table', '532747_317796_5': 'chair', '532747_317982_8': 'suitcase', '470658_199668_1': 'frisbee', '470658_201639_1': 'frisbee', '470658_229362_3': 'snowboard', '65051_98475_1': 'frisbee', '65051_112929_1': 'frisbee', '417590_470418_6': 'glove', '417590_472131_6': 'glove', '182021_123728_4': 'ball', '182021_173837_4': 'ball', '182021_195782_13': 'ball', '182021_198839_4': 'ball', '405093_78307_4': 'ball', '383386_635951_3': 'table', '383386_644954_3': 'table', '54091_540779_1': 'tv', '54091_544880_1': 'couch', '54091_546452_1': 'tv', '54091_549314_2': 'bed', '387_273288_2': 'laptop', '387_275268_5': 'keyboard', '387_276879_1': 'tv', '193194_21649_5': 'tv', '193194_23590_3': 'table', '193194_23626_8': 'table', '65969_533068_2': 'cup', '65969_533935_12': 'chair', '65969_534442_2': 'cup', '65969_544582_1': 'chair', '292482_117452_1': 'chair', '292482_128459_1': 'chair', '515660_711170_1': 'chair', '420081_322472_2': 'car', '420081_324671_3': 'motorcycle', '535808_695305_1': 'clock', '535808_700375_1': 'clock', '63740_18549_1': 'tv', '63740_27981_10': 'phone', '348091_595814_1': 'couch', '394131_825160_7': 'boat', '559051_662258_9': 'zebra', '559051_673616_9': 'zebra', '321861_443950_1': 'cat', '321861_447136_1': 'cat', '321861_447556_10': 'cat', '379800_486194_13': 'bus', '379800_486857_13': 'bus', '379800_488735_5': 'bus', '379800_823214_5': 'bus', '507950_777946_6': 'truck', '507950_785581_8': 'zebra', '507950_790489_13': 'truck', '50354_729438_6': 'truck', '50354_732447_5': 'bus', '76155_413804_6': 'elephant', '76155_422360_6': 'elephant', '581717_27412_2': 'dog', '581717_32725_2': 'dog', '581717_33136_2': 'dog', '581717_35764_2': 'dog', '581717_44011_2': 'dog', '123131_187005_4': 'airplane', '123131_188046_2': 'car', '123131_197193_2': 'car', '313623_516631_4': 'airplane', '472399_26621_7': 'dog', '472399_26654_12': 'table', '472399_31592_12': 'table', '262626_304870_6': 'elephant', '262626_305509_2': 'dog', '262626_309898_2': 'couch', '78741_351432_9': 'giraffe', '78741_364290_10': 'tv', '78741_365367_2': 'dog', '402778_586866_7': 'bear', '402778_588168_12': 'tie', '402778_590544_7': 'bear', '402778_590547_7': 'bear', '402778_591180_1': 'bird', '115796_320523_3': 'ball', '115796_327570_2': 'snowboard', '236784_704249_2': 'bed', '236784_704753_2': 'bed', '236784_714971_2': 'bed', '349926_304748_3': 'ball', '349926_305726_3': 'ball', '349926_307211_3': 'ball', '349926_309416_3': 'ball', '349926_310139_3': 'ball', '240033_485585_3': 'ball', '240033_488324_3': 'ball', '240033_490190_3': 'ball', '240033_824900_3': 'ball', '179950_469081_3': 'ball', '179950_476725_3': 'ball', '462241_121325_7': 'bear', '462241_121418_7': 'bear', '11760_38032_9': 'giraffe', '361919_184469_2': 'snowboard', '479129_661765_2': 'sandwich', '398563_130588_5': 'carrot', '398563_177649_5': 'carrot', '364187_47155_5': 'carrot', '364187_47545_5': 'carrot', '364187_48451_9': 'carrot', '364187_50356_5': 'carrot', '73668_113782_2': 'snowboard', '73668_118801_2': 'snowboard', '419503_820981_5': 'spoon', '398153_333452_3': 'sandwich', '398153_336197_11': 'fork', '283162_348751_6': 'pizza', '283162_349423_3': 'bed', '283162_351601_6': 'pizza', '283162_355816_11': 'fork', '283162_355852_11': 'bed', '434930_442759_3': 'bed', '434930_444580_1': 'banana', '434930_445039_3': 'bed', '139518_678711_3': 'snowboard', '571313_206493_2': 'couch', '146358_144119_7': 'pizza', '146358_147479_7': 'pizza', '146358_150728_7': 'pizza', '253518_798259_3': 'snowboard', '478528_268569_2': 'bed', '229207_346027_3': 'remote', '281782_121758_1': 'frisbee', '281782_133470_1': 'frisbee', '281782_138063_1': 'frisbee', '231281_84696_15': 'glove', '231281_87606_4': 'ball', '231281_96063_6': 'glove', '575051_196659_4': 'ball', '290179_121511_1': 'book', '105973_773374_4': 'ball', '105973_775285_4': 'ball', '105973_787975_6': 'glove', '462931_593942_4': 'ball', '462931_744395_4': 'ball', '462931_748558_4': 'ball', '54593_593187_9': 'racket', '54593_595641_4': 'ball', '520787_445525_3': 'sandwich', '520787_450751_3': 'sandwich', '520787_454618_7': 'pizza', '485236_467997_3': 'sandwich', '485236_469005_5': 'broccoli', '485236_471720_5': 'broccoli', '179322_304153_2': 'toaster', '179322_305488_2': 'toaster', '8170_816510_5': 'microwave', '8170_816657_3': 'sink', '459884_747765_2': 'laptop', '168953_795002_1': 'chair', '168953_803585_1': 'chair', '309933_280864_3': 'sink', '309933_283471_3': 'sink', '309933_285436_3': 'sink', '309933_402010_2': 'toaster', '105737_521510_2': 'cat', '105737_521756_10': 'clock', '105737_528734_2': 'cat', '135399_275839_3': 'bed', '265227_592740_3': 'bed', '548882_432653_2': 'glass', '548882_435107_3': 'bed', '548882_439367_3': 'bed', '487385_567299_1': 'clock', '487385_571664_3': 'scissors', '165818_561134_2': 'glass', '56070_24667_2': 'apple', '56070_25651_1': 'bicycle', '534733_562913_3': 'table', '534733_566642_5': 'phone', '68650_334504_5': 'sheep', '68650_334678_5': 'sheep', '68650_337474_5': 'sheep', '371330_722126_6': 'truck', '239148_547611_5': 'cow', '35826_600177_6': 'truck', '35826_604569_6': 'truck', '35826_606240_6': 'truck', '552289_789712_11': 'apple', '552289_791515_8': 'bed', '552289_792238_5': 'carrot', '552289_793885_3': 'bed', '371054_337825_2': 'car', '371054_340036_2': 'car', '93803_495121_4': 'airplane', '93803_501379_2': 'car', '578383_732629_6': 'elephant', '578383_741812_6': 'elephant', '578383_827540_6': 'elephant', '578383_828118_6': 'elephant', '526751_288399_7': 'truck', '526751_291300_4': 'airplane', '504589_104589_3': 'ball', '504589_118650_3': 'ball', '504589_121977_3': 'ball', '573179_637661_5': 'cow', '573179_638276_5': 'cow', '573179_638630_5': 'cow', '573179_642785_5': 'cow', '18654_610853_5': 'cow', '341719_740037_2': 'snowboard', '53958_105802_6': 'glove', '53958_123154_2': 'snowboard', '338375_403157_2': 'snowboard', '455555_422580_5': 'kite', '455555_427500_1': 'frisbee', '439092_736874_2': 'snowboard', '439092_740105_2': 'snowboard', '531115_372828_3': 'bed', '531115_377100_3': 'bed', '530052_680286_1': 'chair', '121006_206962_1': 'frisbee', '121006_207478_6': 'bat', '121006_209899_1': 'frisbee', '473118_101023_6': 'bat', '466425_749334_3': 'bed', '384416_5306_1': 'banana', '384416_5918_1': 'banana', '384416_8264_1': 'banana', '19957_572772_3': 'sandwich', '19957_573684_5': 'broccoli', '19957_575268_3': 'sandwich', '19957_578688_3': 'sandwich', '6028_672057_5': 'kite', '357870_22013_3': 'table', '346774_532011_3': 'bed', '346774_532896_3': 'bed', '346774_533883_3': 'bed', '346774_534717_3': 'sandwich', '346774_535662_7': 'sandwich', '417668_65407_4': 'broccoli', '453824_261429_3': 'remote', '446881_157240_3': 'remote', '446881_159409_5': 'chair', '446881_162619_7': 'bed', '341681_60050_9': 'racket', '343524_69016_9': 'racket', '343524_70663_9': 'racket', '526359_123416_5': 'couch', '518224_532049_4': 'ball', '518224_532586_4': 'ball', '133060_110942_6': 'glove', '133060_113663_15': 'glove', '133060_114386_4': 'ball', '339426_215405_4': 'ball', '339426_234794_4': 'ball', '339426_236333_6': 'glove', '339426_239204_6': 'glove', '27731_700885_9': 'racket', '329789_473163_1': 'banana', '329789_476052_1': 'banana', '329789_481686_1': 'banana', '329789_482154_1': 'banana', '329789_485829_3': 'sandwich', '497599_89525_1': 'chair', '497599_92594_1': 'tv', '515755_655523_11': 'bed', '515755_656903_2': 'cat', '515755_658325_11': 'bed', '515755_658433_2': 'bed', '476731_29536_2': 'laptop', '476731_44977_2': 'laptop', '20004_519965_1': 'book', '218204_704102_1': 'chair', '218204_706895_2': 'cup', '218204_718991_1': 'chair', '382758_547441_3': 'vase', '561523_773180_1': 'chair', '561523_773333_1': 'chair', '561523_773501_3': 'bed', '451345_478225_1': 'chair', '451345_481594_1': 'chair', '423173_396167_11': 'horse', '423173_397277_1': 'bicycle', '423173_400202_4': 'horse', '423173_401381_11': 'horse', '423173_513197_9': 'cat', '230615_439350_3': 'dog', '230615_442806_3': 'dog', '177934_21197_1': 'bicycle', '177934_27587_1': 'bicycle', '575904_555323_5': 'train', '577182_302435_1': 'cat', '577182_312773_1': 'cat', '577182_317285_4': 'sheep', '175867_466034_5': 'train', '79011_221682_9': 'zebra', '393254_166844_3': 'motorcycle', '393254_169613_4': 'airplane', '60128_711775_4': 'airplane', '60128_720175_4': 'airplane', '60128_722953_1': 'bicycle', '60128_723661_4': 'airplane', '285957_238053_9': 'zebra', '84123_227515_5': 'train', '418435_69740_5': 'train', '203128_754844_2': 'couch', '203128_756536_3': 'table', '203128_757325_2': 'couch', '291541_781181_2': 'dog', '291541_790889_2': 'dog', '527038_674781_1': 'backpack', '527038_675612_1': 'backpack', '232849_356022_2': 'snowboard', '66485_198948_3': 'ball', '66485_208521_3': 'ball', '66485_208683_3': 'ball', '66485_210882_3': 'ball', '211837_106918_9': 'giraffe', '211837_121915_4': 'horse', '518249_680948_3': 'dog', '518249_694253_3': 'dog', '566276_792858_5': 'cow', '566276_792894_5': 'cow', '566276_795258_5': 'cow', '156232_518526_5': 'cow', '297698_735464_7': 'skateboard', '236272_48729_4': 'ball', '236272_48801_4': 'ball', '575915_402963_3': 'sandwich', '575915_405744_3': 'bed', '575915_417363_3': 'sandwich', '190041_429110_1': 'frisbee', '190041_434018_1': 'frisbee', '316514_571701_5': 'knife', '316514_577890_5': 'knife', '558854_523483_1': 'chair', '558854_524527_3': 'bed', '232115_675630_3': 'bed', '232115_682197_3': 'bed', '420281_748476_1': 'bird', '420281_750771_1': 'bird', '420281_759113_1': 'bird', '420281_765194_1': 'bird', '244940_445787_3': 'horse', '244940_452036_3': 'bed', '244940_823763_1': 'bird', '257198_413597_4': 'broccoli', '310059_365991_6': 'banana', '300206_717874_3': 'snowboard', '43944_635956_6': 'pizza', '581683_583009_7': 'pizza', '581683_583930_3': 'sandwich', '85735_125332_7': 'pizza', '85735_129046_7': 'pizza', '85735_131479_7': 'pizza', '150874_188699_2': 'couch', '150874_190340_2': 'couch', '150874_196094_2': 'couch', '368280_712089_9': 'racket', '368280_717141_9': 'racket', '132987_451210_3': 'snowboard', '482275_383492_7': 'pizza', '482275_386183_7': 'pizza', '482275_391670_7': 'pizza', '330897_771177_3': 'sandwich', '330897_773769_3': 'sandwich', '330897_773850_3': 'sandwich', '330897_774900_3': 'sandwich', '202436_594227_2': 'couch', '226988_9376_3': 'sandwich', '36844_217229_7': 'table', '425620_364608_2': 'couch', '12576_169174_7': 'sandwich', '12576_172669_3': 'bed', '12576_177931_3': 'sandwich', '581450_676241_7': 'table', '581450_677318_2': 'couch', '226220_428438_2': 'dog', '226220_430121_11': 'bed', '226220_434327_11': 'bed', '481996_274284_2': 'bed', '311310_575400_1': 'frisbee', '311310_576966_1': 'frisbee', '311310_576978_1': 'frisbee', '311310_577188_1': 'frisbee', '571893_315325_1': 'clock', '78638_207906_4': 'ball', '78638_220521_4': 'ball', '78638_220944_4': 'ball', '356878_186906_1': 'chair', '356878_198660_5': 'tv', '233315_82133_6': 'bowl', '410225_162261_2': 'glass', '410225_167190_2': 'glass', '410225_169599_10': 'bowl', '410225_170052_3': 'orange', '382973_654918_3': 'scissors', '382973_659622_1': 'hydrant', '31368_372922_3': 'bed', '201190_513918_4': 'horse', '201190_514821_3': 'horse', '201190_514845_3': 'horse', '321811_668095_1': 'microwave', '410301_373036_4': 'table', '410301_374959_3': 'bed', '104865_571234_5': 'knife', '104865_577024_11': 'knife', '104865_578539_5': 'knife', '154721_787011_1': 'clock', '154721_787122_1': 'clock', '279887_814974_3': 'airplane', '444209_458942_1': 'bicycle', '531234_86205_1': 'bicycle', '531234_88887_3': 'airplane', '421131_760749_1': 'bicycle', '421131_761883_1': 'bicycle', '213693_96990_1': 'bicycle', '232900_63342_4': 'airplane', '232900_68100_4': 'airplane', '232900_68463_4': 'airplane', '463084_475536_1': 'bicycle', '463084_477054_1': 'bicycle', '463084_828332_1': 'bicycle', '173797_84202_1': 'bicycle', '173797_85159_1': 'bicycle', '173797_86029_4': 'airplane', '543551_810984_4': 'airplane', '543551_814299_4': 'airplane', '187144_186258_4': 'airplane', '187144_195198_3': 'motorcycle', '187144_199008_4': 'airplane', '187144_209760_3': 'motorcycle', '58651_167229_6': 'truck', '504516_694334_15': 'car', '504516_695138_3': 'horse', '504516_699314_3': 'horse', '504516_701186_2': 'car', '556420_39828_3': 'table', '556420_41778_7': 'table', '556420_51477_3': 'table', '183648_255174_4': 'horse', '183648_269727_4': 'horse', '183648_270696_4': 'horse', '183648_275523_4': 'horse', '42793_406449_1': 'backpack', '42793_408942_1': 'backpack', '32677_17063_11': 'dog', '32677_25859_29': 'dog', '418110_768257_10': 'microwave', '418110_769193_10': 'microwave', '418110_779546_10': 'microwave', '418110_783848_10': 'microwave', '405249_408953_11': 'pizza', '405249_410108_7': 'pizza', '405249_415793_3': 'bed', '405249_416435_7': 'pizza', '533032_610644_5': 'cow', '533032_610986_5': 'cow', '533032_611586_5': 'cow', '533032_614046_5': 'cow', '160341_40472_2': 'snowboard', '260036_291998_5': 'kite', '260036_295508_6': 'bat', '260036_295919_5': 'kite', '146240_702710_1': 'frisbee', '146240_707924_1': 'frisbee', '146240_710747_1': 'frisbee', '370170_737960_5': 'carrot', '57843_764836_7': 'pizza', '131841_576928_3': 'cup', '131841_577285_2': 'sandwich', '334185_507844_2': 'snowboard', '233651_551537_3': 'sandwich', '233651_552554_7': 'pizza', '192457_202364_19': 'spoon', '192457_218894_12': 'fork', '192457_228677_12': 'fork', '192457_231623_9': 'cup', '401027_572574_6': 'pizza', '401027_573210_4': 'broccoli', '401027_574599_3': 'bed', '542260_261320_6': 'glove', '184384_741106_7': 'pizza', '184384_742159_3': 'sandwich', '522163_730140_3': 'snowboard', '522163_738801_3': 'snowboard', '147309_809767_7': 'pizza', '147309_814666_10': 'cup', '147309_816668_7': 'pizza', '111211_440346_2': 'couch', '111211_440910_2': 'couch', '152012_642412_6': 'glove', '313770_585965_7': 'pizza', '313770_590372_11': 'pizza', '313770_596648_7': 'pizza', '158222_171885_1': 'tv', '158222_175707_1': 'tv', '158222_186429_1': 'tv', '212927_568029_2': 'couch', '212927_569637_5': 'tv', '212927_572124_5': 'tv', '212927_572202_5': 'tv', '280079_56992_5': 'kite', '280079_57826_5': 'kite', '280079_58954_5': 'kite', '398505_571155_5': 'kite', '398505_572631_3': 'snowboard', '398505_572829_5': 'kite', '564337_29361_3': 'sandwich', '564337_31020_3': 'sandwich', '258588_172720_9': 'racket', '88244_183075_1': 'tv', '88244_210921_6': 'tv', '326075_385266_3': 'remote', '160531_70348_8': 'remote', '298978_601392_3': 'airplane', '298978_606798_5': 'train', '552504_655730_1': 'frisbee', '552504_664832_1': 'frisbee', '115459_24467_1': 'frisbee', '115459_26480_2': 'apple', '115459_27533_1': 'frisbee', '115459_32414_1': 'frisbee', '378048_181549_3': 'snowboard', '378048_181585_8': 'surfboard', '378048_188467_8': 'surfboard', '378048_190414_1': 'frisbee', '262509_432594_4': 'airplane', '39951_504297_9': 'racket', '39951_508734_9': 'racket', '39951_549261_9': 'racket', '35827_189954_1': 'couch', '323888_528043_1': 'book', '323888_538978_1': 'book', '323888_539776_1': 'book', '30932_97283_3': 'sink', '566756_367448_2': 'laptop', '369771_161188_3': 'cup', '369771_163438_3': 'bed', '369771_173161_5': 'knife', '420110_505559_3': 'bed', '480015_318319_1': 'clock', '480015_325165_7': 'laptop', '173340_432931_2': 'laptop', '173340_434740_2': 'laptop', '173340_434977_2': 'laptop', '264628_691574_3': 'toaster', '17379_92875_5': 'phone', '580543_65541_3': 'bed', '192128_706619_4': 'airplane', '192128_707006_4': 'airplane', '192128_707999_4': 'airplane', '192128_709148_4': 'airplane', '406949_193408_3': 'motorcycle', '406949_194080_9': 'motorcycle', '406949_195625_5': 'train', '532426_602086_7': 'bear', '532426_605422_10': 'bicycle', '532426_608254_3': 'horse', '232511_281653_3': 'table', '313182_108400_3': 'motorcycle', '313182_131080_3': 'motorcycle', '313182_140809_4': 'airplane', '22420_543165_1': 'clock', '359310_166154_1': 'bicycle', '359310_167078_1': 'bicycle', '12014_193459_3': 'motorcycle', '12014_199768_1': 'bicycle', '396496_116261_5': 'bus', '205676_430139_12': 'train', '205676_431519_1': 'bicycle', '562708_678214_1': 'bicycle', '562708_684028_3': 'motorcycle', '641_691034_3': 'motorcycle', '641_694850_3': 'motorcycle', '641_701663_4': 'airplane', '641_702557_3': 'motorcycle', '641_706289_4': 'airplane', '295336_336412_9': 'zebra', '263594_639428_2': 'dog', '263594_645728_2': 'dog', '147725_441472_4': 'airplane', '147725_442468_8': 'bicycle', '147725_445291_12': 'train', '147725_446377_3': 'motorcycle', '232550_601801_3': 'motorcycle', '276971_601949_2': 'dog', '35436_92285_5': 'bus', '35436_95600_5': 'bus', '483722_420160_5': 'bus', '483722_421381_5': 'bus', '187450_27399_11': 'airplane', '187450_28689_6': 'truck', '187450_30003_12': 'bus', '322057_491568_1': 'couch', '322057_493779_1': 'couch', '335579_637891_6': 'elephant', '335579_649549_2': 'couch', '52853_676606_15': 'elephant', '52853_679849_3': 'dog', '52853_679906_3': 'dog', '377080_534674_7': 'truck', '377080_536069_4': 'airplane', '377080_536243_3': 'motorcycle', '377080_540545_4': 'airplane', '122839_528697_3': 'dog', '122839_531868_4': 'horse', '122839_532063_3': 'dog', '122839_532774_3': 'dog', '27662_509291_4': 'airplane', '27662_510056_7': 'truck', '27662_550133_13': 'pizza', '215755_549778_2': 'umbrella', '343401_688516_5': 'cow', '343401_690256_5': 'cow', '343401_691294_7': 'bear', '343401_691414_3': 'horse', '343401_692683_3': 'horse', '396754_107245_5': 'cow', '185240_770998_4': 'ball', '433044_564203_5': 'carrot', '433044_566567_5': 'carrot', '433044_573878_5': 'carrot', '297260_756483_6': 'pizza', '333772_529013_1': 'tv', '333772_529970_1': 'tv', '333772_532736_2': 'dog', '333772_532769_1': 'tv', '333772_535457_1': 'tv', '202444_480580_1': 'frisbee', '519460_513694_6': 'pizza', '519460_517210_6': 'pizza', '519460_520222_1': 'chair', '519460_522019_6': 'pizza', '259087_430156_5': 'carrot', '259087_433855_2': 'cup', '85045_47808_6': 'pizza', '85045_65787_3': 'orange', '452218_598445_9': 'racket', '529314_146230_3': 'tie', '417965_7280_3': 'snowboard', '417965_12488_3': 'snowboard', '417965_13058_3': 'snowboard', '176935_774074_7': 'pizza', '176935_775490_3': 'sandwich', '94501_93132_10': 'cup', '94501_93780_7': 'pizza', '94501_98100_7': 'pizza', '372913_151989_6': 'glove', '488377_328654_5': 'kite', '298405_704822_3': 'sandwich', '298405_705152_3': 'sandwich', '298405_708452_3': 'sandwich', '298405_712175_3': 'sandwich', '298405_714278_13': 'broccoli', '135497_498620_3': 'bed', '27696_816759_12': 'fork', '27696_816867_3': 'sandwich', '27696_817302_3': 'sandwich', '27696_818205_3': 'sandwich', '378894_792706_3': 'table', '378894_797842_1': 'couch', '285844_482999_9': 'racket', '324584_174603_3': 'remote', '475995_197922_2': 'laptop', '493273_746144_3': 'snowboard', '325568_311813_4': 'ball', '325568_312575_4': 'ball', '94046_92291_4': 'ball', '94046_102152_4': 'ball', '396997_422325_4': 'ball', '32038_102506_3': 'sandwich', '32038_120872_3': 'sandwich', '352257_660977_9': 'racket', '352257_663503_9': 'racket', '537631_574630_4': 'ball', '478220_809809_1': 'book', '252354_340850_4': 'horse', '252354_341507_8': 'horse', '252354_344081_2': 'couch', '252354_344615_2': 'couch', '252354_345725_1': 'bird', '55780_263474_3': 'horse', '55780_271124_3': 'horse', '55780_275498_3': 'horse', '559550_755282_3': 'bed', '405691_521068_6': 'cup', '405691_523546_1': 'chair', '106172_782048_1': 'clock', '169505_294861_1': 'frisbee', '169505_297885_1': 'frisbee', '110884_719073_4': 'refrigerator', '458424_523430_10': 'bicycle', '458424_524261_10': 'bicycle', '458424_525473_1': 'bird', '458424_527396_3': 'horse', '458424_528656_7': 'bear', '203085_419297_3': 'bed', '203085_420473_3': 'bed', '203085_421406_4': 'table', '203085_422099_4': 'table', '172710_18870_1': 'bicycle', '172710_22119_1': 'bicycle', '511572_774539_5': 'knife', '511572_774863_5': 'knife', '511572_775751_3': 'cup', '510150_21065_2': 'dog', '510150_22217_2': 'dog', '291791_427180_1': 'bicycle', '291791_436117_3': 'airplane', '513580_389589_6': 'truck', '513580_394950_3': 'airplane', '302110_539298_3': 'horse', '302110_541953_9': 'giraffe', '302110_548529_2': 'dog', '515854_168496_6': 'truck', '515854_168682_6': 'truck', '474906_676248_2': 'car', '474906_679647_2': 'car', '474906_681555_2': 'car', '474906_685518_2': 'car', '148034_192438_5': 'cow', '148034_203874_2': 'cat', '148034_230727_2': 'cat', '148034_246357_5': 'cow', '148034_260763_2': 'cat', '315492_798175_2': 'cat', '315492_801967_2': 'cat', '456730_203354_5': 'bus', '456730_206360_5': 'bus', '394635_719616_5': 'bus', '306972_65835_5': 'bus', '342318_657443_5': 'bus', '342318_674855_5': 'bus', '138073_103492_6': 'truck', '138073_107485_5': 'bus', '138073_111700_5': 'bus', '316054_237581_6': 'truck', '316054_238715_6': 'truck', '435795_805069_5': 'bus', '435795_805450_5': 'bus', '435795_805693_5': 'bus', '466789_140000_2': 'dog', '466789_141209_5': 'carrot', '466789_144335_10': 'backpack', '218703_811439_3': 'motorcycle', '218703_811955_4': 'airplane', '452696_541791_11': 'mouse', '452696_542193_2': 'mouse', '452696_542613_16': 'mouse', '452696_548895_16': 'couch', '452696_551055_9': 'giraffe', '498641_787255_3': 'horse', '498641_789955_3': 'horse', '79469_425099_9': 'zebra', '79469_426566_9': 'zebra', '42979_368029_3': 'ball', '42979_372682_3': 'ball', '42979_375508_3': 'ball', '342521_27991_3': 'ball', '342521_32536_2': 'snowboard', '28039_190403_7': 'elephant', '578131_87522_5': 'cow', '578131_105540_5': 'cow', '485413_565430_5': 'cow', '485413_567482_5': 'cow', '91766_574370_1': 'chair', '91766_577640_3': 'bed', '64703_271522_6': 'pizza', '64703_281824_6': 'pizza', '64703_282151_6': 'pizza', '292227_170342_5': 'kite', '292227_171623_1': 'frisbee', '346788_135782_6': 'pizza', '346788_139904_6': 'pizza', '346788_147767_6': 'pizza', '452611_213114_1': 'frisbee', '452611_232890_1': 'frisbee', '452611_244794_6': 'bat', '346011_641754_1': 'frisbee', '346011_651267_1': 'frisbee', '255322_675071_1': 'bottle', '255322_676469_1': 'bottle', '255322_679568_1': 'bottle', '421566_112796_3': 'sandwich', '421566_117497_3': 'sandwich', '421566_118547_3': 'sandwich', '421566_125840_3': 'sandwich', '421566_128504_9': 'broccoli', '560064_697192_8': 'pizza', '560064_697309_8': 'pizza', '532780_459348_17': 'fork', '532780_460239_10': 'cup', '532780_461109_2': 'glass', '532780_466230_17': 'fork', '532780_822631_6': 'pizza', '203214_283919_5': 'kite', '203214_287987_5': 'kite', '231589_359470_2': 'couch', '40757_614270_2': 'couch', '40757_619868_2': 'couch', '40757_624503_2': 'couch', '147685_5510_6': 'carrot', '147685_5690_3': 'sandwich', '147685_6746_3': 'sandwich', '147685_7238_3': 'sandwich', '35279_445588_11': 'mouse', '35279_449734_1': 'clock', '402795_808504_2': 'laptop', '402795_809605_1': 'couch', '516248_337129_4': 'keyboard', '516248_342856_4': 'keyboard', '516248_347365_2': 'laptop', '104666_616527_3': 'scissors', '560010_453150_8': 'surfboard', '560010_822771_8': 'surfboard', '261744_602119_1': 'frisbee', '261744_603271_1': 'frisbee', '261744_604012_8': 'surfboard', '517417_486157_5': 'bus', '517417_487999_5': 'bus', '517417_488251_5': 'bus', '301991_278687_3': 'bed', '229740_200470_2': 'dog', '229740_204886_2': 'dog', '229740_205837_15': 'cup', '229740_211483_2': 'dog', '229740_211678_2': 'dog', '117914_639634_3': 'bed', '117914_642340_3': 'bed', '35222_447412_3': 'bed', '35222_455269_3': 'bed', '444576_674992_3': 'horse', '444576_675028_3': 'horse', '444576_675412_3': 'horse', '444576_677818_3': 'horse', '444576_678274_10': 'horse', '560025_350611_4': 'table', '560025_352264_3': 'bed', '560025_355804_3': 'bed', '534669_544985_4': 'airplane', '192529_516367_8': 'hydrant', '192529_518347_1': 'bicycle', '192529_522691_15': 'hydrant', '76107_728857_4': 'airplane', '122582_474126_3': 'dog', '548164_425159_5': 'bus', '548164_425597_5': 'bus', '548164_426707_5': 'bus', '548164_427088_5': 'bus', '548164_429830_6': 'truck', '183967_80994_3': 'horse', '183967_88995_2': 'dog', '183967_91419_2': 'dog', '183967_91911_10': 'chair', '154095_373609_2': 'couch', '154095_376822_3': 'scissors', '103873_643060_3': 'horse', '448627_713522_2': 'dog', '448627_720326_7': 'mouse', '448627_720452_2': 'dog', '448627_723248_2': 'dog', '414216_435118_4': 'airplane', '414216_435484_4': 'airplane', '518163_800911_5': 'train', '437494_207023_3': 'horse', '437494_225623_1': 'bird', '436603_76040_11': 'couch', '436603_82472_2': 'cat', '436603_89027_11': 'couch', '385997_516324_1': 'bird', '385997_517569_11': 'couch', '524047_640782_3': 'ball', '524047_642540_3': 'ball', '288576_308777_3': 'ball', '288576_313694_3': 'ball', '92771_637991_9': 'giraffe', '348263_735197_6': 'bat', '400290_692206_2': 'snowboard', '400290_693652_2': 'snowboard', '116377_325863_2': 'snowboard', '116377_326763_2': 'snowboard', '169143_181835_6': 'glove', '163127_15871_2': 'snowboard', '163127_20569_2': 'snowboard', '557059_44848_5': 'carrot', '557059_47917_4': 'orange', '557059_48139_11': 'carrot', '557059_52684_5': 'carrot', '557059_58870_5': 'carrot', '133042_107068_6': 'glove', '133042_109195_6': 'glove', '285751_383014_5': 'kite', '558640_108409_5': 'knife', '558640_132025_11': 'carrot', '390086_209665_5': 'carrot', '390086_213184_5': 'carrot', '425790_87447_2': 'snowboard', '425790_95838_2': 'snowboard', '425790_119862_2': 'snowboard', '114158_749555_2': 'snowboard', '184425_436076_1': 'chair', '184425_436652_1': 'chair', '184425_438761_7': 'chair', '184425_439508_1': 'chair', '289417_113644_2': 'snowboard', '289417_123526_2': 'snowboard', '146253_291421_2': 'snowboard', '420522_423729_3': 'sandwich', '420522_433653_3': 'sandwich', '521943_182839_14': 'kite', '170191_462904_2': 'couch', '170191_468028_2': 'couch', '170191_469513_2': 'couch', '277289_276267_5': 'chair', '36773_409960_9': 'racket', '308856_695194_4': 'ball', '308856_695476_9': 'racket', '308856_700516_4': 'ball', '109532_29780_10': 'bird', '109532_30818_9': 'giraffe', '109532_35882_12': 'horse', '109532_37838_1': 'bird', '418692_64659_3': 'table', '418692_67368_6': 'laptop', '418692_73194_1': 'couch', '512451_479958_7': 'boat', '512451_481794_3': 'snowboard', '512451_487368_1': 'frisbee', '197279_622469_1': 'book', '197279_623138_3': 'scissors', '197279_628271_1': 'book', '537069_475392_9': 'racket', '537069_480876_13': 'ball', '537069_481281_4': 'ball', '537069_484032_4': 'ball', '133559_799443_5': 'kite', '214257_627773_4': 'ball', '397008_183754_5': 'kite', '397008_192169_14': 'kite', '321542_730581_1': 'book', '321542_732111_3': 'scissors', '232185_463491_9': 'racket', '232185_474102_4': 'ball', '232185_822760_18': 'racket', '520525_822239_4': 'ball', '548246_727320_4': 'ball', '349203_630245_4': 'ball', '325838_684684_2': 'mouse', '527427_98932_11': 'chair', '527427_112252_3': 'table', '527427_115792_6': 'laptop', '468704_722230_1': 'book', '468704_724657_1': 'book', '468704_730507_3': 'scissors', '151877_204767_3': 'motorcycle', '151877_217571_3': 'motorcycle', '151877_229970_9': 'motorcycle', '151877_245840_2': 'car', '53431_91557_1': 'tv', '53431_96120_1': 'tv', '291606_267877_4': 'airplane', '291606_279586_4': 'airplane', '291606_279721_4': 'airplane', '291606_280447_3': 'motorcycle', '540160_687425_4': 'airplane', '540160_688226_4': 'airplane', '540160_689357_4': 'airplane', '540160_690278_4': 'airplane', '466986_617461_2': 'car', '239627_720852_4': 'refrigerator', '239627_728112_4': 'refrigerator', '274528_479279_2': 'car', '274528_479798_5': 'train', '274528_482915_2': 'car', '558840_775529_1': 'bicycle', '558840_776294_5': 'train', '51476_156329_7': 'pizza', '64332_733430_7': 'boat', '84980_71106_3': 'horse', '432038_517797_3': 'horse', '432038_520458_3': 'horse', '432038_524451_3': 'horse', '140691_603134_9': 'giraffe', '140691_603488_9': 'giraffe', '26323_222529_9': 'zebra', '526132_454060_9': 'giraffe', '526132_461311_9': 'zebra', '50752_34777_1': 'bicycle', '226065_670317_3': 'motorcycle', '226065_670761_1': 'bicycle', '226065_681267_1': 'bicycle', '393928_147572_5': 'cow', '393928_175832_5': 'cow', '171915_377111_3': 'motorcycle', '171915_377927_3': 'motorcycle', '171915_378719_1': 'bicycle', '192406_317208_1': 'bicycle', '125375_25026_5': 'bus', '125375_27963_6': 'truck', '125375_30792_5': 'bus', '125375_34317_5': 'bus', '318550_83787_5': 'bus', '318550_85023_5': 'bus', '1171_254300_10': 'table', '529850_205148_2': 'dog', '529850_225809_2': 'dog', '325031_486168_7': 'bear', '325031_488655_3': 'dog', '243418_7883_4': 'horse', '243418_20588_4': 'horse', '212573_411640_1': 'backpack', '212573_414886_1': 'backpack', '212573_417505_1': 'backpack', '369309_162464_9': 'keyboard', '91719_119907_9': 'giraffe', '547155_609058_9': 'giraffe', '165174_60355_2': 'snowboard', '165174_66445_2': 'snowboard', '122161_775748_2': 'snowboard', '73665_107703_5': 'kite', '73665_109005_1': 'frisbee', '196878_788839_2': 'cup', '196878_791665_7': 'pizza', '51938_436219_2': 'snowboard', '77980_797912_1': 'microwave', '77980_799688_1': 'microwave', '447208_179695_3': 'remote', '447208_182830_7': 'pizza', '447208_189763_7': 'pizza', '119773_647430_5': 'kite', '341196_741129_5': 'kite', '341196_742131_3': 'snowboard', '177366_213185_7': 'pizza', '177366_219719_3': 'sandwich', '426635_603459_7': 'skateboard', '426635_605697_9': 'racket', '411282_479149_3': 'sandwich', '411282_485119_3': 'sandwich', '411282_485815_3': 'sandwich', '255448_299357_3': 'sandwich', '255448_301430_3': 'sandwich', '255448_305885_3': 'sandwich', '424146_708691_3': 'bed', '424146_711295_2': 'laptop', '424146_715333_1': 'chair', '511760_685263_1': 'frisbee', '511760_685578_1': 'frisbee', '511760_686598_1': 'frisbee', '196007_765423_10': 'skis', '196007_767373_9': 'racket', '298493_2229_6': 'glove', '298493_7404_6': 'glove', '94846_801920_2': 'mouse', '94846_802292_2': 'mouse', '94846_802907_2': 'mouse', '293574_225000_6': 'chair', '83036_221320_1': 'chair', '500699_99079_10': 'fork', '24112_65259_4': 'suitcase', '24112_67215_3': 'bed', '63240_153686_7': 'truck', '72810_94994_2': 'motorcycle', '72810_119747_2': 'dog', '72810_126797_2': 'dog', '14282_263700_2': 'cup', '252280_815429_1': 'bicycle', '252280_815869_1': 'bicycle', '466981_427914_3': 'airplane', '466981_429828_3': 'airplane', '466981_430488_1': 'bicycle', '466981_430641_3': 'airplane', '466981_432330_3': 'airplane', '434511_533429_1': 'chair', '434511_539783_1': 'tv', '434511_544877_2': 'mouse', '434511_546521_2': 'mouse', '434511_549788_2': 'mouse', '301453_367738_1': 'bicycle', '301453_368659_1': 'bicycle', '301453_373294_1': 'bicycle', '301453_379465_1': 'bicycle', '356528_58158_1': 'chair', '356528_59193_2': 'mouse', '48844_547339_7': 'boat', '401163_141364_9': 'giraffe', '401163_146812_4': 'horse', '213649_111782_3': 'motorcycle', '213649_121265_3': 'motorcycle', '213649_130691_8': 'bicycle', '213649_134783_3': 'motorcycle', '178948_683880_7': 'bear', '178948_683955_3': 'horse', '178948_684675_3': 'horse', '178948_689163_3': 'horse', '62875_798095_1': 'bird', '62875_801365_3': 'horse', '772_452268_5': 'cow', '772_455274_5': 'cow', '301380_683235_9': 'giraffe', '36414_121459_2': 'dog', '36414_130564_2': 'dog', '36414_140632_5': 'train', '86334_242618_5': 'bus', '86334_243026_6': 'truck', '86334_247430_5': 'bus', '86334_247784_5': 'bus', '125513_105214_5': 'bus', '125513_109954_5': 'bus', '125513_116617_6': 'truck', '125513_117937_5': 'bus', '175244_697074_3': 'airplane', '175244_701397_2': 'car', '321683_198811_5': 'cow', '321683_199567_12': 'horse', '79229_83858_3': 'horse', '573896_16716_12': 'horse', '573896_17385_5': 'cow', '283945_757255_9': 'car', '482476_766740_2': 'laptop', '482476_772776_2': 'laptop', '482476_776631_2': 'laptop', '482476_777342_2': 'laptop', '335181_268620_4': 'airplane', '335181_286875_2': 'car', '46872_695916_4': 'airplane', '46872_697092_3': 'motorcycle', '46872_697998_4': 'airplane', '46872_698148_4': 'airplane', '183571_557223_8': 'bird', '183571_557616_7': 'truck', '183571_562995_3': 'horse', '183571_565290_4': 'airplane', '511299_326414_7': 'truck', '511299_332087_7': 'truck', '292822_558325_4': 'airplane', '292822_559618_7': 'truck', '292822_564127_4': 'airplane', '292822_566131_7': 'truck', '488368_161084_4': 'horse', '488368_161921_8': 'zebra', '488368_163610_4': 'horse', '301429_51745_1': 'couch', '301429_53293_1': 'couch', '147259_401566_11': 'apple', '147259_513427_1': 'bird', '147259_513814_3': 'horse', '552188_320068_3': 'ball', '552188_322054_3': 'ball', '552188_325288_3': 'ball', '321692_165298_3': 'horse', '236542_38211_1': 'bird', '236542_38805_2': 'cat', '393674_374949_6': 'bat', '337160_313397_4': 'ball', '402717_394952_5': 'carrot', '534019_464063_5': 'carrot', '548209_453578_2': 'snowboard', '402405_480198_6': 'snowboard', '402405_482580_13': 'suitcase', '354736_691263_2': 'snowboard', '520147_709869_7': 'skateboard', '10583_439194_4': 'fork', '10583_440145_3': 'bed', '61967_427861_3': 'bed', '507171_233356_3': 'snowboard', '74733_805031_1': 'chair', '558371_491618_3': 'sandwich', '558371_492047_3': 'sandwich', '558371_823335_3': 'sandwich', '529235_580769_3': 'bed', '529235_581723_3': 'sandwich', '529235_582245_3': 'sandwich', '529235_586718_3': 'sandwich', '349647_405697_3': 'sandwich', '349647_406042_11': 'sandwich', '349647_407329_3': 'sandwich', '349647_407557_3': 'sandwich', '208560_379345_1': 'chair', '208560_383056_2': 'chair', '208560_383731_4': 'bed', '208560_384886_3': 'bed', '540133_217579_1': 'tv', '491856_271968_5': 'phone', '491856_277719_3': 'remote', '446058_541662_2': 'laptop', '183387_165938_1': 'frisbee', '183387_201206_1': 'frisbee', '551685_711458_8': 'surfboard', '494144_316691_8': 'surfboard', '494144_319442_1': 'frisbee', '494144_320279_1': 'frisbee', '375357_782208_8': 'surfboard', '1503_33138_6': 'pizza', '1503_35766_1': 'tv', '517007_209869_1': 'frisbee', '517007_236020_1': 'frisbee', '517007_245047_1': 'frisbee', '376773_305468_4': 'ball', '272357_241857_4': 'ball', '272357_243084_9': 'racket', '399702_521270_2': 'cup', '282296_588291_1': 'microwave', '282296_590409_1': 'microwave', '546226_682503_1': 'book', '435005_494749_4': 'table', '435005_497752_3': 'toaster', '435005_502327_3': 'bed', '566687_233378_5': 'carrot', '566687_238730_4': 'orange', '566687_240923_5': 'knife', '492885_188308_1': 'bicycle', '492885_190642_1': 'bicycle', '492885_196561_1': 'bicycle', '332653_48267_1': 'bicycle', '332653_53757_1': 'bicycle', '570594_538484_4': 'horse', '118529_794636_5': 'bus', '118529_794873_4': 'airplane', '118529_796685_5': 'bus', '1554_171254_5': 'cow', '120826_407884_5': 'bus', '120826_416167_5': 'bus', '66355_587690_12': 'table', '66355_588173_2': 'dog', '66355_588785_2': 'dog', '66355_590309_3': 'table', '247206_587055_2': 'dog', '247206_589695_2': 'dog', '247206_590289_2': 'dog', '247206_594357_2': 'dog', '563926_172278_4': 'airplane', '115885_367992_11': 'mouse', '115885_370230_11': 'mouse', '115885_377721_16': 'couch', '428580_537624_3': 'tie', '293002_504772_1': 'backpack', '293002_507709_3': 'tie', '293002_509431_3': 'tie', '293002_511420_3': 'tie', '293002_512326_1': 'backpack', '539419_766193_2': 'umbrella', '539419_770498_2': 'umbrella', '275542_606937_3': 'ball', '275542_608128_3': 'ball', '275542_620293_3': 'ball', '275542_621628_3': 'ball', '273232_674759_1': 'bird', '273232_677042_3': 'horse', '273232_681797_8': 'surfboard', '489125_801824_3': 'ball', '489125_805787_3': 'ball', '489125_807059_2': 'snowboard', '489125_811808_2': 'snowboard', '315620_311567_3': 'ball', '315620_313706_3': 'ball', '90003_645107_3': 'ball', '90003_648104_11': 'apple', '90003_648452_3': 'ball', '90003_660185_3': 'ball', '208236_236552_3': 'ball', '208236_238289_3': 'ball', '558784_263159_6': 'glove', '459195_480046_3': 'ball', '268435_227713_2': 'snowboard', '375198_797450_1': 'chair', '375198_802139_1': 'chair', '375198_803546_4': 'broccoli', '15032_538027_6': 'bat', '15032_539032_9': 'racket', '399178_160794_15': 'glove', '399178_168342_6': 'glove', '447522_412030_2': 'apple', '37783_272840_1': 'frisbee', '37783_279740_6': 'bat', '37783_280904_1': 'frisbee', '37783_282197_1': 'frisbee', '490515_133765_4': 'kite', '46329_530924_5': 'kite', '46329_535892_1': 'frisbee', '46329_538268_5': 'kite', '34020_97646_2': 'snowboard', '22474_66522_4': 'fork', '113571_665537_7': 'pizza', '113571_668771_3': 'sandwich', '113571_670403_7': 'pizza', '181506_643598_3': 'bed', '181506_644846_1': 'chair', '181506_649634_1': 'chair', '365685_461977_1': 'bird', '365685_463720_1': 'bird', '343038_620087_4': 'kite', '168250_8548_3': 'scissors', '168250_11905_1': 'chair', '234169_361231_2': 'cup', '333014_789871_8': 'surfboard', '501491_650797_7': 'pizza', '501491_652894_12': 'sandwich', '501491_653122_7': 'pizza', '501491_655207_14': 'glove', '501491_655609_13': 'knife', '566931_782231_5': 'kite', '566931_783428_5': 'kite', '175825_630098_1': 'frisbee', '86650_581627_3': 'table', '376900_620573_6': 'glove', '275393_786724_9': 'racket', '275393_794377_4': 'ball', '228551_121000_1': 'bottle', '228551_138208_1': 'bottle', '293537_311754_2': 'clock', '186282_108661_4': 'keyboard', '186282_141616_3': 'orange', '186282_142984_4': 'keyboard', '28978_942_5': 'phone', '28978_5697_4': 'keyboard', '216437_540516_1': 'tv', '216437_541713_4': 'keyboard', '216437_544992_1': 'chair', '216437_548733_1': 'tv', '425925_68734_3': 'scissors', '425925_72145_3': 'scissors', '116861_53122_2': 'bed', '116861_56299_2': 'bed', '174371_350012_2': 'laptop', '174371_352865_5': 'keyboard', '254807_432846_2': 'laptop', '254807_436779_2': 'laptop', '131847_265690_3': 'vase', '131847_269137_3': 'vase', '360440_307074_1': 'bird', '360440_317475_1': 'bird', '360440_318888_1': 'bird', '133608_640161_3': 'horse', '159151_194940_3': 'bed', '159151_199800_4': 'table', '474119_563393_3': 'bed', '474119_564779_4': 'table', '399998_755949_1': 'bicycle', '399998_760204_3': 'motorcycle', '399998_761062_4': 'airplane', '399998_765529_1': 'bicycle', '340386_315596_1': 'bicycle', '340386_316676_1': 'bicycle', '340386_322226_4': 'airplane', '340386_324641_4': 'airplane', '258291_510189_4': 'airplane', '258291_556128_4': 'airplane', '258291_559215_3': 'motorcycle', '472501_188090_4': 'airplane', '472501_192866_4': 'airplane', '43286_248547_13': 'bus', '43286_253548_5': 'bus', '43286_256992_13': 'bus', '397628_782858_2': 'car', '98871_658887_2': 'dog', '98871_662970_2': 'dog', '222146_639581_1': 'couch', '222146_640550_9': 'couch', '222146_642212_10': 'couch', '551383_459311_1': 'backpack', '551383_460913_1': 'backpack', '551383_467711_3': 'tie', '527691_608164_2': 'bed', '308328_719987_6': 'truck', '70258_76891_7': 'skateboard', '91527_780248_1': 'chair', '91527_780392_1': 'chair', '107068_125845_6': 'glove', '107068_138109_6': 'glove', '107068_144796_6': 'glove', '206907_270538_7': 'skateboard', '431208_648894_4': 'ball', '452414_642122_3': 'bed', '185936_290140_2': 'sandwich', '185936_297775_2': 'sandwich', '38865_436483_5': 'carrot', '76822_670491_2': 'snowboard', '231822_316131_1': 'chair', '408773_190763_1': 'frisbee', '408773_237140_5': 'kite', '532295_776518_6': 'glove', '111207_803367_1': 'frisbee', '89557_145797_7': 'pizza', '89557_149766_7': 'pizza', '309638_416267_5': 'kite', '309638_419282_5': 'kite', '384348_377815_2': 'snowboard', '384348_394477_2': 'snowboard', '346589_751807_2': 'snowboard', '465986_683068_4': 'kite', '465986_686593_6': 'glove', '153631_800524_13': 'ball', '286146_472570_7': 'pizza', '286146_474862_7': 'pizza', '286146_475996_3': 'sandwich', '286146_477679_7': 'pizza', '528956_141646_2': 'couch', '528956_146674_2': 'couch', '528956_149818_2': 'couch', '438046_434239_2': 'couch', '438046_435130_5': 'couch', '438046_436210_3': 'table', '197193_688334_3': 'sandwich', '197193_695975_3': 'sandwich', '197193_696890_3': 'sandwich', '467138_110112_4': 'ball', '507167_173104_1': 'bottle', '518133_190719_1': 'tv', '125208_468361_2': 'bed', '488401_533381_1': 'tv', '488401_536039_1': 'tv', '488401_538379_2': 'mouse', '548946_434864_3': 'table', '548946_439712_2': 'bed', '548946_442352_4': 'toilet', '548946_443912_2': 'bed', '107954_519744_9': 'keyboard', '107954_521664_7': 'laptop', '107954_523392_9': 'keyboard', '107954_524619_4': 'keyboard', '381257_161956_9': 'keyboard', '381257_168469_1': 'chair', '76738_68414_2': 'laptop', '76738_72638_9': 'keyboard', '76738_74321_2': 'laptop', '546934_620975_3': 'table', '546934_621896_3': 'table', '546934_622457_3': 'remote', '401808_215900_3': 'horse', '401808_222725_3': 'horse', '401808_228368_1': 'frisbee', '401808_230123_10': 'frisbee', '559348_619148_4': 'ball', '32577_340791_4': 'ball', '510609_691061_1': 'chair', '510609_702644_1': 'tv', '229000_502637_2': 'toaster', '229000_504245_2': 'toaster', '229000_506006_5': 'microwave', '229000_506840_3': 'sink', '229000_506909_2': 'toaster', '287858_454639_2': 'couch', '287858_456178_3': 'scissors', '287858_458752_3': 'table', '27610_675429_2': 'laptop', '27610_687969_2': 'laptop', '321223_475019_1': 'microwave', '321223_481163_1': 'microwave', '321223_483230_1': 'microwave', '321223_484892_1': 'microwave', '578391_202168_2': 'cup', '550073_4530_2': 'apple', '498537_54956_5': 'knife', '498537_55151_5': 'knife', '196313_29897_1': 'chair', '30954_215109_3': 'bed', '30954_243804_1': 'chair', '30954_246768_3': 'cup', '467705_236890_2': 'cup', '467705_238705_2': 'cup', '118378_638221_1': 'microwave', '339761_720838_4': 'table', '98493_484654_1': 'book', '98493_486736_1': 'book', '98493_487732_1': 'book', '34222_325995_1': 'bicycle', '34222_326736_1': 'bicycle', '34222_332124_1': 'bicycle', '190494_762286_3': 'dog', '190494_767290_5': 'cow', '8180_19065_6': 'truck', '8180_19578_6': 'truck', '517296_204563_4': 'airplane', '517296_233108_6': 'pizza', '517296_245345_3': 'motorcycle', '517296_247442_3': 'motorcycle', '482081_491841_9': 'zebra', '320901_435771_1': 'bicycle', '320901_438519_4': 'airplane', '440842_423831_9': 'zebra', '406329_354069_3': 'motorcycle', '406329_367563_1': 'bicycle', '466965_259973_1': 'cat', '326863_374978_5': 'bus', '326863_376952_5': 'bus', '121112_89120_1': 'tv', '121112_89684_1': 'tv', '121112_91223_1': 'tv', '121112_91865_1': 'tv', '288340_709320_4': 'airplane', '288340_717777_4': 'airplane', '52982_456843_4': 'horse', '52982_459798_4': 'horse', '52982_460398_4': 'horse', '380720_434223_4': 'horse', '380720_434805_4': 'horse', '380720_437229_4': 'horse', '380720_438246_4': 'horse', '437209_362749_3': 'bed', '536428_736678_3': 'ball', '536428_738778_3': 'ball', '536428_828259_3': 'ball', '536428_828448_3': 'ball', '269316_590087_3': 'ball', '269316_591641_3': 'ball', '269316_595742_3': 'ball', '509695_732099_6': 'glove', '509695_735213_3': 'ball', '509695_736812_3': 'ball', '569526_674658_4': 'ball', '569526_674865_4': 'ball', '569526_683682_4': 'ball', '153669_511015_4': 'ball', '153669_547528_4': 'ball', '153669_549658_6': 'glove', '181980_226972_6': 'glove', '495090_4600_3': 'bed', '44029_268238_2': 'snowboard', '44029_278852_4': 'airplane', '378712_683956_1': 'chair', '380089_614764_5': 'carrot', '380089_619699_5': 'carrot', '113173_701053_2': 'snowboard', '113173_718837_7': 'skateboard', '110551_135372_5': 'kite', '528399_264371_1': 'chair', '528399_271259_2': 'glass', '365711_600785_1': 'frisbee', '365711_606038_5': 'kite', '61983_719761_5': 'tv', '61983_725803_5': 'tv', '61983_726616_5': 'tv', '578344_489822_3': 'sandwich', '578344_493155_3': 'sandwich', '318854_181627_1': 'tv', '75412_279812_1': 'couch', '164512_235576_18': 'racket', '164512_244951_18': 'racket', '350171_346676_4': 'ball', '326959_488025_2': 'bed', '326959_496011_9': 'phone', '411070_612353_2': 'bed', '402368_692107_5': 'couch', '523854_423691_1': 'chair', '523854_428977_2': 'bed', '559012_454995_2': 'laptop', '559012_457461_5': 'keyboard', '559012_458289_2': 'apple', '93261_11819_8': 'surfboard', '93261_12662_8': 'surfboard', '88412_166550_6': 'glove', '88412_175268_6': 'glove', '100909_531250_4': 'ball', '100909_535708_13': 'ball', '527486_763746_9': 'racket', '527486_765015_9': 'racket', '527486_766041_9': 'racket', '471154_733522_2': 'laptop', '100111_661438_5': 'tv', '100111_666127_1': 'tv', '100111_668323_1': 'tv', '100111_674518_1': 'chair', '498462_203964_2': 'laptop', '498462_209979_2': 'laptop', '498462_210768_2': 'laptop', '498462_211404_2': 'laptop', '74656_460353_2': 'laptop', '74656_461130_2': 'laptop', '74656_461679_3': 'table', '74656_464766_2': 'laptop', '74656_469062_2': 'laptop', '567254_680734_3': 'remote', '33405_293261_3': 'horse', '33405_302174_3': 'horse', '212646_502491_1': 'microwave', '212646_511509_7': 'sink', '183676_720998_1': 'frisbee', '92016_187608_4': 'refrigerator', '346071_1248_3': 'airplane', '346071_6501_3': 'airplane', '346071_10539_1': 'bicycle', '495252_340071_1': 'frisbee', '495252_345006_1': 'frisbee', '495252_348057_9': 'racket', '401550_613504_2': 'cup', '401550_614503_1': 'bicycle', '187857_721870_1': 'bicycle', '187857_727744_1': 'bicycle', '187857_729235_1': 'bicycle', '143737_266358_1': 'bicycle', '205282_749416_9': 'zebra', '427782_577372_2': 'apple', '427782_577435_2': 'apple', '223466_22949_1': 'bicycle', '466346_727701_1': 'bicycle', '255990_783068_5': 'cow', '310703_781760_5': 'bus', '562292_767898_2': 'laptop', '562292_769095_2': 'laptop', '482994_540472_2': 'dog', '482994_542020_11': 'couch', '482994_542830_2': 'dog', '182233_367631_3': 'motorcycle', '182233_368135_2': 'car', '182233_370688_2': 'car', '182233_371837_2': 'car', '267169_760653_11': 'cup', '267169_762483_11': 'cup', '267169_763713_4': 'horse', '267169_764757_14': 'spoon', '267169_771948_14': 'spoon', '35738_236472_3': 'handbag', '191693_345669_1': 'couch', '191693_346476_3': 'table', '222625_307055_3': 'bed', '522941_20102_4': 'horse', '522941_20546_4': 'horse', '522941_22496_4': 'horse', '522941_23903_4': 'horse', '522941_35921_4': 'horse', '95161_662765_3': 'scissors', '95161_665279_3': 'scissors', '71920_446518_3': 'tie', '71920_459658_3': 'tie', '71920_463294_3': 'tie', '71920_465943_3': 'tie', '369393_222911_3': 'tie', '369393_251456_3': 'tie', '369393_252719_2': 'apple', '333434_133913_3': 'tie', '157657_368529_4': 'horse', '157657_369162_4': 'horse', '157657_369555_4': 'horse', '157657_370179_4': 'horse', '296393_461983_1': 'backpack', '296393_463408_1': 'backpack', '296393_466429_1': 'backpack', '481422_303360_1': 'couch', '132796_218709_1': 'couch', '198489_326217_3': 'tie', '198489_327423_1': 'backpack', '267725_98389_3': 'horse', '267725_105520_3': 'horse', '136143_443352_3': 'ball', '136143_443544_2': 'snowboard', '136143_446157_3': 'ball', '136143_449043_3': 'ball', '136143_449085_3': 'ball', '478430_354913_9': 'racket', '478430_357358_3': 'ball', '478430_358189_3': 'ball', '478430_359443_3': 'ball', '109291_156099_1': 'bird', '109291_202998_12': 'bed', '455355_680070_5': 'cow', '455355_689769_5': 'cow', '305050_678038_5': 'cow', '305050_679190_3': 'dog', '305050_680513_3': 'dog', '305050_683243_5': 'cow', '22775_767938_19': 'knife', '453026_611967_6': 'bowl', '33990_828231_1': 'bicycle', '124135_391948_12': 'pizza', '323423_560946_2': 'snowboard', '323423_563787_2': 'snowboard', '379837_688234_7': 'pizza', '379837_691285_7': 'pizza', '379837_697087_7': 'pizza', '572147_390450_11': 'bed', '572147_393597_3': 'bed', '339965_749448_7': 'pizza', '339965_749655_7': 'pizza', '339965_752234_7': 'pizza', '339965_752417_7': 'pizza', '479350_728068_3': 'bed', '479350_728752_7': 'pizza', '479350_732580_3': 'bed', '479350_743353_7': 'pizza', '44839_185789_7': 'pizza', '44839_190544_7': 'pizza', '44839_218657_7': 'pizza', '44839_223592_11': 'pizza', '73536_166705_7': 'pizza', '73536_183091_7': 'pizza', '117471_547542_2': 'couch', '117471_548679_2': 'couch', '117471_550764_2': 'couch', '499592_756963_2': 'couch', '499592_761059_3': 'table', '499592_761944_2': 'couch', '499592_766984_2': 'couch', '499592_767431_2': 'couch', '7304_419287_13': 'ball', '7304_419362_4': 'ball', '505043_433999_5': 'phone', '505043_439534_2': 'mouse', '488166_732675_1': 'chair', '488166_736077_14': 'bowl', '140174_387790_2': 'apple', '140174_390196_6': 'couch', '140174_392641_2': 'laptop', '144984_290536_2': 'laptop', '144984_290662_2': 'bed', '144984_291853_10': 'bed', '144984_297643_2': 'apple', '475906_146512_2': 'bed', '263723_491836_3': 'sandwich', '263723_494815_3': 'sandwich', '380639_526939_1': 'chair', '380639_529309_1': 'chair', '380639_531010_3': 'bed', '380639_534313_7': 'sandwich', '44831_586547_1': 'book', '44831_594260_1': 'book', '41998_357803_1': 'book', '41998_359927_1': 'book', '268254_760298_9': 'microwave', '268254_761474_3': 'sink', '268254_764783_6': 'toaster', '268254_765956_3': 'sink', '268254_767936_3': 'sink', '359801_662359_5': 'toothbrush', '359801_665155_5': 'toothbrush', '359801_665164_5': 'toothbrush', '43673_779340_9': 'giraffe', '43673_779667_2': 'cat', '43673_781749_1': 'chair', '43673_785232_2': 'cat', '48674_200199_4': 'suitcase', '144333_646131_2': 'motorcycle', '332159_747058_4': 'refrigerator', '332159_749118_4': 'refrigerator', '406253_559602_2': 'car', '141597_769341_5': 'train', '141597_770532_4': 'airplane', '141597_770829_5': 'train', '141597_771744_5': 'train', '141597_772887_3': 'airplane', '51143_414238_12': 'bed', '51143_414517_10': 'chair', '51143_416623_6': 'cat', '51143_416701_12': 'bed', '51143_418591_1': 'clock', '157862_722226_6': 'cup', '157862_722850_6': 'cup', '157862_724614_3': 'bed', '494629_26049_3': 'bed', '494629_30507_1': 'couch', '494629_35562_3': 'bed', '494629_40851_3': 'bed', '508656_280592_1': 'couch', '508656_282323_2': 'bed', '187249_479293_3': 'remote', '187249_484489_2': 'cup', '252468_425910_4': 'scissors', '252468_426909_3': 'scissors', '493435_449047_2': 'backpack', '493435_449992_6': 'phone', '493435_452983_2': 'backpack', '493435_455695_1': 'backpack', '272048_509957_1': 'couch', '401018_523582_3': 'tie', '401018_528040_3': 'tie', '401018_532540_1': 'backpack', '401018_532702_3': 'tie', '26501_486567_8': 'book', '26501_488121_4': 'airplane', '73981_266379_9': 'zebra', '70334_617420_5': 'cow', '70334_618005_5': 'cow', '70334_624008_5': 'cow', '489588_699867_5': 'cow', '489588_700869_5': 'cow', '377911_47073_5': 'cow', '377911_48639_5': 'cow', '472416_271720_9': 'giraffe', '472416_276841_5': 'cow', '472416_278533_5': 'cow', '279874_429685_1': 'bicycle', '453520_746294_3': 'dog', '312056_305944_2': 'dog', '312056_307201_2': 'dog', '312056_310588_2': 'dog', '312056_317767_2': 'dog', '499618_814783_2': 'car', '499618_815790_2': 'car', '499618_816947_2': 'car', '229350_517284_3': 'motorcycle', '229350_519579_3': 'motorcycle', '229350_522081_3': 'motorcycle', '521288_466739_17': 'zebra', '521288_468440_8': 'zebra', '521288_468941_8': 'zebra', '521288_469418_4': 'horse', '524507_197704_3': 'tie', '524507_232324_3': 'tie', '524507_818579_3': 'tie', '6864_690026_2': 'umbrella', '6864_694829_2': 'umbrella', '115859_218266_20': 'couch', '115859_230737_2': 'couch', '115859_235870_2': 'couch', '437347_33504_7': 'skateboard', '332067_202080_2': 'snowboard', '163608_501820_1': 'chair', '538005_255592_5': 'kite', '19723_703237_3': 'bed', '116202_318771_5': 'kite', '116202_330645_1': 'frisbee', '108904_57877_9': 'bed', '108904_67267_3': 'bed', '405762_425157_6': 'glove', '405762_430761_6': 'glove', '134075_679068_5': 'chair', '242060_621379_7': 'fork', '519316_356105_3': 'table', '519316_359258_12': 'bed', '284589_122005_3': 'table', '284589_136216_2': 'couch', '252179_464074_7': 'pizza', '252179_464302_3': 'cup', '252179_464695_7': 'pizza', '252179_464782_3': 'sandwich', '252179_824477_7': 'pizza', '269815_101634_2': 'couch', '269815_110436_2': 'couch', '269815_118989_2': 'couch', '342831_526726_2': 'couch', '342831_528856_2': 'couch', '336961_747088_2': 'apple', '336961_755071_9': 'racket', '336961_756064_15': 'skateboard', '137297_99984_4': 'ball', '307871_207815_1': 'banana', '307871_221858_3': 'sandwich', '307871_246872_14': 'cup', '232985_411759_9': 'racket', '232985_412149_9': 'racket', '232985_416313_18': 'racket', '232985_418845_18': 'racket', '170474_800209_9': 'racket', '170474_801958_9': 'racket', '170474_802312_9': 'racket', '463678_299651_9': 'racket', '174402_33966_4': 'ball', '262605_628577_1': 'book', '544065_806793_9': 'racket', '560993_497861_3': 'remote', '560993_498929_6': 'tv', '560993_507275_3': 'remote', '560993_510845_3': 'remote', '201727_619931_1': 'chair', '118260_270970_1': 'frisbee', '118260_273928_1': 'frisbee', '283717_493553_2': 'toaster', '283717_497882_5': 'chair', '283717_499433_2': 'toaster', '283717_499982_2': 'toaster', '283717_500219_3': 'sink', '262227_605873_2': 'mouse', '262227_607682_2': 'mouse', '167044_179761_3': 'sandwich', '167044_183346_3': 'sandwich', '248616_812853_4': 'ball', '248616_812997_18': 'racket', '248616_813432_9': 'racket', '248616_814800_7': 'skateboard', '141247_313666_1': 'chair', '141247_317866_6': 'cup', '141247_318187_1': 'chair', '141247_324955_3': 'bed', '304689_338070_3': 'bed', '304689_340194_3': 'bed', '321867_150502_2': 'laptop', '343903_705606_3': 'fork', '343903_714942_3': 'sandwich', '258382_533244_1': 'backpack', '258382_536721_1': 'backpack', '258382_539100_3': 'tie', '464476_609933_6': 'chair', '464476_614205_1': 'tv', '464476_616626_2': 'cup', '521906_33100_2': 'cup', '122869_513836_3': 'sink', '553280_206263_4': 'table', '553280_232039_4': 'table', '553280_245092_3': 'toaster', '78035_203619_4': 'refrigerator', '343506_499452_2': 'cup', '547003_109257_8': 'refrigerator', '547003_119256_4': 'refrigerator', '282150_621940_2': 'car', '282150_625006_2': 'car', '282150_627850_1': 'bicycle', '366884_174569_1': 'bird', '366884_175865_1': 'tv', '306136_151063_10': 'orange', '306136_153082_3': 'orange', '445606_587007_3': 'motorcycle', '445606_748179_3': 'motorcycle', '445606_751747_1': 'bicycle', '445606_753388_11': 'motorcycle', '419089_136941_4': 'airplane', '419089_142875_12': 'train', '419089_145656_3': 'motorcycle', '252294_732553_2': 'couch', '96207_240106_2': 'car', '96207_245338_4': 'airplane', '96207_251416_2': 'car', '96207_252484_2': 'car', '248129_498047_2': 'car', '248129_511352_3': 'motorcycle', '155341_579000_3': 'airplane', '155341_580662_5': 'train', '155341_584292_5': 'train', '155341_587064_3': 'airplane', '321024_521680_4': 'airplane', '321024_524140_2': 'car', '220722_384030_6': 'car', '220722_385527_6': 'car', '220722_387366_2': 'car', '220722_389775_2': 'car', '243694_636029_4': 'airplane', '243694_636752_4': 'airplane', '243694_636863_4': 'airplane', '243694_640376_4': 'airplane', '243694_644900_4': 'airplane', '190690_585553_12': 'scissors', '190690_586195_2': 'apple', '190690_587848_11': 'couch', '478474_779282_2': 'car', '478474_783791_2': 'car', '478474_790103_2': 'car', '478474_793412_2': 'car', '315841_172153_4': 'horse', '315841_192103_4': 'horse', '315841_196501_4': 'horse', '402588_340493_4': 'suitcase', '183677_743624_8': 'cake', '554620_150405_3': 'tie', '554620_192441_3': 'tie', '554620_198306_3': 'tie', '554620_198513_3': 'tie', '554620_201648_3': 'tie', '483074_52796_3': 'ball', '483074_55049_7': 'bear', '123867_387039_3': 'horse', '123867_388197_3': 'horse', '123867_388641_3': 'horse', '123867_391158_3': 'horse', '123867_396303_3': 'horse', '127263_741618_3': 'ball', '127263_824989_3': 'ball', '127263_826698_3': 'ball', '144157_185438_2': 'cat', '473994_52609_3': 'horse', '473994_54832_1': 'bird', '473994_57709_12': 'ball', '473994_60397_3': 'horse', '473994_61732_12': 'ball', '106794_304575_5': 'cow', '106794_305853_5': 'cow', '106794_306510_5': 'cow', '106794_313074_5': 'cow', '300791_287659_5': 'cow', '300791_405496_5': 'cow', '300791_406483_3': 'dog', '494855_270548_15': 'glove', '494855_274142_4': 'ball', '494855_274331_6': 'glove', '433998_634128_6': 'glove', '227742_123417_2': 'snowboard', '407298_408935_15': 'glove', '407298_411434_15': 'glove', '407298_413132_6': 'bat', '407298_414035_6': 'glove', '554727_356540_1': 'frisbee', '554727_356987_1': 'frisbee', '554727_357791_1': 'frisbee', '554727_357809_1': 'frisbee', '500680_136872_3': 'bed', '333556_640121_3': 'scissors', '54592_556546_2': 'snowboard', '54592_558904_2': 'snowboard', '256868_690764_5': 'kite', '314383_250602_1': 'frisbee', '279784_116642_3': 'bed', '279784_122864_6': 'pizza', '279784_125594_6': 'pizza', '247880_123740_5': 'kite', '210002_690566_6': 'pizza', '210002_694727_6': 'pizza', '210002_695636_6': 'pizza', '210002_702077_1': 'bird', '102872_411068_7': 'pizza', '102872_415832_7': 'pizza', '102872_420188_7': 'pizza', '102872_426317_7': 'pizza', '93534_152429_7': 'pizza', '93534_191864_7': 'pizza', '93534_217487_7': 'pizza', '93534_233288_7': 'pizza', '232993_587683_1': 'banana', '232993_589093_3': 'bed', '232993_591190_1': 'bottle', '232993_593104_9': 'knife', '578553_807577_1': 'tv', '578553_815074_9': 'tie', '546342_638676_7': 'glove', '546342_639075_4': 'ball', '492905_752060_5': 'phone', '310915_745149_2': 'laptop', '310915_747060_2': 'laptop', '300701_623850_1': 'frisbee', '300701_624264_1': 'frisbee', '300701_624591_8': 'surfboard', '192787_512294_2': 'mouse', '192787_546317_1': 'tv', '192787_550592_1': 'tv', '513397_294207_1': 'bird', '467022_260553_2': 'mouse', '467022_267519_1': 'chair', '96769_525442_2': 'cup', '96769_525559_2': 'cup', '96769_530215_2': 'cup', '258089_380527_5': 'keyboard', '129659_737325_5': 'bottle', '129659_738906_11': 'knife', '129659_739083_1': 'chair', '129659_740652_1': 'bottle', '569_441878_1': 'frisbee', '162113_5369_3': 'toaster', '162113_6401_4': 'refrigerator', '452727_337974_3': 'bed', '452727_340401_5': 'book', '359715_193559_10': 'motorcycle', '359715_203666_2': 'car', '359715_216641_9': 'car', '250790_118376_5': 'knife', '250790_127178_3': 'cup', '250790_128264_3': 'bed', '250790_135683_1': 'chair', '121162_716804_1': 'bicycle', '121162_720863_8': 'chair', '121162_726044_2': 'car', '121162_727382_1': 'bicycle', '96832_621858_2': 'mouse', '96832_622644_2': 'mouse', '96832_626748_2': 'mouse', '82994_715893_6': 'truck', '82994_723660_6': 'truck', '82994_724230_6': 'truck', '349459_341929_5': 'carrot', '349459_346600_6': 'truck', '504101_643105_3': 'dog', '352936_606398_1': 'cat', '352936_607676_2': 'dog', '178156_728432_2': 'car', '178156_730646_2': 'car', '521285_92671_9': 'zebra', '334521_664133_9': 'zebra', '514376_132359_1': 'bicycle', '514376_132809_1': 'bicycle', '490199_235293_3': 'motorcycle', '490199_239313_2': 'couch', '515025_375946_2': 'dog', '515025_380674_2': 'dog', '515025_386032_6': 'dog', '135872_27550_2': 'mouse', '135872_34171_2': 'mouse', '135872_35548_2': 'mouse', '135872_37225_2': 'mouse', '135872_37294_2': 'mouse', '54340_472967_2': 'couch', '54340_474347_2': 'couch', '54340_486035_2': 'couch', '54340_823637_2': 'couch', '337379_276715_1': 'couch', '337379_277369_3': 'table', '337379_283324_2': 'couch', '337379_285724_3': 'bed', '47004_12823_1': 'backpack', '47004_17650_1': 'backpack', '47004_18877_1': 'backpack', '498259_810915_3': 'motorcycle', '498259_813747_4': 'airplane', '447080_580370_7': 'truck', '447080_584057_3': 'motorcycle', '447080_584807_7': 'truck', '353658_721554_3': 'tie', '353658_724527_3': 'tie', '177207_738928_2': 'snowboard', '177207_825954_2': 'snowboard', '231028_445196_2': 'snowboard', '538344_576410_2': 'snowboard', '429142_748528_1': 'frisbee', '429142_756740_5': 'kite', '153624_270326_9': 'racket', '153624_281333_6': 'bat', '153624_282542_6': 'bat', '29675_152225_3': 'bed', '34508_133725_5': 'bat', '187285_274412_3': 'snowboard', '204329_72798_5': 'kite', '327005_380534_3': 'snowboard', '327005_382949_7': 'truck', '390471_491350_3': 'sandwich', '390471_492787_3': 'sandwich', '390471_494155_3': 'sandwich', '390471_497551_3': 'sandwich', '458727_318857_4': 'ball', '458727_326447_9': 'racket', '458727_330536_4': 'ball', '536891_491920_1': 'chair', '536891_493393_5': 'spoon', '536891_493639_1': 'chair', '536891_494404_1': 'chair', '234499_291596_12': 'fork', '234499_294800_3': 'sandwich', '234499_295673_12': 'fork', '234499_298328_3': 'sandwich', '434806_797387_4': 'ball', '434806_800195_9': 'racket', '434806_801818_9': 'racket', '62355_225691_4': 'ball', '537939_132345_2': 'mouse', '537939_138693_2': 'mouse', '417727_184958_3': 'bed', '417727_226751_1': 'chair', '165742_590774_6': 'chair', '165742_593231_2': 'mouse', '165742_744104_7': 'tie', '181947_152145_6': 'bowl', '181947_210381_11': 'bowl', '181947_213936_2': 'cup', '181947_225852_2': 'glass', '125129_561386_3': 'bed', '125129_561689_6': 'chair', '125129_565940_1': 'chair', '77178_735856_2': 'glass', '77178_824359_2': 'glass', '563697_660654_4': 'horse', '563697_678036_2': 'cat', '563697_678069_2': 'cat', '563697_679335_4': 'horse', '563697_681882_4': 'horse', '56405_441834_4': 'horse', '56405_444918_4': 'horse', '56405_446106_4': 'horse', '56405_446334_4': 'horse', '153956_436470_1': 'chair', '11291_217153_1': 'chair', '579696_264328_7': 'skateboard', '579696_272905_4': 'kite', '470256_439877_4': 'refrigerator', '528411_293391_4': 'refrigerator', '7214_432694_3': 'toaster', '7214_442933_4': 'refrigerator', '7214_448063_4': 'refrigerator', '330536_286279_4': 'table', '330536_286741_4': 'refrigerator', '330536_402514_4': 'table', '186589_581552_1': 'bicycle', '327314_562139_1': 'bicycle', '327314_564584_2': 'car', '327314_564881_2': 'car', '327314_568226_2': 'car', '214574_62261_9': 'zebra', '509116_423775_7': 'bear', '509116_423805_5': 'cow', '509116_430009_7': 'bear', '259555_785549_1': 'hydrant', '474471_681352_9': 'zebra', '31748_421030_4': 'airplane', '31748_421237_3': 'motorcycle', '31748_421936_4': 'airplane', '31748_425248_3': 'motorcycle', '128051_587858_11': 'airplane', '128051_595133_1': 'bicycle', '128051_746945_1': 'bicycle', '128051_747764_2': 'car', '128051_748762_4': 'airplane', '418512_301543_3': 'motorcycle', '124294_474795_14': 'truck', '382670_69661_7': 'truck', '382670_71752_7': 'truck', '382670_78001_7': 'truck', '561967_652804_5': 'bus', '561967_656377_5': 'bus', '561967_657205_6': 'truck', '561967_657856_6': 'truck', '179200_446749_8': 'zebra', '4795_353904_2': 'dog', '4795_355578_2': 'dog', '4795_358779_2': 'dog', '4795_359268_14': 'keyboard', '217521_666254_9': 'giraffe', '217521_667862_2': 'dog', '217521_668240_2': 'dog', '217521_674132_2': 'dog', '357941_423432_6': 'elephant', '357941_424800_2': 'dog', '397427_785636_2': 'dog', '397427_785867_11': 'dog', '397427_793145_2': 'dog', '425866_405316_4': 'airplane', '425866_408352_9': 'bus', '310862_767340_4': 'suitcase', '415073_512517_5': 'chair', '415073_559920_1': 'chair', '415073_560082_3': 'handbag', '551243_818247_2': 'cup', '85527_446457_4': 'suitcase', '491061_638518_3': 'tie', '491061_638947_3': 'tie', '491061_655636_3': 'tie', '302498_467447_3': 'ball', '302498_468053_3': 'ball', '302498_471572_3': 'ball', '137577_535467_3': 'ball', '137577_538449_3': 'ball', '137577_539427_3': 'ball', '436323_568931_3': 'ball', '436323_570653_3': 'ball', '436323_572915_3': 'ball', '457230_432415_3': 'dog', '554928_481902_2': 'snowboard', '50434_377142_6': 'glove', '213453_745023_1': 'chair', '213453_746940_1': 'chair', '162774_396574_6': 'bat', '162774_399325_6': 'bat', '162774_401218_1': 'frisbee', '162774_514690_1': 'frisbee', '426203_20817_6': 'bat', '79860_303234_1': 'bird', '79860_304833_3': 'horse', '517515_592882_1': 'chair', '517515_741520_3': 'bed', '565781_443483_6': 'pizza', '565781_444716_6': 'pizza', '565781_446600_6': 'pizza', '565781_454865_1': 'bird', '392020_626438_6': 'pizza', '392020_627065_6': 'pizza', '392020_627599_6': 'pizza', '392020_627674_6': 'pizza', '303718_519733_3': 'sandwich', '303718_521995_7': 'pizza', '303718_524473_3': 'sandwich', '303718_526411_3': 'sandwich', '160057_646894_6': 'pizza', '160057_647875_6': 'pizza', '160057_648121_6': 'pizza', '284789_142472_1': 'frisbee', '196074_453107_2': 'glass', '196074_453845_2': 'glass', '196074_457076_1': 'bottle', '196074_463445_5': 'phone', '196074_821671_1': 'bottle', '168692_256588_1': 'frisbee', '168692_262540_1': 'frisbee', '168692_264115_1': 'frisbee', '128059_597892_3': 'sandwich', '128059_597928_3': 'sandwich', '128059_598528_3': 'sandwich', '128059_598894_6': 'carrot', '5124_380670_9': 'racket', '5124_383730_6': 'glove', '5124_384663_2': 'apple', '102978_380532_3': 'sandwich', '102978_384474_3': 'sandwich', '102978_387648_3': 'sandwich', '526904_536044_1': 'tv', '34015_163433_4': 'ball', '221932_597832_3': 'sandwich', '221932_599359_3': 'sandwich', '221932_599479_3': 'sandwich', '221932_600793_3': 'sandwich', '500565_403779_2': 'clock', '395701_639913_1': 'couch', '395701_640495_2': 'apple', '395701_641968_2': 'apple', '395701_644236_1': 'couch', '195542_376370_14': 'keyboard', '195542_377042_7': 'cup', '195542_377165_1': 'tv', '195542_380828_14': 'keyboard', '195542_382532_7': 'laptop', '569274_673052_3': 'bed', '569274_674510_1': 'chair', '569274_682469_3': 'bed', '375232_509289_5': 'tv', '375232_548568_4': 'bed', '334609_12999_2': 'laptop', '166889_415768_2': 'laptop', '166889_415801_2': 'laptop', '400528_186099_3': 'table', '160345_39685_2': 'clock', '160345_40354_2': 'clock', '160345_41695_1': 'clock', '160345_42253_2': 'clock', '160345_44986_2': 'clock', '295303_147191_7': 'pizza', '295303_148490_7': 'pizza', '295303_155165_3': 'table', '59547_702539_5': 'broccoli', '59547_707828_5': 'broccoli', '59547_709946_5': 'broccoli', '59547_712226_7': 'pizza', '538319_63453_11': 'snowboard', '452695_794434_11': 'sink', '293148_669932_5': 'spoon', '88634_135370_1': 'microwave', '88634_142495_5': 'microwave', '195042_757296_12': 'glass', '195042_767233_4': 'refrigerator', '504074_764059_1': 'tv', '504074_766240_1': 'tv', '454129_729620_3': 'airplane', '296056_739872_3': 'remote', '296056_741969_1': 'bird', '296056_826208_7': 'bear', '296056_826292_9': 'giraffe', '512334_98022_6': 'truck', '512334_100152_6': 'truck', '545867_487766_5': 'cow', '545867_492356_5': 'cow', '545867_820179_5': 'cow', '561393_490739_2': 'dog', '561393_493523_2': 'dog', '56646_399690_2': 'dog', '56646_400560_15': 'couch', '56646_513147_2': 'dog', '56646_520566_2': 'dog', '371176_564662_15': 'truck', '371176_567962_7': 'truck', '524536_221341_3': 'handbag', '524536_264511_3': 'handbag', '524536_268492_4': 'suitcase', '513096_810046_1': 'chair', '513096_816320_4': 'suitcase', '182541_66616_7': 'truck', '182541_69943_7': 'truck', '182541_71500_7': 'truck', '182541_73711_4': 'airplane', '456525_388514_1': 'couch', '456525_389033_1': 'couch', '561979_103831_1': 'bird', '561979_113251_1': 'bird', '548420_521228_4': 'horse', '548420_521642_4': 'horse', '548420_522674_4': 'horse', '548420_524456_4': 'horse', '548420_525932_4': 'horse', '559656_512948_2': 'car', '449560_617113_10': 'frisbee', '449560_617125_10': 'frisbee', '284772_306605_7': 'bear', '284772_308927_9': 'giraffe', '284772_310841_7': 'bear', '200961_148563_3': 'ball', '17089_677188_9': 'giraffe', '29138_221303_2': 'snowboard', '427111_99134_4': 'airplane', '81274_398983_2': 'glass', '415613_50108_12': 'airplane', '415613_53162_9': 'bottle', '517737_646968_2': 'snowboard', '517737_648288_2': 'snowboard', '520892_738563_1': 'bird', '411472_622535_6': 'bat', '411472_623981_5': 'kite', '411472_626720_1': 'frisbee', '41990_392438_2': 'snowboard', '41990_394766_2': 'snowboard', '365103_396471_6': 'pizza', '365103_397479_6': 'pizza', '365103_398913_6': 'pizza', '127170_144527_11': 'fork', '127170_150719_3': 'bed', '25751_10597_1': 'chair', '577864_635542_7': 'skateboard', '577864_640615_2': 'apple', '577864_640957_7': 'skateboard', '577864_644146_7': 'skateboard', '506115_83047_3': 'motorcycle', '8832_759367_3': 'bed', '8832_762886_3': 'bed', '8832_763591_3': 'bed', '8832_763789_3': 'bed', '577995_471545_3': 'table', '577995_474059_2': 'couch', '577995_475025_2': 'couch', '577995_475628_3': 'table', '287328_162927_2': 'couch', '287328_173268_2': 'couch', '287328_177228_2': 'couch', '287328_177843_2': 'couch', '345252_543403_1': 'tv', '306186_285706_9': 'racket', '306186_405937_9': 'racket', '306186_407161_9': 'racket', '22861_440024_3': 'sandwich', '22861_442151_12': 'fork', '22861_445697_3': 'sandwich', '569059_277690_7': 'laptop', '569059_403507_3': 'table', '404984_400987_2': 'dog', '404984_514165_3': 'horse', '370279_241551_1': 'tv', '118237_181421_1': 'couch', '140332_415136_2': 'laptop', '140332_415835_2': 'laptop', '31773_504856_9': 'keyboard', '31773_507340_2': 'mouse', '31773_510724_2': 'mouse', '74704_334696_4': 'ball', '74704_337723_4': 'ball', '74704_337882_15': 'glove', '161447_690469_3': 'sandwich', '161447_696808_3': 'bed', '161447_697225_3': 'sandwich', '342650_321758_3': 'sandwich', '342650_322508_3': 'sandwich', '342650_322799_3': 'sandwich', '342650_323867_3': 'sandwich', '342650_324770_3': 'sandwich', '182362_702863_1': 'tv', '182362_704339_1': 'tv', '182362_707705_6': 'pizza', '356733_491567_2': 'couch', '356733_493130_2': 'bed', '415750_519948_2': 'laptop', '415750_526881_2': 'laptop', '303667_78171_5': 'spoon', '498747_560452_2': 'laptop', '498747_560506_2': 'laptop', '498747_564061_2': 'laptop', '444531_108948_4': 'refrigerator', '354527_742191_6': 'pizza', '354527_827284_5': 'carrot', '354527_828042_6': 'pizza', '354527_828894_6': 'pizza', '523316_771098_1': 'chair', '523316_772517_1': 'chair', '386313_88259_2': 'motorcycle', '386313_88919_2': 'motorcycle', '386313_96506_2': 'motorcycle', '224802_528804_6': 'truck', '562448_392557_3': 'motorcycle', '562448_398560_4': 'airplane', '562448_399649_3': 'motorcycle', '562448_514249_3': 'motorcycle', '269606_660605_9': 'giraffe', '524450_476830_3': 'motorcycle', '524450_480319_4': 'airplane', '524450_480646_3': 'motorcycle', '120745_773599_3': 'airplane', '72989_759806_3': 'scissors', '239260_26075_3': 'snowboard', '239260_30992_3': 'snowboard', '116825_63511_10': 'bottle', '116825_64348_16': 'chair', '116825_67819_10': 'bottle', '244925_624199_4': 'suitcase', '244925_631180_3': 'orange', '244925_632092_4': 'suitcase', '244925_637858_4': 'suitcase', '501379_748130_2': 'car', '501379_749929_2': 'car', '501379_754541_2': 'car', '501379_756764_2': 'car', '77360_533774_3': 'dog', '77360_536633_3': 'dog', '77360_538877_3': 'dog', '37119_185121_9': 'giraffe', '515247_344270_4': 'horse', '515247_348707_8': 'zebra', '515247_352076_4': 'horse', '515247_352946_7': 'bear', '368961_77586_9': 'racket', '126564_206561_3': 'tie', '126564_214982_3': 'tie', '126564_225518_1': 'backpack', '369037_543993_4': 'horse', '369037_544554_4': 'horse', '369037_547248_4': 'horse', '424374_621240_4': 'tie', '317015_24576_3': 'ball', '317015_32904_3': 'ball', '317015_33540_3': 'ball', '156192_580357_6': 'glove', '222781_200805_3': 'ball', '222781_206862_3': 'ball', '222781_208173_3': 'ball', '271424_222318_2': 'snowboard', '271424_240171_13': 'kite', '111944_443579_2': 'snowboard', '111944_450992_2': 'snowboard', '141256_201040_9': 'racket', '141256_236110_6': 'bat', '141256_821103_1': 'frisbee', '99736_164313_12': 'toilet', '99736_170502_4': 'orange', '572620_194154_1': 'frisbee', '572620_198240_1': 'frisbee', '572620_200025_6': 'bat', '121748_171175_2': 'couch', '64189_360412_5': 'kite', '190014_733449_4': 'kite', '190014_737586_5': 'bat', '190014_742749_4': 'kite', '280230_232380_3': 'bed', '280230_241515_3': 'bed', '144863_572452_1': 'bird', '144863_572554_1': 'bird', '144863_575314_7': 'bear', '275020_198593_2': 'glass', '53465_73002_7': 'pizza', '53465_78228_7': 'pizza', '197749_109924_3': 'bed', '197749_111442_3': 'bed', '212427_308781_1': 'couch', '212427_311493_6': 'laptop', '212427_312057_1': 'tv', '212427_312498_2': 'laptop', '212427_315258_2': 'laptop', '34877_219541_3': 'sandwich', '34877_228178_12': 'fork', '161877_364438_1': 'tv', '161877_366853_1': 'tv', '472930_238178_3': 'bed', '472930_241235_3': 'bed', '472930_246965_1': 'chair', '575395_534275_18': 'racket', '575395_537674_4': 'ball', '575395_539915_4': 'ball', '570848_56835_4': 'ball', '570848_61107_4': 'ball', '364016_638735_1': 'chair', '364016_641237_1': 'chair', '364016_641483_3': 'bed', '364016_643613_3': 'bed', '25386_480339_5': 'bus', '25386_488352_5': 'bus', '106712_313933_1': 'chair', '106712_316831_6': 'chair', '106712_317917_6': 'chair', '106712_318832_2': 'clock', '106712_320359_11': 'bed', '327165_477237_1': 'couch', '374593_684731_3': 'bed', '374593_689885_1': 'chair', '14821_423445_4': 'suitcase', '120810_633487_1': 'bicycle', '91617_504523_7': 'laptop', '91617_509029_7': 'table', '261999_763924_1': 'bicycle', '261999_765772_1': 'bicycle', '138083_99235_9': 'giraffe', '124798_791826_3': 'motorcycle', '124798_793680_1': 'bicycle', '111434_503720_3': 'bed', '111434_507989_11': 'pizza', '111434_544835_3': 'bed', '301494_162080_11': 'airplane', '301494_163922_5': 'train', '301494_180125_10': 'sandwich', '519088_321424_2': 'car', '519088_326008_2': 'car', '519088_330100_4': 'airplane', '204256_386633_12': 'bed', '204256_387122_2': 'laptop', '204256_390119_2': 'bed', '78026_765299_1': 'banana', '78026_766535_2': 'dog', '307932_311838_8': 'zebra', '307932_314907_7': 'bear', '377239_25151_3': 'tie', '377239_26207_1': 'backpack', '294776_508326_9': 'racket', '294776_548109_9': 'racket', '294776_549063_12': 'ball', '22801_607858_9': 'racket', '22801_610534_9': 'racket', '22801_622813_9': 'racket', '482242_489446_1': 'couch', '482242_492971_12': 'bear', '482242_493238_1': 'couch', '482242_494498_7': 'bear', '73039_231936_3': 'dog', '577853_105759_2': 'glass', '202799_116090_5': 'kite', '202799_152009_5': 'kite', '202799_175724_6': 'bat', '496887_464957_5': 'carrot', '496887_822703_5': 'carrot', '84000_135076_6': 'bat', '84000_135304_1': 'frisbee', '438907_48438_6': 'bat', '438907_48624_10': 'frisbee', '74853_118366_5': 'kite', '416885_141631_1': 'chair', '495131_781970_5': 'bat', '495131_785249_3': 'snowboard', '495131_785807_5': 'bat', '412136_79848_6': 'pizza', '412136_80889_6': 'pizza', '412136_81651_6': 'pizza', '239625_6016_3': 'sandwich', '239625_6670_3': 'sandwich', '239625_9121_3': 'sandwich', '239625_11140_3': 'sandwich', '6783_192278_5': 'kite', '364911_811784_7': 'pizza', '364911_817586_7': 'pizza', '574250_207899_2': 'couch', '574250_209591_3': 'table', '574250_212306_2': 'couch', '574250_212927_2': 'couch', '276893_421974_2': 'couch', '276893_427587_2': 'couch', '560368_679926_3': 'bed', '560368_681387_7': 'bed', '434700_411151_4': 'ball', '434700_418138_9': 'racket', '92861_465340_3': 'sandwich', '92861_469132_3': 'sandwich', '92861_469270_3': 'sandwich', '92861_469954_3': 'sandwich', '92861_471736_3': 'sandwich', '260802_548497_9': 'racket', '434898_4537_7': 'bed', '434898_8344_2': 'bed', '397151_585090_3': 'horse', '397151_587919_8': 'surfboard', '397151_591066_2': 'dog', '397151_592653_11': 'dog', '397151_593493_8': 'surfboard', '45626_505202_4': 'ball', '43670_801472_4': 'ball', '43670_811096_4': 'ball', '43670_815852_9': 'racket', '416851_277734_4': 'ball', '397636_615172_13': 'broccoli', '397636_618601_3': 'sandwich', '397636_618853_3': 'sandwich', '397636_619411_5': 'broccoli', '160330_284320_1': 'tv', '160330_287218_7': 'couch', '45687_218738_1': 'tv', '188631_305433_4': 'keyboard', '437010_564504_2': 'laptop', '260910_548507_8': 'refrigerator', '420573_285739_1': 'book', '420573_406753_1': 'book', '284764_51827_1': 'bottle', '284764_51992_1': 'chair', '147919_471119_1': 'chair', '196462_376739_2': 'glass', '196462_376820_1': 'bottle', '196462_377528_2': 'glass', '196462_384098_1': 'bottle', '541345_531860_1': 'microwave', '186036_311676_3': 'motorcycle', '186036_312081_2': 'car', '186036_312753_3': 'motorcycle', '186036_312960_2': 'couch', '532126_588863_7': 'table', '532126_592001_1': 'couch', '532126_593519_1': 'couch', '532126_594722_3': 'table', '532126_743801_1': 'couch', '204804_483753_1': 'couch', '204804_823693_3': 'table', '570834_469194_6': 'truck', '61882_575058_3': 'bed', '61882_577863_3': 'bed', '61882_582585_3': 'bed', '520326_279986_1': 'bicycle', '546378_552237_2': 'dog', '546378_555957_2': 'dog', '406841_805737_2': 'apple', '448690_343141_6': 'truck', '364322_522271_5': 'cow', '364322_526414_5': 'cow', '334675_161626_4': 'airplane', '533678_785528_9': 'zebra', '580693_563380_9': 'zebra', '580693_565822_9': 'zebra', '82846_713999_5': 'train', '82846_723809_5': 'train', '82846_725189_1': 'bicycle', '82846_725720_4': 'airplane', '82846_726311_5': 'train', '219965_737734_9': 'zebra', '219965_739114_9': 'zebra', '68036_428557_5': 'bus', '68036_432775_5': 'bus', '155356_28924_5': 'bus', '155356_33943_5': 'bus', '155356_39976_5': 'bus', '527529_462708_2': 'dog', '466007_40441_20': 'table', '466007_40807_12': 'table', '466007_41083_12': 'table', '31471_611835_3': 'dog', '31471_614112_6': 'elephant', '31471_614643_6': 'elephant', '166768_684846_4': 'suitcase', '67551_75358_4': 'horse', '67551_76468_4': 'horse', '67551_79783_4': 'horse', '31745_482527_7': 'bear', '31745_482533_1': 'bird', '31745_488818_7': 'bear', '35672_216633_11': 'bear', '35672_246834_11': 'bear', '9378_397259_2': 'snowboard', '9378_397640_2': 'snowboard', '493472_45861_2': 'snowboard', '529166_316269_3': 'ball', '529166_319518_3': 'ball', '35671_440371_3': 'dog', '35671_445987_5': 'cow', '296886_803609_3': 'dog', '296886_804674_9': 'giraffe', '308545_223492_5': 'cow', '308545_259153_5': 'cow', '308545_263152_5': 'cow', '308545_269719_3': 'dog', '454798_690772_5': 'cow', '454798_692293_5': 'cow', '454798_699730_5': 'cow', '454798_700684_5': 'cow', '264572_155680_6': 'glove', '89638_146562_5': 'knife', '89638_153516_2': 'glass', '119414_624798_7': 'pizza', '119414_626037_5': 'broccoli', '2759_200902_1': 'banana', '2759_210280_5': 'carrot', '2759_232141_9': 'chair', '361506_188780_5': 'kite', '430054_421787_1': 'frisbee', '350405_425784_4': 'kite', '350405_428763_4': 'kite', '546283_294961_7': 'bear', '546283_296296_1': 'bird', '546283_296890_7': 'bear', '95959_545389_5': 'kite', '95959_547177_3': 'snowboard', '95959_551146_9': 'racket', '352235_248070_3': 'snowboard', '352235_251199_3': 'snowboard', '10138_805888_1': 'chair', '10138_808414_7': 'pizza', '432607_393555_2': 'couch', '432607_397944_3': 'table', '432607_400797_3': 'table', '537007_9043_5': 'kite', '217827_597293_5': 'kite', '217827_599273_1': 'frisbee', '398534_781762_9': 'racket', '398534_784924_4': 'ball', '429593_490415_5': 'phone', '146120_555768_6': 'broccoli', '146120_557397_2': 'banana', '146120_560565_1': 'bottle', '413432_557988_4': 'ball', '413432_558252_4': 'ball', '66468_282580_3': 'sandwich', '367442_628427_5': 'book', '164883_147575_5': 'phone', '164883_164288_5': 'phone', '197125_33832_1': 'tv', '197125_38953_2': 'mouse', '197125_40564_1': 'tv', '484938_629214_4': 'ball', '484938_629325_4': 'ball', '484938_630504_4': 'ball', '214349_317460_5': 'broccoli', '214349_323826_5': 'broccoli', '444343_236288_1': 'couch', '13081_815892_1': 'tv', '13081_815904_1': 'tv', '13081_817095_1': 'chair', '13081_817314_1': 'tv', '20925_212852_3': 'orange', '20925_221588_1': 'tv', '542570_265710_5': 'microwave', '542570_266202_4': 'refrigerator', '465327_202135_7': 'sink', '94052_582770_7': 'bed', '94052_584636_1': 'chair', '94052_593531_1': 'chair', '20342_365114_2': 'motorcycle', '320641_142587_7': 'boat', '20671_471349_3': 'horse', '20671_478015_3': 'horse', '126657_931_2': 'car', '384007_68531_1': 'bird', '384007_70139_1': 'bird', '384007_78005_3': 'horse', '384007_78362_1': 'bird', '10014_663967_3': 'motorcycle', '92624_712678_9': 'zebra', '499615_221581_4': 'airplane', '499615_231124_4': 'airplane', '499615_234022_1': 'bicycle', '214732_359909_2': 'car', '214732_364883_2': 'car', '214732_365051_4': 'airplane', '214732_368951_4': 'airplane', '568290_105211_3': 'motorcycle', '568290_105652_4': 'airplane', '21644_166991_4': 'airplane', '144251_762152_3': 'motorcycle', '144251_770966_3': 'motorcycle', '144251_778100_3': 'motorcycle', '234785_615974_3': 'horse', '234785_616208_1': 'bird', '45959_387592_7': 'boat', '45959_390223_2': 'motorcycle', '67969_589584_1': 'cat', '67969_743985_2': 'dog', '67969_744822_1': 'cat', '67969_746688_3': 'table', '147409_738892_4': 'airplane', '147409_826873_4': 'airplane', '12731_787079_4': 'airplane', '127520_798566_12': 'train', '127520_802976_3': 'motorcycle', '532580_176153_4': 'airplane', '532580_182174_5': 'bus', '532580_195887_6': 'truck', '168811_268227_5': 'bus', '450324_548330_5': 'bus', '450324_556241_5': 'bus', '462784_192123_5': 'bus', '462784_204732_5': 'bus', '462784_208314_6': 'truck', '462784_215709_6': 'truck', '571636_330445_4': 'airplane', '571636_336325_2': 'car', '571636_340843_2': 'car', '563050_640458_3': 'horse', '563050_644121_2': 'dog', '424220_585615_16': 'bed', '424220_593850_10': 'backpack', '424220_746448_2': 'dog', '424220_748808_2': 'dog', '349888_618803_2': 'dog', '349888_618884_2': 'dog', '349888_619697_10': 'chair', '349888_620807_10': 'chair', '349888_622928_2': 'dog', '227709_144851_10': 'tv', '227709_148028_10': 'tv', '227709_149588_2': 'dog', '227709_150614_2': 'dog', '35807_196911_4': 'horse', '35807_206928_4': 'horse', '35807_223605_4': 'horse', '35807_224544_4': 'horse', '32102_456353_2': 'cup', '32102_457439_3': 'tie', '118106_147691_3': 'ball', '118106_195928_3': 'ball', '118106_223273_3': 'ball', '118106_237133_3': 'ball', '279176_243923_3': 'ball', '279176_249953_3': 'ball', '181026_803082_2': 'snowboard', '479149_100206_4': 'kite', '479149_111483_4': 'kite', '50331_588211_1': 'banana', '400886_108942_2': 'snowboard', '400886_111771_2': 'handbag', '74591_774887_1': 'chair', '209757_289009_6': 'bat', '209757_292627_6': 'bat', '209757_295057_1': 'hydrant', '247692_568085_2': 'snowboard', '547759_390179_3': 'bed', '212587_323414_3': 'horse', '212587_329633_3': 'horse', '562856_11234_11': 'carrot', '562856_818592_6': 'pizza', '443713_772756_6': 'bat', '443713_775690_1': 'frisbee', '146910_509394_3': 'horse', '146910_555252_1': 'bird', '146910_556011_3': 'horse', '146910_561600_6': 'pizza', '291251_191792_4': 'kite', '291251_204710_4': 'kite', '291251_205730_4': 'kite', '291251_223388_4': 'kite', '198635_763241_1': 'chair', '198635_769088_3': 'bed', '324638_75277_1': 'chair', '324638_82372_1': 'chair', '324638_82669_3': 'bed', '434583_617839_6': 'glove', '434583_618076_7': 'skateboard', '434583_620737_9': 'racket', '560365_670712_3': 'sandwich', '560365_672494_15': 'bottle', '560365_683480_3': 'sandwich', '429623_498301_3': 'sandwich', '429623_509683_3': 'sandwich', '429623_511594_3': 'sandwich', '429623_512230_3': 'sandwich', '429623_546706_3': 'sandwich', '31596_299598_3': 'bed', '577877_720163_3': 'remote', '237767_4155_3': 'remote', '237767_4482_3': 'remote', '237767_7710_7': 'bed', '45463_114081_14': 'sink', '45463_117537_3': 'sink', '45463_121017_3': 'sink', '431660_734984_4': 'ball', '431660_736325_4': 'ball', '521669_46295_2': 'laptop', '551241_710898_1': 'book', '551241_712302_3': 'scissors', '174345_788238_1': 'book', '511674_599788_3': 'vase', '511674_603622_3': 'vase', '511674_611344_8': 'vase', '212198_82703_4': 'horse', '212198_82865_1': 'hydrant', '212198_84224_4': 'horse', '105335_537800_5': 'knife', '297353_556099_2': 'couch', '297353_556303_2': 'couch', '297353_557143_2': 'couch', '297353_558064_2': 'couch', '321706_696848_3': 'bed', '321706_704132_8': 'refrigerator', '103134_441683_6': 'glass', '430750_16703_6': 'truck', '430750_20900_6': 'truck', '153184_2076_9': 'zebra', '153184_4731_9': 'zebra', '78982_57952_3': 'motorcycle', '78982_59701_3': 'motorcycle', '78982_61468_14': 'boat', '78982_62683_4': 'airplane', '287741_645720_6': 'cat', '287741_645966_1': 'cat', '287741_650262_1': 'cat', '94202_651411_2': 'car', '315696_540555_2': 'laptop', '388100_120826_2': 'car', '388100_126046_2': 'car', '388100_136627_3': 'motorcycle', '2290_562502_4': 'airplane', '2290_562616_7': 'truck', '2290_563093_7': 'truck', '2290_567989_7': 'truck', '5245_612770_7': 'truck', '5245_617009_4': 'horse', '93089_706911_7': 'bed', '93089_721374_7': 'tie', '390826_501779_2': 'cat', '390826_502154_4': 'horse', '390826_505184_4': 'horse', '390826_505472_1': 'bird', '190753_24198_1': 'chair', '413341_99810_11': 'bird', '413341_109602_2': 'cup', '154584_609549_4': 'horse', '154584_612720_4': 'horse', '265816_245291_5': 'cow', '3209_153534_5': 'cow', '3209_178308_5': 'cow', '3209_180114_5': 'cow', '3209_182331_5': 'cow', '216910_108596_5': 'kite', '216910_111845_5': 'kite', '216910_115196_1': 'frisbee', '283070_657249_1': 'chair', '257136_140777_2': 'snowboard', '405196_172843_2': 'glass', '39150_410124_1': 'chair', '297442_109807_5': 'kite', '297442_143977_1': 'frisbee', '407067_519602_6': 'bat', '151330_498309_9': 'racket', '268058_202405_7': 'pizza', '268058_217270_7': 'pizza', '268058_217447_7': 'pizza', '411872_124593_7': 'table', '411872_135180_2': 'couch', '122982_303571_9': 'keyboard', '122982_308773_1': 'tv', '314812_757281_2': 'laptop', '482951_434978_8': 'surfboard', '71667_605223_1': 'book', '71667_608103_1': 'book', '438721_396607_6': 'glove', '563424_748722_9': 'racket', '563424_751754_9': 'racket', '563424_752081_9': 'racket', '563424_755224_9': 'racket', '563424_761021_9': 'racket', '491464_370551_4': 'ball', '491464_372675_4': 'ball', '491464_373137_9': 'racket', '63488_610681_2': 'skis', '375915_387811_3': 'sandwich', '375915_388879_3': 'bed', '375915_389800_3': 'sandwich', '375915_391663_3': 'sandwich', '375915_395104_3': 'bed', '363432_162132_5': 'bus', '363432_167028_5': 'bus', '43218_161189_1': 'book', '43218_163439_3': 'scissors', '514731_81447_1': 'bird', '192154_565335_3': 'tie', '192154_565854_3': 'tie', '302038_179079_3': 'bed', '302038_186036_1': 'chair', '402346_205766_5': 'knife', '402346_214412_5': 'knife', '93604_561787_1': 'microwave', '205577_11933_12': 'refrigerator', '205577_820256_7': 'sink', '80219_341312_4': 'refrigerator', '80219_343367_3': 'toaster', '80219_350321_3': 'toaster', '80219_356576_4': 'refrigerator', '25972_129887_2': 'motorcycle', '25972_150107_6': 'motorcycle', '25972_167327_2': 'bed', '25972_170771_6': 'motorcycle', '27519_332466_3': 'horse', '27519_347724_3': 'horse', '120566_749568_3': 'bed', '491213_353773_8': 'bicycle', '469192_21608_1': 'bicycle', '469192_23321_2': 'car', '469192_23795_2': 'car', '469192_25514_3': 'motorcycle', '523217_712620_7': 'pizza', '523217_712692_7': 'pizza', '523217_713352_7': 'pizza', '523217_715452_7': 'pizza', '195113_657268_10': 'glass', '195113_658390_2': 'apple', '485390_547636_5': 'cow', '369482_775904_5': 'bus', '90020_25273_1': 'bicycle', '260275_289842_5': 'train', '260275_291189_5': 'train', '260275_298089_5': 'train', '269942_278702_5': 'train', '40620_584473_3': 'motorcycle', '40620_587266_1': 'bicycle', '40620_589147_3': 'motorcycle', '40620_589414_3': 'motorcycle', '361123_114119_2': 'cat', '361123_124202_5': 'cow', '361123_125669_5': 'cow', '1584_732292_4': 'airplane', '1584_733372_1': 'bicycle', '1584_733993_3': 'motorcycle', '1584_819774_1': 'bicycle', '372501_628376_5': 'cow', '372501_628400_5': 'cow', '372501_629609_5': 'cow', '354229_468834_1': 'bicycle', '354229_474792_3': 'motorcycle', '445014_497605_4': 'horse', '445014_499075_4': 'horse', '445014_501481_9': 'zebra', '500717_610002_5': 'bus', '500717_613530_5': 'bus', '500717_620274_5': 'bus', '500717_622839_12': 'bus', '318911_636360_5': 'cow', '318911_639498_5': 'cow', '318911_640881_5': 'cow', '318911_644997_5': 'cow', '318911_645396_5': 'cow', '460229_530770_2': 'car', '460229_532018_5': 'train', '460229_539197_2': 'car', '334125_309405_8': 'suitcase', '156889_357323_3': 'motorcycle', '156889_357560_3': 'motorcycle', '156889_358520_3': 'motorcycle', '377577_116585_3': 'tie', '377577_134393_1': 'backpack', '457907_148092_4': 'horse', '457907_155718_4': 'horse', '457907_162177_4': 'horse', '512442_662303_1': 'bottle', '512442_664943_4': 'horse', '512442_665270_10': 'bottle', '512442_665612_4': 'horse', '392905_121415_4': 'horse', '392905_139262_7': 'bear', '392905_144689_7': 'bear', '392905_145388_7': 'bear', '574208_524966_3': 'horse', '574208_525242_12': 'ball', '574208_525578_7': 'bear', '574208_526094_7': 'bear', '574208_529031_3': 'horse', '239943_122669_9': 'giraffe', '479762_519420_9': 'giraffe', '305404_21057_5': 'cow', '305404_22044_5': 'cow', '305404_22101_5': 'cow', '450577_99635_5': 'cow', '450577_99833_5': 'cow', '451879_475764_6': 'glove', '451879_819965_6': 'glove', '258023_319661_2': 'snowboard', '30198_688620_5': 'kite', '30198_689028_5': 'kite', '30198_689493_5': 'kite', '30198_697146_5': 'kite', '390463_588788_2': 'glass', '318455_249967_3': 'bed', '318455_250429_7': 'pizza', '318455_250435_3': 'bed', '318455_256138_7': 'pizza', '379502_192605_3': 'sandwich', '321332_272392_5': 'banana', '321332_273943_3': 'bed', '321332_275050_10': 'cup', '321332_277921_3': 'sandwich', '11198_351538_5': 'broccoli', '11198_352030_3': 'sandwich', '513041_193986_3': 'sandwich', '513041_207465_3': 'sandwich', '513041_212955_5': 'broccoli', '513041_217377_3': 'sandwich', '477112_737811_3': 'remote', '389308_226546_2': 'couch', '193108_367327_4': 'ball', '528201_706801_4': 'ball', '348481_386734_9': 'keyboard', '348481_391780_1': 'tv', '490871_214880_14': 'apple', '490871_250955_2': 'sandwich', '191577_108639_5': 'keyboard', '191577_140685_2': 'laptop', '362869_71218_2': 'laptop', '362869_71464_2': 'laptop', '335085_288469_1': 'microwave', '386257_46697_1': 'book', '386257_48872_3': 'scissors', '386257_51740_8': 'bed', '386257_54446_3': 'scissors', '386257_56003_3': 'scissors', '301449_574840_2': 'cup', '301449_576166_12': 'cup', '437541_448828_2': 'cup', '437541_450343_8': 'cup', '437541_453961_9': 'fork', '437541_457780_2': 'cup', '437541_457966_8': 'cup', '514915_533277_1': 'bird', '514915_534039_7': 'bear', '514915_535608_7': 'bear', '514915_539493_3': 'horse', '514915_543561_3': 'horse', '577946_162922_6': 'glass', '352000_106285_2': 'glass', '453785_810214_3': 'bed', '114790_462149_2': 'clock', '307993_39888_19': 'bear', '307993_51732_14': 'bear', '307993_51786_14': 'bear', '203705_460707_2': 'mouse', '225184_668070_10': 'bird', '225184_668358_10': 'bird', '441553_169064_5': 'bus', '441553_181874_5': 'bus', '388926_771109_3': 'motorcycle', '388926_777457_4': 'airplane', '388926_778006_4': 'airplane', '65455_97754_4': 'horse', '532530_280255_4': 'airplane', '312866_733855_5': 'bus', '312866_735520_12': 'train', '312866_740953_5': 'bus', '354368_208268_3': 'motorcycle', '377946_89465_12': 'train', '377946_90389_2': 'car', '377946_92642_2': 'car', '23656_767405_10': 'couch', '23656_772370_2': 'dog', '23656_772913_3': 'table', '331447_544982_2': 'car', '331447_547985_10': 'car', '546773_235160_1': 'backpack', '546773_242522_3': 'tie', '229150_718511_4': 'horse', '229150_718625_4': 'horse', '229150_719363_4': 'horse', '229150_722240_4': 'horse', '193407_651070_1': 'backpack', '193407_656074_1': 'backpack', '193407_656776_1': 'backpack', '193407_657166_1': 'backpack', '248206_255025_12': 'horse', '248206_263902_1': 'bird', '248206_266635_1': 'bird', '248206_268858_1': 'bird', '248206_268876_1': 'bird', '228309_426699_2': 'couch', '228309_428679_2': 'bed', '228309_436992_11': 'bed', '251816_315440_9': 'giraffe', '251816_326777_9': 'giraffe', '251816_329930_9': 'giraffe', '30465_364807_5': 'cow', '30465_365443_5': 'cow', '30465_366352_5': 'cow', '30465_370156_5': 'cow', '21979_158988_4': 'kite', '209930_494233_3': 'remote', '211243_217760_3': 'fork', '211243_233573_3': 'fork', '211243_235622_6': 'bowl', '211243_235886_2': 'cup', '339266_346279_3': 'bed', '339266_347053_1': 'chair', '339266_348931_3': 'mouse', '451391_333699_1': 'chair', '292033_725751_2': 'glass', '186788_445721_1': 'frisbee', '186788_450818_1': 'frisbee', '186788_450887_1': 'frisbee', '546932_721824_1': 'bottle', '546932_728325_7': 'chair', '546932_731196_2': 'glass', '97958_131807_6': 'pizza', '97958_137075_6': 'pizza', '449312_499809_7': 'pizza', '449312_509247_2': 'cup', '466960_112892_3': 'bed', '466960_117182_1': 'chair', '466960_118853_1': 'chair', '305576_100134_1': 'tv', '305576_104583_8': 'table', '207027_176182_9': 'racket', '442809_545081_6': 'bowl', '442809_550898_2': 'cup', '442809_552629_6': 'bowl', '214958_559882_5': 'kite', '214958_563539_5': 'kite', '262162_771056_1': 'couch', '262162_771362_1': 'couch', '262162_773186_2': 'couch', '533097_674975_10': 'cup', '533097_675695_3': 'sandwich', '533097_678626_10': 'cup', '533097_678770_3': 'sandwich', '533097_681167_3': 'sandwich', '189811_719153_3': 'sandwich', '189811_724556_3': 'sandwich', '189811_731351_3': 'sandwich', '146614_375848_1': 'chair', '317683_648593_1': 'chair', '183049_409714_1': 'clock', '183049_411988_1': 'clock', '558673_216109_1': 'couch', '558673_220474_3': 'remote', '116046_197761_1': 'tv', '523212_784478_2': 'bed', '523212_802253_2': 'bed', '51324_605235_9': 'airplane', '51324_610149_5': 'bus', '51324_610584_3': 'motorcycle', '182820_747328_15': 'surfboard', '182820_750651_15': 'surfboard', '182820_750819_8': 'surfboard', '566498_502937_4': 'ball', '566498_505457_4': 'ball', '62244_260287_5': 'spoon', '62244_264190_10': 'cup', '62244_267577_15': 'bottle', '294437_772550_1': 'tv', '294437_773531_1': 'tv', '294437_777839_1': 'tv', '294437_781661_1': 'tv', '30062_73227_2': 'laptop', '30062_73623_4': 'keyboard', '30062_80652_2': 'laptop', '30062_81273_7': 'laptop', '545007_663289_1': 'book', '545007_664789_2': 'cup', '545007_666610_1': 'book', '545007_668587_3': 'scissors', '432534_782396_2': 'clock', '509514_546474_2': 'bed', '509514_546927_1': 'bottle', '509514_549195_5': 'bottle', '310278_16669_2': 'laptop', '310278_27910_2': 'laptop', '557679_112658_3': 'bed', '130030_611710_3': 'bed', '130030_612802_1': 'chair', '130030_622105_3': 'bed', '130030_628579_3': 'bed', '130030_631234_3': 'bed', '528176_712418_6': 'bowl', '528176_718943_2': 'cup', '239985_18345_11': 'car', '239985_18756_11': 'car', '239985_21078_18': 'car', '468508_13526_1': 'bicycle', '468508_22514_2': 'car', '580613_193184_2': 'apple', '580613_193451_2': 'apple', '580613_194540_2': 'apple', '580613_206966_2': 'apple', '529698_313846_3': 'airplane', '529698_315382_1': 'bicycle', '568653_358962_2': 'car', '568653_363039_1': 'bicycle', '568653_368826_1': 'bicycle', '97857_550566_2': 'car', '302842_691342_3': 'couch', '36077_558882_1': 'bicycle', '36077_560838_3': 'motorcycle', '36077_562308_1': 'bicycle', '36077_562404_1': 'bicycle', '303305_305174_4': 'airplane', '303305_305639_4': 'airplane', '303305_307478_4': 'airplane', '303305_308159_4': 'airplane', '303305_309746_4': 'airplane', '542939_707478_3': 'horse', '542939_714282_3': 'horse', '542939_717051_3': 'horse', '542939_718053_3': 'horse', '539557_560940_4': 'sheep', '366714_102879_3': 'motorcycle', '366714_104148_4': 'airplane', '366714_107253_2': 'car', '366714_113442_2': 'car', '491336_509801_3': 'motorcycle', '491336_512057_2': 'car', '491336_512384_2': 'car', '491336_544511_2': 'car', '491336_548255_2': 'car', '358058_109263_5': 'phone', '150224_696901_3': 'tie', '150224_710758_3': 'tie', '150224_713665_3': 'tie', '504726_758538_4': 'airplane', '504726_764751_4': 'airplane', '312878_225088_6': 'umbrella', '312878_237619_2': 'umbrella', '312878_248053_2': 'umbrella', '136633_184586_5': 'chair', '136633_185495_1': 'backpack', '136633_197225_1': 'backpack', '462728_238896_3': 'horse', '462728_247032_10': 'bird', '462728_250164_1': 'bird', '462728_250878_7': 'bear', '33377_532445_1': 'bird', '33377_533057_1': 'frisbee', '33377_533174_1': 'frisbee', '33377_535571_1': 'bird', '509403_494605_12': 'horse', '509403_498538_3': 'horse', '509403_504766_3': 'horse', '509403_510328_1': 'bird', '360512_204694_7': 'elephant', '270045_600789_14': 'cow', '42641_326178_2': 'apple', '42641_326265_10': 'apple', '493020_699445_12': 'horse', '493020_699727_3': 'horse', '4498_150709_1': 'frisbee', '460454_212869_5': 'kite', '460454_246775_5': 'kite', '460454_260047_6': 'bat', '460454_823239_6': 'bat', '82468_695667_1': 'chair', '5644_340836_1': 'frisbee', '103628_141246_6': 'pizza', '103628_147420_3': 'orange', '103628_159201_5': 'carrot', '419848_308814_14': 'knife', '419848_311301_1': 'bird', '419848_315249_1': 'bird', '471394_392444_6': 'cup', '471394_395426_6': 'pizza', '471394_515852_6': 'cup', '565227_202337_6': 'pizza', '565227_212777_6': 'pizza', '565227_218804_6': 'pizza', '565227_223880_5': 'carrot', '565227_226289_6': 'pizza', '402711_615982_5': 'kite', '402711_618604_5': 'kite', '402711_619057_5': 'kite', '167593_671324_5': 'kite', '167593_672101_5': 'kite', '167593_676316_5': 'kite', '406723_689399_5': 'kite', '406723_697583_3': 'snowboard', '16733_597278_3': 'sandwich', '16733_599216_3': 'sandwich', '256879_614946_3': 'table', '256879_615933_4': 'ball', '450790_478396_3': 'sandwich', '450790_489631_3': 'sandwich', '450790_489730_3': 'sandwich', '450790_823449_3': 'sandwich', '304815_545703_4': 'keyboard', '304815_554967_4': 'keyboard', '304815_555420_4': 'keyboard', '419601_817506_1': 'couch', '43939_196552_3': 'sandwich', '43939_201925_17': 'keyboard', '43939_204013_3': 'bed', '472164_120799_3': 'sandwich', '72004_82279_1': 'microwave', '72004_86506_2': 'toaster', '215778_604852_7': 'laptop', '215778_612331_1': 'tv', '249825_599596_2': 'laptop', '249825_612490_6': 'laptop', '311879_721926_1': 'microwave', '311879_728568_1': 'microwave', '17899_581162_3': 'bed', '17899_586913_3': 'bed', '529344_676811_5': 'cow', '278550_521784_1': 'bird', '278550_522894_11': 'car', '47121_521387_2': 'dog', '47121_522350_2': 'dog', '47121_523127_2': 'dog', '47121_523925_2': 'dog', '47121_523940_2': 'dog', '19608_517365_7': 'boat', '131581_694333_6': 'truck', '131581_699313_5': 'bus', '68078_748284_3': 'horse', '68078_748569_3': 'horse', '68078_751614_3': 'horse', '148591_576366_3': 'bed', '148591_576834_4': 'table', '148591_581430_2': 'glass', '267112_762614_1': 'bicycle', '292526_273691_1': 'bicycle', '292526_276343_1': 'bicycle', '234938_542729_2': 'chair', '77351_84248_3': 'motorcycle', '370709_650507_5': 'cow', '370709_658145_5': 'cow', '370709_662951_5': 'cow', '171970_65016_3': 'motorcycle', '171970_68880_2': 'car', '171970_74367_2': 'car', '284488_282665_2': 'dog', '284488_402107_2': 'dog', '284488_403745_2': 'dog', '284488_404429_9': 'giraffe', '380834_345287_4': 'airplane', '380834_349799_4': 'airplane', '380834_352739_4': 'airplane', '516727_412296_4': 'airplane', '166979_136833_4': 'airplane', '166979_144276_4': 'airplane', '166979_156258_4': 'airplane', '160772_440282_7': 'truck', '160772_444929_4': 'airplane', '412899_775799_7': 'bear', '412899_775946_4': 'horse', '412899_786737_4': 'horse', '441543_597459_3': 'tie', '441543_601206_3': 'tie', '441543_603765_3': 'tie', '441543_604209_3': 'tie', '460783_675169_7': 'bear', '460783_678283_10': 'bottle', '148193_190069_5': 'bird', '148193_192961_1': 'bird', '153520_284272_2': 'snowboard', '153520_286789_2': 'snowboard', '153520_406900_2': 'snowboard', '227781_310091_2': 'motorcycle', '227781_312755_1': 'chair', '375376_175513_9': 'giraffe', '375376_176158_9': 'giraffe', '375376_223735_9': 'giraffe', '94513_767354_5': 'cow', '94513_774926_14': 'cow', '183155_29906_5': 'cow', '183155_37256_5': 'cow', '183155_44642_5': 'cow', '445512_369276_5': 'cow', '445512_376611_5': 'cow', '40341_335355_2': 'snowboard', '40341_336975_2': 'snowboard', '40341_342369_2': 'snowboard', '40341_342654_2': 'snowboard', '93985_801001_6': 'bat', '93985_803623_7': 'skateboard', '374162_245685_5': 'knife', '374162_251928_5': 'knife', '446983_550119_1': 'backpack', '316700_812634_6': 'pizza', '51335_322689_1': 'chair', '453283_417873_2': 'cup', '453283_420906_10': 'pizza', '453283_421041_6': 'pizza', '516173_124255_3': 'snowboard', '516173_127483_5': 'kite', '516173_180373_5': 'kite', '533227_783903_5': 'kite', '448535_125162_7': 'pizza', '448535_152462_3': 'bed', '373655_624269_3': 'table', '373655_630224_5': 'couch', '373655_637724_3': 'table', '311435_497480_18': 'racket', '311435_500804_9': 'racket', '30403_277945_18': 'racket', '30403_280816_9': 'racket', '192306_361548_7': 'glove', '255315_742039_1': 'chair', '574977_169192_6': 'glove', '141271_365874_4': 'ball', '141271_369237_13': 'ball', '290282_442480_4': 'ball', '290282_450259_18': 'racket', '129663_785812_9': 'racket', '69884_779936_3': 'bed', '69884_784175_1': 'chair', '69884_784988_1': 'chair', '578675_452979_2': 'laptop', '578675_819602_2': 'laptop', '294032_322616_1': 'chair', '294032_332033_2': 'laptop', '277479_688381_1': 'microwave', '277479_696937_1': 'microwave', '393277_16357_1': 'bicycle', '393277_18076_1': 'bicycle', '2839_701788_1': 'bird', '435384_393808_2': 'cup', '286813_400543_1': 'bicycle', '286813_521953_5': 'cow', '268224_10682_3': 'sandwich', '268224_20513_3': 'sandwich', '218026_961_5': 'cow', '141795_344681_3': 'bed', '141795_351014_3': 'bed', '141795_354398_4': 'refrigerator', '141795_357401_4': 'refrigerator', '564132_614576_2': 'motorcycle', '564132_621548_2': 'car', '191990_384840_1': 'bicycle', '434371_313367_3': 'remote', '132689_244158_1': 'chair', '132689_252771_1': 'backpack', '438364_387527_3': 'motorcycle', '438364_389027_4': 'airplane', '438364_392351_1': 'bicycle', '438364_394955_3': 'motorcycle', '274947_393110_10': 'motorcycle', '125524_263327_1': 'bicycle', '125524_265751_4': 'airplane', '125524_268814_2': 'bicycle', '381368_656592_2': 'dog', '381368_661692_2': 'dog', '381368_661836_15': 'elephant', '5278_671364_5': 'bus', '5278_674034_5': 'bus', '5278_680178_5': 'bus', '438220_501344_13': 'bus', '438220_504632_5': 'bus', '438220_507185_5': 'bus', '567708_183284_2': 'motorcycle', '567708_202517_2': 'motorcycle', '235399_124126_3': 'horse', '235399_128113_2': 'car', '235399_131206_12': 'motorcycle', '235399_131407_3': 'horse', '235399_139198_11': 'car', '158182_346094_7': 'truck', '158182_351599_7': 'truck', '158182_353138_3': 'motorcycle', '158182_357674_7': 'truck', '254926_519163_2': 'apple', '254926_522040_8': 'cake', '254926_523792_8': 'cake', '136440_170737_1': 'chair', '404517_360476_12': 'horse', '404517_364055_12': 'horse', '404517_364637_16': 'bear', '404517_365363_16': 'bear', '404517_366482_12': 'horse', '276260_219915_14': 'cow', '276260_222126_14': 'cow', '276260_227667_14': 'cow', '204067_638673_4': 'ball', '562229_662147_1': 'frisbee', '562229_664472_5': 'kite', '562229_670304_1': 'frisbee', '313916_263965_2': 'snowboard', '313916_267829_2': 'snowboard', '174062_385241_5': 'kite', '188616_406302_3': 'bed', '188616_406707_3': 'bed', '448600_127743_7': 'pizza', '448600_130008_7': 'pizza', '368836_571405_4': 'ball', '277326_326948_4': 'ball', '277326_329477_9': 'racket', '259497_349365_1': 'tv', '485307_318757_2': 'bed', '485307_328627_7': 'bed', '485307_330178_1': 'tv', '15660_500200_5': 'kite', '517081_90243_1': 'chair', '517081_95145_2': 'apple', '517081_95523_6': 'chair', '52413_471782_5': 'keyboard', '513280_481254_2': 'clock', '513280_481782_2': 'clock', '513280_485412_2': 'clock', '12669_567244_2': 'cup', '12669_570367_2': 'cup', '12669_577771_2': 'cup', '534829_814382_3': 'horse', '353817_636381_3': 'sink', '353817_636990_3': 'sink', '353817_637278_3': 'sink', '14635_739213_3': 'bed', '14635_739546_3': 'bed', '14635_739954_5': 'couch', '14635_743281_1': 'chair', '180718_285189_5': 'spoon', '180718_286803_5': 'spoon', '180718_403662_1': 'bottle', '180718_404544_5': 'spoon', '180718_409503_5': 'spoon', '517548_140308_3': 'toaster', '89999_521831_1': 'bicycle', '89999_527741_1': 'bicycle', '162249_152055_5': 'phone', '96351_572672_3': 'motorcycle', '96351_575669_1': 'frisbee', '96351_576089_9': 'racket', '196490_450651_1': 'bicycle', '196490_458292_1': 'bicycle', '443835_122069_7': 'truck', '443835_166763_7': 'truck', '497127_738216_1': 'bicycle', '497127_740097_1': 'bicycle', '497127_742692_1': 'bicycle', '366179_778268_1': 'bicycle', '366179_781775_3': 'motorcycle', '129187_623726_1': 'bird', '129187_626687_1': 'bird', '129187_629243_1': 'bird', '129187_629435_2': 'bird', '557163_659900_4': 'airplane', '486912_806210_1': 'bicycle', '486912_810824_5': 'bus', '486912_811184_1': 'bicycle', '368663_586945_3': 'airplane', '368663_592717_3': 'airplane', '105179_167829_5': 'bus', '105179_171663_5': 'bus', '105179_173763_5': 'bus', '105179_175911_5': 'bus', '105179_182727_5': 'bus', '444777_719597_2': 'couch', '132683_380450_6': 'truck', '132683_388775_5': 'bus', '435069_572398_1': 'bird', '435069_573799_1': 'bird', '435069_579646_3': 'horse', '435069_582295_1': 'bird', '138730_312534_4': 'airplane', '138730_317331_2': 'car', '138730_318621_2': 'car', '535094_400607_2': 'cup', '535094_521672_3': 'dog', '458223_160239_7': 'boat', '458223_179028_7': 'boat', '549351_155826_5': 'chair', '75932_582511_4': 'airplane', '75932_589198_4': 'airplane', '75932_591571_4': 'airplane', '281754_603444_1': 'backpack', '281754_604791_3': 'tie', '52637_658550_18': 'carrot', '52637_662915_14': 'carrot', '52637_668882_1': 'bird', '471335_506070_1': 'bird', '471335_509514_3': 'horse', '360611_570746_2': 'car', '283940_6502_2': 'laptop', '283940_6910_12': 'remote', '283940_15586_2': 'laptop', '283940_16945_3': 'remote', '124760_278953_5': 'cow', '124760_282565_5': 'cow', '124760_285745_5': 'cow', '174123_560512_3': 'cup', '174123_561829_18': 'fork', '174123_562624_4': 'fork', '174123_562945_3': 'sandwich', '174123_564598_3': 'sandwich', '84442_798672_3': 'bed', '84442_805467_5': 'carrot', '48358_359632_1': 'chair', '434746_153124_1': 'frisbee', '434746_158257_6': 'bat', '434746_167059_1': 'frisbee', '467435_512473_6': 'bat', '461255_512640_5': 'kite', '461255_585921_1': 'frisbee', '461255_589923_5': 'kite', '461255_590424_5': 'kite', '293057_306746_4': 'kite', '293057_311258_4': 'kite', '357279_263909_5': 'bat', '95297_678575_3': 'sandwich', '95297_679121_3': 'sandwich', '95297_692147_3': 'sandwich', '223289_752876_6': 'pizza', '223289_755176_6': 'pizza', '223289_755395_6': 'pizza', '106046_168736_11': 'pizza', '106046_179077_1': 'chair', '106046_186034_3': 'bed', '425609_658708_3': 'bed', '233790_765092_3': 'sandwich', '233790_765950_11': 'cup', '233790_769199_12': 'fork', '233790_771542_3': 'sandwich', '139_376968_3': 'bed', '139_382074_3': 'bed', '428241_34660_9': 'racket', '428241_35476_18': 'racket', '428241_36586_9': 'racket', '494154_667005_2': 'clock', '299785_620120_4': 'keyboard', '299785_621803_3': 'bed', '299785_622334_9': 'keyboard', '109894_159457_1': 'book', '109894_162943_1': 'book', '109894_171829_3': 'scissors', '109894_182983_1': 'book', '457616_313988_4': 'ball', '457616_314690_4': 'ball', '457616_318875_4': 'ball', '457616_319832_4': 'ball', '363461_948_3': 'table', '363461_3282_6': 'couch', '363461_11952_3': 'table', '160192_586687_3': 'bed', '366367_718913_2': 'laptop', '366367_723032_2': 'laptop', '366367_727706_2': 'laptop', '63796_218596_6': 'chair', '63796_236872_6': 'chair', '63796_242230_1': 'chair', '566450_352331_1': 'microwave', '138970_93715_1': 'microwave', '138970_95791_1': 'microwave', '138970_108871_1': 'microwave', '285302_283606_3': 'vase', '285302_286459_3': 'bed', '482436_426642_2': 'car', '368349_62787_3': 'bed', '368349_63099_4': 'table', '569729_476306_3': 'horse', '569729_481973_7': 'bear', '569729_484325_7': 'bear', '569729_486701_3': 'horse', '569729_821780_7': 'bear', '77811_145973_5': 'train', '77811_156074_5': 'train', '77811_156122_4': 'keyboard', '299887_681999_1': 'bicycle', '299887_685662_1': 'bicycle', '252610_652728_3': 'bed', '256192_789279_2': 'car', '256192_795711_1': 'bicycle', '310564_200572_2': 'chair', '310564_202759_8': 'table', '430467_702397_3': 'motorcycle', '430467_704200_1': 'bicycle', '430467_705169_3': 'motorcycle', '430467_705751_3': 'motorcycle', '430467_706798_3': 'motorcycle', '220339_324734_5': 'bus', '220339_326750_5': 'bus', '220339_329267_13': 'bus', '220339_329681_5': 'bus', '337194_676878_2': 'dog', '337194_687570_2': 'dog', '208044_452735_3': 'handbag', '537620_793358_2': 'laptop', '298699_434197_4': 'airplane', '153061_12476_5': 'train', '153061_18185_4': 'airplane', '153061_819682_12': 'train', '434996_312355_2': 'dog', '434996_315310_2': 'couch', '497660_394030_3': 'motorcycle', '497660_395491_6': 'truck', '497660_398032_3': 'motorcycle', '497660_398923_4': 'airplane', '104494_276693_2': 'dog', '104494_277392_2': 'dog', '461410_707429_11': 'couch', '461410_719045_11': 'couch', '518324_402291_11': 'mouse', '518324_402375_11': 'mouse', '518324_403848_2': 'dog', '518324_405351_2': 'dog', '119876_192135_2': 'laptop', '343963_121426_3': 'table', '343963_128044_5': 'bus', '343963_129724_1': 'backpack', '343963_130804_5': 'bus', '460683_122942_4': 'suitcase', '117704_365414_4': 'airplane', '117704_367841_4': 'airplane', '117704_368063_4': 'airplane', '412690_651013_7': 'truck', '412690_652279_4': 'airplane', '277812_778572_3': 'tie', '277812_784077_3': 'tie', '230585_747512_3': 'ball', '230585_747866_3': 'ball', '230585_755402_3': 'ball', '539453_780126_3': 'ball', '173693_169447_5': 'cow', '173693_175768_12': 'dog', '533329_353725_2': 'glass', '533329_357982_2': 'glass', '533329_360550_5': 'knife', '153205_581886_2': 'snowboard', '153205_582102_2': 'snowboard', '153205_590928_2': 'snowboard', '132219_489239_4': 'broccoli', '132219_491843_6': 'glove', '95417_408094_5': 'kite', '95417_421534_9': 'racket', '143440_381491_4': 'kite', '143440_382649_4': 'kite', '54517_533153_10': 'cup', '54517_535490_6': 'pizza', '22213_587441_7': 'truck', '512989_669052_16': 'fork', '110449_594315_3': 'bed', '110449_744987_3': 'remote', '110449_753025_3': 'bed', '300413_516410_11': 'bed', '107239_234974_5': 'broccoli', '107239_238655_5': 'broccoli', '107239_241418_3': 'bed', '181576_222178_1': 'chair', '181576_238573_3': 'sandwich', '181576_249799_14': 'bowl', '413805_465372_2': 'mouse', '413805_465867_1': 'tv', '413805_471621_2': 'mouse', '56433_305584_3': 'table', '56433_308128_7': 'laptop', '526368_450963_6': 'chair', '526368_451329_6': 'chair', '526368_453687_1': 'tv', '46924_8311_8': 'cake', '46924_9910_3': 'orange', '300577_304958_1': 'chair', '300577_306263_1': 'chair', '559101_760176_3': 'airplane', '226762_107216_10': 'bus', '226762_128057_2': 'laptop', '329261_585814_2': 'laptop', '329261_586111_2': 'laptop', '329261_592453_2': 'laptop', '329261_592564_2': 'laptop', '273698_557165_3': 'bed', '217397_662616_2': 'laptop', '217397_680487_5': 'keyboard', '360073_192037_1': 'chair', '360073_239137_1': 'chair', '26051_302076_3': 'bed', '563542_609880_5': 'train', '563542_610126_5': 'train', '563542_610897_5': 'train', '563542_613807_5': 'train', '563542_620263_5': 'train', '168890_628976_1': 'bicycle', '168890_629432_1': 'bicycle', '184773_227297_3': 'orange', '184773_238634_1': 'bottle', '241037_504240_9': 'giraffe', '241037_504573_9': 'giraffe', '241037_504576_4': 'horse', '241037_506181_9': 'giraffe', '430238_646042_1': 'cat', '430238_652543_15': 'bowl', '7149_248723_5': 'cow', '7149_249164_5': 'cow', '368565_565189_2': 'bed', '368565_565459_2': 'bed', '303550_1188_2': 'dog', '303550_2571_11': 'couch', '303550_3486_2': 'dog', '398440_380259_9': 'giraffe', '398440_382581_9': 'giraffe', '398440_388617_3': 'horse', '398440_391401_3': 'horse', '156372_321596_1': 'couch', '156372_322694_3': 'table', '156372_323192_3': 'table', '481028_557171_10': 'couch', '481028_558989_10': 'couch', '481028_561869_19': 'couch', '481028_562895_2': 'dog', '100428_706566_4': 'suitcase', '38092_407620_8': 'zebra', '409100_567044_4': 'suitcase', '463454_1293_1': 'hydrant', '463454_1863_3': 'tie', '463454_2112_3': 'tie', '463454_3870_3': 'tie', '71361_62718_4': 'horse', '71361_65559_16': 'bear', '71361_65646_4': 'horse', '71361_67920_7': 'bear', '273323_45707_4': 'airplane', '273323_47906_4': 'airplane', '273323_51971_7': 'truck', '292206_428127_2': 'umbrella', '292206_428937_2': 'umbrella', '292206_433332_2': 'umbrella', '485799_197441_1': 'backpack', '485799_231287_1': 'backpack', '214306_561441_7': 'bear', '214306_565683_3': 'horse', '214306_570213_3': 'horse', '214306_571206_3': 'horse', '64889_509880_3': 'ball', '64889_547599_3': 'ball', '64889_550071_3': 'ball', '64889_551016_3': 'ball', '401857_629808_6': 'glove', '215482_415814_7': 'skateboard', '135460_522923_2': 'sandwich', '559685_377615_9': 'racket', '352901_556901_5': 'carrot', '303538_759363_2': 'cup', '303538_759816_2': 'cup', '303538_760290_6': 'bat', '303538_761994_6': 'bat', '569432_669794_1': 'frisbee', '102330_350388_3': 'sandwich', '102330_350541_3': 'sandwich', '102330_350547_3': 'sandwich', '102330_353004_3': 'sandwich', '102330_353328_3': 'sandwich', '426546_814041_5': 'carrot', '426546_815279_3': 'bed', '234676_607812_5': 'kite', '234676_608817_5': 'kite', '285633_312793_3': 'bed', '285633_313036_7': 'pizza', '285633_315766_7': 'pizza', '285633_317038_3': 'sandwich', '387909_792845_3': 'table', '387909_794534_3': 'table', '167818_1849_5': 'phone', '108193_472998_3': 'bed', '108193_474003_3': 'sandwich', '108193_475800_3': 'sandwich', '108193_477948_19': 'fork', '307172_332320_3': 'sandwich', '307172_332782_3': 'sandwich', '307172_333106_3': 'sandwich', '38073_506251_4': 'refrigerator', '339890_264633_4': 'refrigerator', '339890_268119_2': 'clock', '508899_789790_2': 'dog', '508899_797977_1': 'bird', '292324_814309_7': 'table', '488151_145675_1': 'frisbee', '488151_177976_1': 'frisbee', '488151_195838_1': 'frisbee', '488151_202933_1': 'frisbee', '547617_444610_9': 'racket', '282143_541103_20': 'bowl', '282143_541922_3': 'sandwich', '282143_544379_3': 'sandwich', '282143_548219_3': 'sandwich', '380299_494283_11': 'clock', '380299_495291_2': 'cat', '380299_496566_1': 'bird', '97465_730430_5': 'keyboard', '97465_735989_2': 'laptop', '97465_740855_5': 'keyboard', '432441_440232_3': 'scissors', '432441_823344_3': 'scissors', '86468_88237_5': 'toothbrush', '86468_89470_2': 'clock', '86468_89554_5': 'toothbrush', '86468_821642_5': 'toothbrush', '431439_44862_6': 'cat', '431439_45858_3': 'vase', '431439_46875_3': 'vase', '109937_135384_3': 'cup', '576222_125633_1': 'chair', '576222_126182_3': 'bed', '576222_128420_3': 'bed', '576222_129809_1': 'chair', '578871_464425_1': 'chair', '578871_464650_2': 'glass', '578871_464656_1': 'chair', '578871_465736_11': 'knife', '578871_466945_6': 'bowl', '392637_100288_3': 'bed', '392637_102073_1': 'chair', '392637_108484_1': 'chair', '196699_474714_4': 'fork', '196699_475356_4': 'fork', '196699_475977_1': 'bottle', '82312_74768_3': 'horse', '82312_82841_3': 'horse', '480036_164636_2': 'motorcycle', '480036_164810_2': 'motorcycle', '32258_710855_3': 'bed', '32258_717206_3': 'bed', '32258_720635_3': 'bed', '226171_533558_5': 'phone', '226171_541370_19': 'mouse', '226171_541868_13': 'cup', '160927_401847_7': 'truck', '245642_719921_5': 'cow', '245642_722594_2': 'motorcycle', '230166_20889_5': 'cow', '230166_28809_5': 'cow', '230166_31488_5': 'cow', '47596_490901_4': 'airplane', '47596_498227_4': 'airplane', '47596_499496_4': 'airplane', '47596_820152_4': 'airplane', '39811_155669_3': 'motorcycle', '39811_157577_3': 'motorcycle', '39811_159083_8': 'bicycle', '183469_396017_1': 'cat', '403657_97858_3': 'motorcycle', '403657_103741_3': 'motorcycle', '157261_60922_5': 'bus', '157261_61498_5': 'bus', '157261_61654_5': 'bus', '157261_62485_5': 'bus', '76547_692748_21': 'truck', '76547_693738_1': 'chair', '236117_171910_11': 'bed', '236117_178522_2': 'dog', '367468_703020_2': 'dog', '367468_703449_2': 'dog', '367468_705834_2': 'dog', '367468_712623_2': 'dog', '142454_818531_4': 'refrigerator', '533156_571744_12': 'table', '533156_571990_12': 'table', '533156_572659_12': 'table', '533156_572668_19': 'chair', '533156_574045_15': 'mouse', '544278_370236_4': 'suitcase', '544278_376470_4': 'suitcase', '92416_87331_2': 'cup', '92416_94105_2': 'cup', '526103_605259_7': 'bear', '81061_505335_6': 'bed', '81061_510843_4': 'toilet', '197685_527925_4': 'airplane', '197685_528243_4': 'airplane', '197685_529626_4': 'airplane', '385669_796085_1': 'backpack', '385669_796973_3': 'tie', '385669_797027_3': 'tie', '385669_801914_3': 'tie', '504697_538203_1': 'bird', '504697_538788_3': 'horse', '44524_584893_9': 'giraffe', '44524_592009_9': 'giraffe', '138086_340929_7': 'sandwich', '138086_348963_3': 'bed', '375341_790228_1': 'bird', '375341_793096_6': 'pizza', '375341_793384_1': 'bird', '82449_264648_1': 'bird', '298138_688172_6': 'pizza', '419117_267088_3': 'bed', '419117_407482_5': 'carrot', '419117_408307_5': 'carrot', '30998_298695_1': 'chair', '293072_90632_7': 'pizza', '293072_94442_7': 'pizza', '293072_95267_7': 'pizza', '293072_97769_11': 'pizza', '278134_442607_2': 'bed', '121677_471425_7': 'pizza', '121677_474647_7': 'pizza', '121677_475835_7': 'pizza', '121677_481094_7': 'pizza', '177213_37089_3': 'sandwich', '177213_37473_3': 'sandwich', '177213_38259_3': 'sandwich', '177213_42390_9': 'bottle', '279265_342420_3': 'bed', '279265_343746_1': 'couch', '279265_350820_2': 'bed', '131335_378656_3': 'scissors', '131335_378953_1': 'book', '131335_379229_1': 'book', '131335_381350_1': 'book', '515214_645105_18': 'racket', '515214_646296_18': 'racket', '515214_646494_9': 'racket', '193863_671609_4': 'ball', '231991_101855_2': 'mouse', '231991_126407_2': 'mouse', '30347_87575_1': 'tv', '30347_90677_1': 'tv', '183319_325501_3': 'fork', '183319_326233_2': 'mouse', '183319_330259_2': 'cup', '183319_332665_7': 'cup', '24385_47311_5': 'tv', '24385_47827_5': 'tv', '530061_343064_2': 'glass', '530061_344525_5': 'knife', '530061_347255_13': 'knife', '530061_349751_5': 'knife', '55155_514384_2': 'laptop', '64121_733542_1': 'microwave', '64121_734490_1': 'microwave', '64121_739653_1': 'microwave', '558671_614911_1': 'bird', '558671_615361_3': 'horse', '558671_617698_1': 'bird', '558671_620155_1': 'bird', '199404_439325_2': 'laptop', '449950_619849_2': 'glass', '406647_519471_2': 'car', '406647_525228_2': 'car', '406647_526245_2': 'car', '137595_691487_3': 'horse', '137595_692156_3': 'horse', '137595_696494_7': 'bear', '137595_697058_3': 'horse', '137595_697622_1': 'bird', '375130_304438_1': 'bicycle', '340272_445658_5': 'cow', '340272_447356_5': 'cow', '340272_447608_5': 'cow', '340272_449465_5': 'cow', '148508_56989_3': 'motorcycle', '185475_816498_1': 'bicycle', '185475_817107_4': 'airplane', '562171_611809_9': 'zebra', '562171_616912_9': 'zebra', '562171_618556_9': 'zebra', '74789_316285_5': 'bus', '74789_320563_4': 'airplane', '74789_322744_5': 'bus', '74789_326173_5': 'bus', '242734_569365_12': 'train', '362352_221576_6': 'truck', '362352_223577_6': 'truck', '362352_225047_12': 'train', '476664_288205_2': 'dog', '476664_288412_2': 'dog', '476664_288445_2': 'dog', '476664_288622_6': 'dog', '476664_288784_11': 'couch', '96288_311052_3': 'horse', '171733_784971_4': 'airplane', '171733_790020_2': 'car', '350054_701142_10': 'chair', '350054_703161_2': 'dog', '350054_703935_2': 'dog', '350054_704001_3': 'horse', '350054_705099_2': 'dog', '297085_569828_2': 'dog', '297085_574715_2': 'dog', '297085_575051_2': 'dog', '297085_575621_2': 'dog', '539775_760991_4': 'airplane', '35599_80447_6': 'pizza', '347254_134611_4': 'suitcase', '68674_473314_2': 'couch', '68674_480514_4': 'tie', '68674_819802_6': 'couch', '473720_778490_3': 'horse', '473720_780731_15': 'carrot', '473720_785318_15': 'carrot', '473720_792338_15': 'carrot', '402499_15628_9': 'racket', '402499_18058_3': 'ball', '402499_20176_3': 'ball', '123627_151615_1': 'bird', '162627_454870_5': 'cow', '162627_459682_5': 'cow', '162627_820648_5': 'cow', '346707_242575_4': 'broccoli', '346707_246190_4': 'broccoli', '324845_722428_6': 'pizza', '471814_575216_1': 'banana', '384486_214942_1': 'banana', '384486_219511_1': 'chair', '384486_224995_1': 'banana', '322175_387183_3': 'orange', '322175_388350_1': 'chair', '435475_333965_5': 'knife', '435475_337073_1': 'bottle', '104470_401594_11': 'orange', '104470_534608_6': 'pizza', '104470_534707_5': 'carrot', '104470_537251_11': 'orange', '523322_402666_5': 'tv', '514773_708745_3': 'table', '514773_711325_3': 'table', '146831_648715_1': 'frisbee', '146831_650674_1': 'frisbee', '146831_651721_1': 'frisbee', '146831_652657_5': 'kite', '356276_513589_1': 'bird', '356276_522595_15': 'glove', '151589_548173_4': 'kite', '151589_555556_4': 'kite', '151589_559144_4': 'kite', '85144_684870_2': 'snowboard', '253576_266760_6': 'glove', '570116_781113_9': 'racket', '570116_781224_7': 'skateboard', '570116_788841_9': 'racket', '570116_791250_7': 'skateboard', '452312_202489_3': 'bed', '452312_215218_6': 'pizza', '452312_216901_6': 'pizza', '452312_230653_6': 'pizza', '523033_780878_5': 'kite', '457037_221700_3': 'remote', '457037_246186_2': 'couch', '320823_267345_1': 'chair', '320823_276468_3': 'bed', '320823_276684_7': 'pizza', '165401_168142_1': 'frisbee', '165401_172306_5': 'kite', '159609_298128_9': 'racket', '159609_300606_9': 'racket', '306536_547646_3': 'bed', '405334_382242_3': 'sandwich', '516916_673555_3': 'table', '526222_665958_18': 'racket', '526222_670971_9': 'racket', '526222_671100_18': 'racket', '260618_711744_3': 'sandwich', '260618_712512_3': 'sandwich', '260618_715164_3': 'sandwich', '260618_716346_3': 'sandwich', '88983_358998_2': 'laptop', '88983_359124_2': 'laptop', '169562_373252_5': 'tv', '169562_385615_1': 'couch', '272658_740879_2': 'cup', '272658_828041_2': 'bed', '272658_828413_2': 'cup', '61101_447639_1': 'tv', '503826_734195_5': 'phone', '503826_739319_9': 'keyboard', '287035_494336_3': 'table', '305622_337324_8': 'surfboard', '305622_338590_8': 'surfboard', '305622_345949_8': 'surfboard', '384531_807739_6': 'glove', '384531_817591_4': 'ball', '122208_314447_4': 'ball', '479612_783673_2': 'toaster', '479612_789616_2': 'toaster', '479612_792811_2': 'toaster', '152808_617534_3': 'bed', '285773_467026_1': 'chair', '285773_469546_2': 'cup', '285773_820900_2': 'cup', '199575_738530_3': 'horse', '199575_741848_9': 'giraffe', '199575_742970_1': 'bird', '228335_671833_2': 'cup', '228335_677176_1': 'microwave', '149669_594258_3': 'dog', '149669_596574_4': 'horse', '149669_745602_3': 'dog', '149669_746034_4': 'horse', '149669_749261_4': 'horse', '543961_288713_4': 'table', '543961_293627_4': 'table', '246590_412944_1': 'bicycle', '246590_413568_1': 'bicycle', '246590_415083_9': 'motorcycle', '520524_255676_2': 'motorcycle', '520524_255946_1': 'bicycle', '520524_257878_8': 'bicycle', '520524_259567_2': 'car', '408307_742471_26': 'airplane', '408307_824915_1': 'bicycle', '530220_794444_2': 'car', '150830_612334_3': 'bed', '150830_624058_5': 'phone', '373857_609793_1': 'couch', '373857_610960_1': 'couch', '271248_428670_4': 'airplane', '271248_430977_8': 'cake', '271248_437307_4': 'airplane', '271248_438768_4': 'airplane', '333402_320137_1': 'bicycle', '333402_322450_1': 'bicycle', '333402_323140_1': 'bicycle', '333402_323206_1': 'bicycle', '58174_282910_4': 'airplane', '58174_404158_4': 'airplane', '231476_370581_4': 'airplane', '252968_447326_4': 'airplane', '252968_454037_5': 'bus', '252968_455501_5': 'bus', '252968_457544_5': 'bus', '252968_825557_5': 'bus', '435034_76471_5': 'bus', '435034_85381_5': 'bus', '435034_88180_5': 'bus', '569272_344332_2': 'dog', '569272_344560_2': 'dog', '569272_349033_2': 'dog', '569272_349321_3': 'horse', '513458_699609_5': 'bus', '513458_704100_5': 'bus', '513458_705426_5': 'bus', '60090_105226_5': 'bus', '60090_113332_5': 'bus', '60090_113608_5': 'bus', '60090_126721_5': 'bus', '195567_327072_5': 'bus', '195567_332502_5': 'bus', '195567_336006_12': 'bus', '195567_336474_4': 'airplane', '26802_144919_5': 'bus', '26802_149470_5': 'bus', '551669_267735_2': 'car', '551669_279288_2': 'car', '206496_733420_4': 'horse', '473573_788589_5': 'chair', '145781_94044_11': 'cup', '145781_97455_1': 'bird', '145781_104499_7': 'bear', '145781_107400_11': 'cup', '233033_230792_3': 'tie', '233033_239075_1': 'chair', '233033_245516_5': 'chair', '115245_228894_3': 'bed', '115245_236151_1': 'chair', '144723_184940_12': 'ball', '144723_185675_1': 'bird', '144723_190316_1': 'bird', '511384_574751_2': 'snowboard', '511384_576086_2': 'apple', '451449_750564_1': 'bird', '451449_755428_11': 'couch', '451449_755755_9': 'giraffe', '405222_179312_5': 'cow', '577847_715329_3': 'sandwich', '577847_718200_11': 'sandwich', '577847_718539_5': 'broccoli', '460390_490976_2': 'snowboard', '338903_422475_1': 'bottle', '338903_424017_11': 'carrot', '338903_431493_2': 'glass', '43375_446312_3': 'orange', '43375_449384_12': 'fork', '43375_825719_8': 'cake', '248912_727940_11': 'orange', '248912_728537_16': 'cake', '248912_730775_11': 'orange', '248912_731165_11': 'orange', '248912_736478_6': 'pizza', '566634_681055_2': 'snowboard', '216628_670520_6': 'bat', '575755_430689_6': 'pizza', '575755_432861_6': 'pizza', '575755_433377_6': 'pizza', '227960_333833_11': 'knife', '492420_783283_7': 'pizza', '492420_784804_7': 'pizza', '492420_787519_7': 'pizza', '179045_670719_2': 'couch', '179045_671586_2': 'couch', '179045_673182_2': 'couch', '213359_748286_3': 'sandwich', '213359_748571_3': 'bed', '213359_750947_3': 'sandwich', '213359_751616_3': 'sandwich', '213359_751978_3': 'sandwich', '369185_397170_4': 'toilet', '369185_397725_2': 'bed', '379659_775088_1': 'chair', '379659_776888_1': 'tv', '379659_777716_8': 'surfboard', '379659_777914_6': 'tv', '379659_778400_6': 'mouse', '23575_801752_3': 'remote', '313321_271742_8': 'bed', '394715_39614_1': 'chair', '62985_816352_8': 'surfboard', '574135_496749_7': 'skateboard', '574135_499302_4': 'ball', '574135_499683_9': 'racket', '211713_23210_7': 'skateboard', '356094_96417_4': 'ball', '356094_96510_4': 'ball', '356094_97668_4': 'ball', '229984_512532_4': 'ball', '229984_553422_6': 'glove', '229984_557376_15': 'glove', '144562_159534_9': 'racket', '144562_162231_6': 'glove', '137241_517567_9': 'racket', '187592_392659_1': 'microwave', '187592_393397_1': 'microwave', '187592_394270_1': 'microwave', '159791_586426_1': 'microwave', '159791_594316_1': 'microwave', '159791_594850_1': 'microwave', '221846_547876_3': 'bed', '221846_555424_3': 'bed', '221846_556183_1': 'chair', '221846_561103_3': 'bed', '50201_348796_6': 'chair', '50201_349273_8': 'bed', '93672_766299_2': 'cup', '93672_770931_2': 'cup', '93672_771549_2': 'clock', '93672_771597_8': 'clock', '93672_771771_8': 'clock', '197398_96443_6': 'pizza', '197398_110888_6': 'pizza', '197398_121373_6': 'pizza', '197398_122447_6': 'pizza', '556025_141526_3': 'bed', '556025_144082_3': 'bed', '234470_563750_1': 'chair', '390298_613025_2': 'motorcycle', '390298_614603_10': 'motorcycle', '73009_48004_3': 'bed', '73009_49612_3': 'bed', '521587_148222_4': 'table', '485916_120232_4': 'refrigerator', '45434_571562_1': 'book', '303768_716725_2': 'car', '303768_720124_2': 'car', '303768_727183_2': 'car', '68520_219037_1': 'bicycle', '393692_293185_1': 'tv', '393692_293476_1': 'tv', '393692_296362_11': 'laptop', '576136_721962_10': 'bird', '576136_725031_3': 'horse', '576136_727182_10': 'bird', '576136_727671_10': 'bottle', '578524_294683_2': 'couch', '578524_300683_3': 'table', '368648_625733_4': 'airplane', '368648_627980_4': 'airplane', '368648_629957_5': 'bus', '368648_631502_5': 'bus', '423395_268757_2': 'cup', '423395_271439_3': 'tie', '38031_689_10': 'train', '38031_2741_1': 'bicycle', '38031_4265_1': 'bicycle', '554805_637726_6': 'elephant', '23489_518468_7': 'truck', '23489_518495_7': 'truck', '23489_521318_3': 'motorcycle', '23489_521450_4': 'airplane', '23489_521483_7': 'truck', '522393_779611_7': 'truck', '522393_780085_7': 'truck', '522393_780274_4': 'airplane', '522393_781669_4': 'airplane', '117988_315130_3': 'tie', '117988_315754_1': 'backpack', '75905_655126_2': 'cup', '387569_473957_3': 'motorcycle', '387569_478196_3': 'motorcycle', '387569_482033_5': 'bus', '216417_785155_6': 'snowboard', '216417_788905_10': 'bird', '54761_302408_9': 'clock', '357044_483607_4': 'horse', '357044_484600_9': 'giraffe', '185409_372522_9': 'giraffe', '293733_612505_5': 'cow', '293733_613534_5': 'cow', '13943_271207_5': 'cow', '13943_279442_5': 'cow', '329336_785744_5': 'cow', '329336_793109_5': 'cow', '549518_145885_5': 'bottle', '549518_162115_1': 'bottle', '549518_171262_6': 'glass', '29074_646355_2': 'couch', '29074_648704_2': 'couch', '3378_597409_1': 'frisbee', '3378_598993_1': 'frisbee', '3378_599701_1': 'frisbee', '3378_602314_1': 'frisbee', '562059_216336_2': 'glass', '212817_394031_4': 'kite', '212817_395492_4': 'kite', '212817_398033_4': 'kite', '116206_250387_4': 'fork', '116206_253642_4': 'fork', '100083_115258_11': 'bed', '100083_117643_11': 'bed', '100083_120397_6': 'pizza', '100083_123769_6': 'pizza', '553780_463744_3': 'sandwich', '553780_465946_7': 'pizza', '560851_296523_1': 'frisbee', '551995_723371_9': 'broccoli', '551995_729758_7': 'sandwich', '551995_731999_7': 'sandwich', '174888_115038_3': 'sandwich', '174888_118929_3': 'sandwich', '174888_122457_3': 'sandwich', '163831_95746_18': 'keyboard', '163831_101881_11': 'laptop', '163831_102670_11': 'couch', '163831_111958_15': 'laptop', '163831_114130_9': 'keyboard', '517823_543148_1': 'frisbee', '48728_641543_5': 'kite', '48728_646445_5': 'kite', '561650_519454_4': 'ball', '54355_122707_3': 'bed', '54355_145279_3': 'bed', '54355_158278_1': 'chair', '54355_180655_3': 'sandwich', '461331_308675_1': 'microwave', '461331_319163_2': 'toaster', '461331_323447_2': 'toaster', '461331_324962_1': 'microwave', '205906_532359_3': 'bed', '205906_533526_3': 'bed', '205906_536478_1': 'chair', '205906_538794_3': 'bed', '467096_225534_1': 'chair', '362599_322080_3': 'sink', '362599_323205_7': 'sink', '512070_701011_5': 'keyboard', '261558_187748_1': 'microwave', '261558_205160_1': 'microwave', '261558_207170_1': 'microwave', '340327_375302_3': 'bed', '340327_379250_2': 'clock', '340327_380402_3': 'bed', '256223_816592_1': 'chair', '471861_637834_3': 'bed', '179699_261067_1': 'chair', '179699_265957_7': 'fork', '179699_267919_3': 'bed', '179699_270133_1': 'chair', '179699_271294_25': 'fork', '556633_443469_2': 'cup', '556633_446364_4': 'refrigerator', '556633_449094_4': 'refrigerator', '556633_452214_4': 'refrigerator', '431113_72551_2': 'motorcycle', '235699_715819_3': 'bed', '235699_715882_9': 'bed', '235699_716434_3': 'bed', '235699_721432_4': 'table', '364079_374300_1': 'bicycle', '364079_376913_1': 'bicycle', '364079_378629_1': 'bicycle', '364079_380243_2': 'car', '574241_493442_1': 'bottle', '423058_179289_3': 'bed', '123842_228041_5': 'phone', '123842_257147_3': 'dog', '185821_755267_9': 'zebra', '185821_757094_4': 'horse', '185821_757640_9': 'zebra', '185821_760809_9': 'zebra', '495332_782602_5': 'cow', '495332_787081_5': 'cow', '495332_791386_5': 'cow', '495332_791698_5': 'cow', '162752_616064_2': 'apple', '39368_132419_4': 'airplane', '39368_175748_4': 'airplane', '39368_182090_4': 'airplane', '39368_183794_4': 'airplane', '165455_505198_5': 'train', '165455_507238_3': 'motorcycle', '165455_508195_3': 'motorcycle', '165455_509377_10': 'motorcycle', '85381_405335_12': 'bus', '570995_417407_2': 'dog', '570995_420728_11': 'couch', '570995_420935_11': 'dog', '570995_421124_2': 'dog', '570995_421883_2': 'dog', '467848_232095_3': 'motorcycle', '467848_261090_4': 'airplane', '272212_302463_17': 'zebra', '198641_564498_2': 'dog', '198641_564633_2': 'dog', '198641_571131_10': 'chair', '198641_571590_11': 'mouse', '198641_572532_2': 'dog', '337551_481823_1': 'bird', '337551_484883_9': 'racket', '337551_488174_7': 'bear', '241503_486611_1': 'bird', '333565_339083_1': 'chair', '333565_339779_1': 'chair', '92894_428236_4': 'ball', '526319_103373_6': 'bowl', '96440_322088_4': 'orange', '96440_322304_5': 'carrot', '96440_324032_5': 'carrot', '326938_634618_1': 'microwave', '389197_584614_2': 'apple', '45775_325602_3': 'bed', '45775_326496_6': 'pizza', '45775_326811_6': 'pizza', '45775_328827_6': 'pizza', '45775_336930_6': 'pizza', '135483_289071_9': 'racket', '632_305425_2': 'couch', '632_305953_2': 'couch', '152628_394805_5': 'kite', '152628_398378_5': 'kite', '152628_399401_5': 'kite', '26398_690591_3': 'sandwich', '26398_691308_3': 'sandwich', '26398_693342_3': 'sandwich', '26398_694197_5': 'broccoli', '26398_699333_3': 'sandwich', '549224_181283_3': 'sandwich', '549224_188372_3': 'sandwich', '549224_189338_3': 'sandwich', '549224_190058_3': 'sandwich', '398209_19504_3': 'remote', '398209_22483_3': 'remote', '534656_496201_1': 'frisbee', '250912_757066_8': 'surfboard', '250912_758074_3': 'snowboard', '250912_764894_8': 'surfboard', '155319_710044_8': 'surfboard', '200348_114886_9': 'racket', '200348_118885_4': 'ball', '200348_120808_9': 'racket', '200348_123181_4': 'ball', '513389_97868_9': 'racket', '513389_107969_4': 'ball', '407646_176783_4': 'ball', '407646_196670_9': 'racket', '427615_396243_1': 'bird', '427615_398952_1': 'bird', '427615_512751_2': 'cat', '418825_635783_1': 'chair', '418825_639359_1': 'chair'})\n"
     ]
    }
   ],
   "source": [
    "target_obj_per_caption = defaultdict(str)\n",
    "set2captions = test\n",
    "obj_set = set()\n",
    "\n",
    "#dictionary that takes compound image id and change_id, returns target object\n",
    "#from the given set ONLY FOR FOIL SENTENCES\n",
    "\n",
    "for t in set2captions['annotations']:\n",
    "    if 'Original' in t['change_id']:\n",
    "        pass\n",
    "    else:\n",
    "        target = t['foilWord']\n",
    "        obj_set.add(target)\n",
    "        id_bits = str(t['image_id']) + '_'+ str(t['change_id'])\n",
    "        \n",
    "        target_obj_per_caption[id_bits] = target\n",
    "        \n",
    "print(target_obj_per_caption)"
   ]
  },
  {
   "cell_type": "code",
   "execution_count": 365,
   "metadata": {},
   "outputs": [
    {
     "name": "stdout",
     "output_type": "stream",
     "text": [
      "69\n"
     ]
    }
   ],
   "source": [
    "print(len(obj_set))"
   ]
  },
  {
   "cell_type": "code",
   "execution_count": 391,
   "metadata": {},
   "outputs": [
    {
     "name": "stdout",
     "output_type": "stream",
     "text": [
      "suitcase , 617\n",
      "bicycle , 339\n",
      "horse , 958\n",
      "microwave , 405\n",
      "broccoli , 457\n",
      "truck , 1973\n",
      "glove , 585\n",
      "bowl , 979\n",
      "knife , 279\n",
      "car , 1728\n",
      "keyboard , 1010\n",
      "snowboard , 685\n",
      "frisbee , 1079\n",
      "skis , 718\n",
      "vase , 803\n",
      "apple , 265\n",
      "sink , 602\n",
      "airplane , 212\n",
      "racket , 544\n",
      "handbag , 7\n",
      "elephant , 1092\n",
      "zebra , 627\n",
      "toothbrush , 112\n",
      "clock , 532\n",
      "bus , 2412\n",
      "banana , 598\n",
      "bear , 929\n",
      "hydrant , 73\n",
      "mouse , 452\n",
      "scissors , 119\n",
      "phone , 827\n",
      "bat , 1846\n",
      "table , 3288\n",
      "giraffe , 387\n",
      "kite , 1369\n",
      "train , 2170\n",
      "motorcycle , 959\n",
      "skateboard , 1175\n",
      "tv , 242\n",
      "laptop , 1583\n",
      "glass , 926\n",
      "boat , 779\n",
      "book , 464\n",
      "tie , 334\n",
      "surfboard , 463\n",
      "refrigerator , 419\n",
      "sandwich , 789\n",
      "sheep , 943\n",
      "pizza , 1309\n",
      "carrot , 273\n",
      "toilet , 338\n",
      "backpack , 188\n",
      "fork , 410\n",
      "bed , 1312\n",
      "cat , 2728\n",
      "umbrella , 772\n",
      "cup , 785\n",
      "dog , 2175\n",
      "chair , 1840\n",
      "bottle , 474\n",
      "bird , 528\n",
      "spoon , 176\n",
      "remote , 741\n",
      "orange , 594\n",
      "couch , 2100\n",
      "ball , 1423\n",
      "cake , 1634\n",
      "toaster , 26\n",
      "cow , 1164\n"
     ]
    }
   ],
   "source": [
    "for obj in obj_set:\n",
    "    print(obj, ',', obj_frequencies[obj])"
   ]
  },
  {
   "cell_type": "code",
   "execution_count": 375,
   "metadata": {
    "collapsed": true
   },
   "outputs": [],
   "source": [
    "def get_obj_acc(results, target_obj_per_caption, obj_frequencies):\n",
    "    \n",
    "    obj_acc = defaultdict(float)\n",
    "    target_sum = defaultdict(float)\n",
    "    \n",
    "    for r in results:\n",
    "        r_split = r.split('_')\n",
    "        if r_split[1] == '0':\n",
    "            pass #original\n",
    "        else:\n",
    "            #foil sentence\n",
    "            #check if it is correctly classified\n",
    "            target = target_obj_per_caption[r]\n",
    "            if results[r]['answer'] == 'FOIL':\n",
    "                obj_acc[target] += 1\n",
    "            else:\n",
    "                obj_acc[target] += 0 #wrong prediction for a foil sentence\n",
    "                \n",
    "            target_sum[target] += 1 #normalizer\n",
    "            \n",
    "    for o in obj_acc:\n",
    "        obj_acc[o] = obj_acc[o] / target_sum[o]\n",
    "        \n",
    "    return obj_acc"
   ]
  },
  {
   "cell_type": "code",
   "execution_count": 392,
   "metadata": {},
   "outputs": [
    {
     "name": "stdout",
     "output_type": "stream",
     "text": [
      "GW_Frozen_SL defaultdict(<class 'float'>, {'pizza': 0.19736842105263158, 'couch': 0.8070175438596491, 'banana': 0.4090909090909091, 'bird': 0.7757009345794392, 'cow': 0.7304964539007093, 'cup': 0.6237623762376238, 'ball': 0.024793388429752067, 'sandwich': 0.2579185520361991, 'suitcase': 0.75, 'truck': 0.81, 'racket': 0.4827586206896552, 'bed': 0.3111888111888112, 'snowboard': 0.5483870967741935, 'frisbee': 0.2153846153846154, 'tv': 0.21428571428571427, 'airplane': 0.425, 'cat': 0.5813953488372093, 'bear': 0.5573770491803278, 'table': 0.019417475728155338, 'horse': 0.2894736842105263, 'book': 0.6346153846153846, 'glove': 0.9117647058823529, 'bus': 0.2773722627737226, 'microwave': 0.4230769230769231, 'laptop': 0.35514018691588783, 'motorcycle': 0.14685314685314685, 'knife': 0.48717948717948717, 'skis': 0.3333333333333333, 'boat': 0.8181818181818182, 'train': 0.5652173913043478, 'dog': 0.10614525139664804, 'kite': 0.711864406779661, 'clock': 0.08108108108108109, 'broccoli': 0.20689655172413793, 'car': 0.5087719298245614, 'bicycle': 0.3961038961038961, 'giraffe': 0.14285714285714285, 'hydrant': 0.6, 'spoon': 0.15384615384615385, 'apple': 0.2894736842105263, 'bowl': 0.4, 'chair': 0.7417840375586855, 'tie': 0.746268656716418, 'carrot': 0.5217391304347826, 'bat': 0.7692307692307693, 'skateboard': 0.19047619047619047, 'cake': 0.4444444444444444, 'backpack': 0.7954545454545454, 'mouse': 0.6226415094339622, 'phone': 0.3181818181818182, 'orange': 0.34782608695652173, 'keyboard': 0.7674418604651163, 'toaster': 0.44, 'sink': 0.391304347826087, 'glass': 0.3684210526315789, 'umbrella': 0.4, 'refrigerator': 0.42105263157894735, 'surfboard': 0.25925925925925924, 'scissors': 0.7058823529411765, 'fork': 0.5588235294117647, 'bottle': 0.575, 'zebra': 0.3958333333333333, 'handbag': 0.16666666666666666, 'elephant': 0.5263157894736842, 'remote': 0.71875, 'vase': 0.5833333333333334, 'toothbrush': 0.16666666666666666, 'toilet': 0.4, 'sheep': 0.8333333333333334})\n",
      "69\n",
      "69\n",
      "Pearson's coefficient: -0.0112438471939 \n",
      "p-value: 0.926940372774\n",
      "Spearman's r: 0.0441931418169 \n",
      "p-value: 0.718424187834\n"
     ]
    }
   ],
   "source": [
    "obj_acc = get_obj_acc(results_gw_frozen_SL, target_obj_per_caption, obj_frequencies)\n",
    "print('GW_Frozen_SL', obj_acc)\n",
    "print(len(obj_acc.keys()))\n",
    "#obj_acc vs obj_freqs\n",
    "\n",
    "list_obj_acc = []\n",
    "list_obj_freq = []\n",
    "\n",
    "for o in obj_acc:\n",
    "    list_obj_acc.append(obj_acc[o])\n",
    "    list_obj_freq.append(obj_frequencies[o])\n",
    "    \n",
    "print(len(list_obj_acc))\n",
    "#correlation between the object frequencies in the training set vs accuracy\n",
    "coef, p = pearsonr(list_obj_acc, list_obj_freq)\n",
    "print('Pearson\\'s coefficient:',coef, '\\np-value:', p)\n",
    "\n",
    "r, p = spearmanr(list_obj_acc, list_obj_freq)\n",
    "print('Spearman\\'s r:',r, '\\np-value:',p)"
   ]
  },
  {
   "cell_type": "code",
   "execution_count": 377,
   "metadata": {},
   "outputs": [
    {
     "name": "stdout",
     "output_type": "stream",
     "text": [
      "pizza , 0.19736842105263158\n",
      "couch , 0.8070175438596491\n",
      "banana , 0.4090909090909091\n",
      "bird , 0.7757009345794392\n",
      "cow , 0.7304964539007093\n",
      "cup , 0.6237623762376238\n",
      "ball , 0.024793388429752067\n",
      "sandwich , 0.2579185520361991\n",
      "suitcase , 0.75\n",
      "truck , 0.81\n",
      "racket , 0.4827586206896552\n",
      "bed , 0.3111888111888112\n",
      "snowboard , 0.5483870967741935\n",
      "frisbee , 0.2153846153846154\n",
      "tv , 0.21428571428571427\n",
      "airplane , 0.425\n",
      "cat , 0.5813953488372093\n",
      "bear , 0.5573770491803278\n",
      "table , 0.019417475728155338\n",
      "horse , 0.2894736842105263\n",
      "book , 0.6346153846153846\n",
      "glove , 0.9117647058823529\n",
      "bus , 0.2773722627737226\n",
      "microwave , 0.4230769230769231\n",
      "laptop , 0.35514018691588783\n",
      "motorcycle , 0.14685314685314685\n",
      "knife , 0.48717948717948717\n",
      "skis , 0.3333333333333333\n",
      "boat , 0.8181818181818182\n",
      "train , 0.5652173913043478\n",
      "dog , 0.10614525139664804\n",
      "kite , 0.711864406779661\n",
      "clock , 0.08108108108108109\n",
      "broccoli , 0.20689655172413793\n",
      "car , 0.5087719298245614\n",
      "bicycle , 0.3961038961038961\n",
      "giraffe , 0.14285714285714285\n",
      "hydrant , 0.6\n",
      "spoon , 0.15384615384615385\n",
      "apple , 0.2894736842105263\n",
      "bowl , 0.4\n",
      "chair , 0.7417840375586855\n",
      "tie , 0.746268656716418\n",
      "carrot , 0.5217391304347826\n",
      "bat , 0.7692307692307693\n",
      "skateboard , 0.19047619047619047\n",
      "cake , 0.4444444444444444\n",
      "backpack , 0.7954545454545454\n",
      "mouse , 0.6226415094339622\n",
      "phone , 0.3181818181818182\n",
      "orange , 0.34782608695652173\n",
      "keyboard , 0.7674418604651163\n",
      "toaster , 0.44\n",
      "sink , 0.391304347826087\n",
      "glass , 0.3684210526315789\n",
      "umbrella , 0.4\n",
      "refrigerator , 0.42105263157894735\n",
      "surfboard , 0.25925925925925924\n",
      "scissors , 0.7058823529411765\n",
      "fork , 0.5588235294117647\n",
      "bottle , 0.575\n",
      "zebra , 0.3958333333333333\n",
      "handbag , 0.16666666666666666\n",
      "elephant , 0.5263157894736842\n",
      "remote , 0.71875\n",
      "vase , 0.5833333333333334\n",
      "toothbrush , 0.16666666666666666\n",
      "toilet , 0.4\n",
      "sheep , 0.8333333333333334\n"
     ]
    }
   ],
   "source": [
    "for obj in obj_acc:\n",
    "    print(obj, ',', obj_acc[obj])"
   ]
  },
  {
   "cell_type": "code",
   "execution_count": 378,
   "metadata": {},
   "outputs": [
    {
     "data": {
      "text/plain": [
       "69"
      ]
     },
     "execution_count": 378,
     "metadata": {},
     "output_type": "execute_result"
    }
   ],
   "source": [
    "len(obj_acc)"
   ]
  },
  {
   "cell_type": "code",
   "execution_count": 379,
   "metadata": {},
   "outputs": [
    {
     "name": "stdout",
     "output_type": "stream",
     "text": [
      "GW_Fine_SL defaultdict(<class 'float'>, {'sandwich': 0.21266968325791855, 'apple': 0.39473684210526316, 'cup': 0.6336633663366337, 'frisbee': 0.3, 'horse': 0.38596491228070173, 'glove': 0.9852941176470589, 'bed': 0.527972027972028, 'laptop': 0.2897196261682243, 'tv': 0.044642857142857144, 'bear': 0.7540983606557377, 'bird': 0.4953271028037383, 'couch': 0.5146198830409356, 'bowl': 0.6, 'backpack': 1.0, 'pizza': 0.12719298245614036, 'zebra': 0.7291666666666666, 'bicycle': 0.22077922077922077, 'snowboard': 0.41935483870967744, 'airplane': 0.12, 'table': 0.07766990291262135, 'surfboard': 0.07407407407407407, 'motorcycle': 0.43356643356643354, 'hydrant': 0.1, 'giraffe': 0.1836734693877551, 'car': 0.2543859649122807, 'ball': 0.21074380165289255, 'scissors': 0.5, 'bat': 0.8974358974358975, 'train': 0.782608695652174, 'bus': 0.8832116788321168, 'chair': 0.7323943661971831, 'cow': 0.5957446808510638, 'microwave': 0.6538461538461539, 'clock': 0.24324324324324326, 'kite': 0.711864406779661, 'refrigerator': 0.2894736842105263, 'carrot': 0.7971014492753623, 'elephant': 0.7368421052631579, 'bottle': 0.675, 'umbrella': 0.26666666666666666, 'truck': 0.47, 'banana': 1.0, 'keyboard': 0.5116279069767442, 'dog': 0.07262569832402235, 'tie': 0.6567164179104478, 'racket': 0.09482758620689655, 'remote': 0.75, 'vase': 0.9166666666666666, 'sink': 0.08695652173913043, 'glass': 0.07894736842105263, 'toaster': 0.04, 'skateboard': 0.6190476190476191, 'spoon': 0.6153846153846154, 'book': 0.5384615384615384, 'mouse': 0.7735849056603774, 'cat': 0.5116279069767442, 'orange': 0.391304347826087, 'broccoli': 0.13793103448275862, 'knife': 0.28205128205128205, 'toilet': 0.0, 'toothbrush': 0.0, 'fork': 0.6470588235294118, 'phone': 0.5, 'cake': 0.5555555555555556, 'boat': 0.2727272727272727, 'suitcase': 0.375, 'sheep': 0.8333333333333334, 'handbag': 0.3333333333333333, 'skis': 1.0})\n",
      "69\n",
      "Pearson's coefficient: 0.113166119249 \n",
      "p-value: 0.354532317534\n",
      "Spearman's r: 0.199610863361 \n",
      "p-value: 0.100094508756\n"
     ]
    }
   ],
   "source": [
    "obj_acc = get_obj_acc(results_gw_finetune_SL, target_obj_per_caption, obj_frequencies)\n",
    "print('GW_Fine_SL', obj_acc)\n",
    "print(len(obj_acc.keys()))\n",
    "#obj_acc vs obj_freqs\n",
    "\n",
    "list_obj_acc = []\n",
    "list_obj_freq = []\n",
    "\n",
    "for o in obj_acc:\n",
    "    list_obj_acc.append(obj_acc[o])\n",
    "    list_obj_freq.append(obj_frequencies[o])\n",
    "    \n",
    "#correlation between the object frequencies in the training set vs accuracy\n",
    "coef, p = pearsonr(list_obj_acc, list_obj_freq)\n",
    "print('Pearson\\'s coefficient:',coef, '\\np-value:', p)\n",
    "\n",
    "r, p = spearmanr(list_obj_acc, list_obj_freq)\n",
    "print('Spearman\\'s r:',r, '\\np-value:',p)"
   ]
  },
  {
   "cell_type": "code",
   "execution_count": 380,
   "metadata": {},
   "outputs": [
    {
     "name": "stdout",
     "output_type": "stream",
     "text": [
      "sandwich , 0.21266968325791855\n",
      "apple , 0.39473684210526316\n",
      "cup , 0.6336633663366337\n",
      "frisbee , 0.3\n",
      "horse , 0.38596491228070173\n",
      "glove , 0.9852941176470589\n",
      "bed , 0.527972027972028\n",
      "laptop , 0.2897196261682243\n",
      "tv , 0.044642857142857144\n",
      "bear , 0.7540983606557377\n",
      "bird , 0.4953271028037383\n",
      "couch , 0.5146198830409356\n",
      "bowl , 0.6\n",
      "backpack , 1.0\n",
      "pizza , 0.12719298245614036\n",
      "zebra , 0.7291666666666666\n",
      "bicycle , 0.22077922077922077\n",
      "snowboard , 0.41935483870967744\n",
      "airplane , 0.12\n",
      "table , 0.07766990291262135\n",
      "surfboard , 0.07407407407407407\n",
      "motorcycle , 0.43356643356643354\n",
      "hydrant , 0.1\n",
      "giraffe , 0.1836734693877551\n",
      "car , 0.2543859649122807\n",
      "ball , 0.21074380165289255\n",
      "scissors , 0.5\n",
      "bat , 0.8974358974358975\n",
      "train , 0.782608695652174\n",
      "bus , 0.8832116788321168\n",
      "chair , 0.7323943661971831\n",
      "cow , 0.5957446808510638\n",
      "microwave , 0.6538461538461539\n",
      "clock , 0.24324324324324326\n",
      "kite , 0.711864406779661\n",
      "refrigerator , 0.2894736842105263\n",
      "carrot , 0.7971014492753623\n",
      "elephant , 0.7368421052631579\n",
      "bottle , 0.675\n",
      "umbrella , 0.26666666666666666\n",
      "truck , 0.47\n",
      "banana , 1.0\n",
      "keyboard , 0.5116279069767442\n",
      "dog , 0.07262569832402235\n",
      "tie , 0.6567164179104478\n",
      "racket , 0.09482758620689655\n",
      "remote , 0.75\n",
      "vase , 0.9166666666666666\n",
      "sink , 0.08695652173913043\n",
      "glass , 0.07894736842105263\n",
      "toaster , 0.04\n",
      "skateboard , 0.6190476190476191\n",
      "spoon , 0.6153846153846154\n",
      "book , 0.5384615384615384\n",
      "mouse , 0.7735849056603774\n",
      "cat , 0.5116279069767442\n",
      "orange , 0.391304347826087\n",
      "broccoli , 0.13793103448275862\n",
      "knife , 0.28205128205128205\n",
      "toilet , 0.0\n",
      "toothbrush , 0.0\n",
      "fork , 0.6470588235294118\n",
      "phone , 0.5\n",
      "cake , 0.5555555555555556\n",
      "boat , 0.2727272727272727\n",
      "suitcase , 0.375\n",
      "sheep , 0.8333333333333334\n",
      "handbag , 0.3333333333333333\n",
      "skis , 1.0\n"
     ]
    }
   ],
   "source": [
    "for obj in obj_acc:\n",
    "    print(obj, ',', obj_acc[obj])"
   ]
  },
  {
   "cell_type": "code",
   "execution_count": 382,
   "metadata": {},
   "outputs": [
    {
     "name": "stdout",
     "output_type": "stream",
     "text": [
      "vqa_frozen defaultdict(<class 'float'>, {'phone': 0.3181818181818182, 'table': 0.34951456310679613, 'carrot': 0.2463768115942029, 'suitcase': 0.2916666666666667, 'tie': 0.2537313432835821, 'horse': 0.36403508771929827, 'snowboard': 0.21774193548387097, 'banana': 0.045454545454545456, 'frisbee': 0.27692307692307694, 'tv': 0.35714285714285715, 'pizza': 0.38596491228070173, 'giraffe': 0.4897959183673469, 'fork': 0.29411764705882354, 'airplane': 0.24, 'truck': 0.13, 'dog': 0.4748603351955307, 'mouse': 0.5849056603773585, 'racket': 0.20689655172413793, 'scissors': 0.2647058823529412, 'vase': 0.5, 'cup': 0.3069306930693069, 'bicycle': 0.2987012987012987, 'cow': 0.3049645390070922, 'sandwich': 0.4072398190045249, 'motorcycle': 0.18181818181818182, 'car': 0.30701754385964913, 'microwave': 0.2692307692307692, 'bed': 0.3811188811188811, 'ball': 0.2231404958677686, 'kite': 0.4491525423728814, 'bottle': 0.375, 'remote': 0.3125, 'bear': 0.4918032786885246, 'couch': 0.36257309941520466, 'train': 0.2391304347826087, 'bus': 0.20437956204379562, 'boat': 0.09090909090909091, 'sink': 0.17391304347826086, 'chair': 0.3145539906103286, 'laptop': 0.45794392523364486, 'orange': 0.34782608695652173, 'bird': 0.3644859813084112, 'surfboard': 0.2222222222222222, 'refrigerator': 0.3684210526315789, 'zebra': 0.22916666666666666, 'keyboard': 0.32558139534883723, 'cat': 0.2558139534883721, 'broccoli': 0.3793103448275862, 'handbag': 0.0, 'bowl': 0.06666666666666667, 'spoon': 0.3076923076923077, 'glove': 0.22058823529411764, 'clock': 0.2972972972972973, 'book': 0.11538461538461539, 'toilet': 0.4, 'toaster': 0.52, 'skateboard': 0.2857142857142857, 'glass': 0.3157894736842105, 'umbrella': 0.6666666666666666, 'apple': 0.2894736842105263, 'knife': 0.2564102564102564, 'backpack': 0.3409090909090909, 'bat': 0.2564102564102564, 'hydrant': 0.3, 'elephant': 0.5263157894736842, 'cake': 0.1111111111111111, 'sheep': 0.16666666666666666, 'skis': 0.3333333333333333, 'toothbrush': 0.16666666666666666})\n",
      "69\n",
      "Pearson's coefficient: 0.022437402646 \n",
      "p-value: 0.85480026966\n",
      "Spearman's r: 0.0437530828185 \n",
      "p-value: 0.721112928301\n"
     ]
    }
   ],
   "source": [
    "obj_acc = get_obj_acc(results_vqa_frozen, target_obj_per_caption, obj_frequencies)\n",
    "print('vqa_frozen', obj_acc)\n",
    "print(len(obj_acc.keys()))\n",
    "#obj_acc vs obj_freqs\n",
    "\n",
    "list_obj_acc = []\n",
    "list_obj_freq = []\n",
    "\n",
    "for o in obj_acc:\n",
    "    list_obj_acc.append(obj_acc[o])\n",
    "    list_obj_freq.append(obj_frequencies[o])\n",
    "    \n",
    "#correlation between the object frequencies in the training set vs accuracy\n",
    "coef, p = pearsonr(list_obj_acc, list_obj_freq)\n",
    "print('Pearson\\'s coefficient:',coef, '\\np-value:', p)\n",
    "\n",
    "r, p = spearmanr(list_obj_acc, list_obj_freq)\n",
    "print('Spearman\\'s r:',r, '\\np-value:',p)"
   ]
  },
  {
   "cell_type": "code",
   "execution_count": 383,
   "metadata": {
    "collapsed": true
   },
   "outputs": [],
   "source": [
    "objs_in_image = defaultdict(list) #obj categories with areas\n",
    "\n",
    "for inst in instances_all['annotations']:\n",
    "    objs_in_image[inst['image_id']].append((inst['category_id'], inst['area']))\n",
    "        \n",
    "    #print(inst['category_id'], category_lookup[inst['category_id']]['name'],inst['area'])"
   ]
  },
  {
   "cell_type": "code",
   "execution_count": 250,
   "metadata": {},
   "outputs": [
    {
     "data": {
      "text/plain": [
       "[(58, 2765.1486500000005),\n",
       " (44, 3193.2059999999997),\n",
       " (44, 1600.3732500000003),\n",
       " (47, 4314.179250000001),\n",
       " (1, 66127.9536),\n",
       " (44, 1234.5397500000004),\n",
       " (50, 466.50930000000074),\n",
       " (1, 9611.7572),\n",
       " (44, 1548.8500999999994),\n",
       " (67, 18689.786450000014),\n",
       " (50, 564.4570999999984)]"
      ]
     },
     "execution_count": 250,
     "metadata": {},
     "output_type": "execute_result"
    }
   ],
   "source": [
    "objs_in_image[558840]"
   ]
  },
  {
   "cell_type": "code",
   "execution_count": 251,
   "metadata": {
    "collapsed": true
   },
   "outputs": [],
   "source": [
    "def img_objects_acc(results, objs_in_image):\n",
    "    #object counts per image\n",
    "    #target object areas per image\n",
    "    \n",
    "    #accuracy according to them\n",
    "    \n",
    "    obj_count_acc = defaultdict(float)\n",
    "    obj_norm = defaultdict(float)\n",
    "    \n",
    "    obj_area_acc = defaultdict(float)\n",
    "    \n",
    "    for r in results:\n",
    "        r_split = r.split('_')\n",
    "        img_id = int(r_split[0])\n",
    "        no_of_objs = len(objs_in_image[img_id])\n",
    "        \n",
    "        obj_norm[no_of_objs] += 1\n",
    "        \n",
    "        if r_split[1] == '0' and results[r]['answer'] == 'ORIG':\n",
    "            obj_count_acc[no_of_objs] += 1\n",
    "        elif r_split[1] != '0' and results[r]['answer'] == 'FOIL':            \n",
    "            obj_count_acc[no_of_objs] += 1\n",
    "    \n",
    "    for c in obj_count_acc:\n",
    "        obj_count_acc[c] = obj_count_acc[c] / obj_norm[c]\n",
    "        \n",
    "    #TODO get target area sum? \n",
    "    \n",
    "    return obj_count_acc, obj_area_acc"
   ]
  },
  {
   "cell_type": "code",
   "execution_count": 360,
   "metadata": {},
   "outputs": [
    {
     "name": "stdout",
     "output_type": "stream",
     "text": [
      "Count defaultdict(<class 'float'>, {4: 0.5826558265582655, 3: 0.5608490566037736, 5: 0.5478011472275335, 13: 0.6181102362204725, 6: 0.5936599423631124, 18: 0.6081081081081081, 11: 0.5798969072164949, 7: 0.5853333333333334, 16: 0.6161290322580645, 12: 0.577639751552795, 14: 0.5985401459854015, 9: 0.5961538461538461, 8: 0.6018808777429467, 15: 0.5870967741935483, 17: 0.5765765765765766, 20: 0.5, 10: 0.5625, 19: 0.6075268817204301, 24: 0.625, 22: 0.6666666666666666, 23: 0.6666666666666666, 21: 0.6428571428571429, 26: 0.5, 28: 0.5, 25: 0.5})\n",
      "Pearson's coefficient: -0.0844007205696 \n",
      "p-value: 0.68833500868\n",
      "Spearman's r: 0.0998267804798 \n",
      "p-value: 0.634951598881\n"
     ]
    }
   ],
   "source": [
    "obj_count_acc, obj_area_acc = img_objects_acc(results_gw_frozen_SL, objs_in_image)\n",
    "print('Count', obj_count_acc)\n",
    "\n",
    "list_obj_counts = list(obj_count_acc.keys())\n",
    "list_obj_accs = []\n",
    "\n",
    "for c in obj_count_acc:\n",
    "    list_obj_accs.append(obj_count_acc[c])\n",
    "    \n",
    "#correlation between the object counts in the images in the training set vs accuracy\n",
    "coef, p = pearsonr(list_obj_counts, list_obj_accs)\n",
    "print('Pearson\\'s coefficient:',coef, '\\np-value:', p)\n",
    "\n",
    "r, p = spearmanr(list_obj_counts, list_obj_accs)\n",
    "print('Spearman\\'s r:',r, '\\np-value:',p)\n",
    "\n",
    "# print('\\nArea', obj_area_acc)\n",
    "\n",
    "# list_obj_areas = list(obj_area_acc.keys())\n",
    "# list_obj_accs = []\n",
    "\n",
    "# for c in obj_area_acc:\n",
    "#     list_obj_accs.append(obj_area_acc[c])\n",
    "    \n",
    "# #correlation between the object areas (Target) in the images in the training set vs accuracy\n",
    "# coef, p = pearsonr(list_obj_areas, list_obj_accs)\n",
    "# print('Pearson\\'s coefficient:',coef, '\\np-value:', p)"
   ]
  },
  {
   "cell_type": "code",
   "execution_count": 359,
   "metadata": {},
   "outputs": [
    {
     "name": "stdout",
     "output_type": "stream",
     "text": [
      "Count defaultdict(<class 'float'>, {3: 0.6202830188679245, 13: 0.6771653543307087, 4: 0.6388888888888888, 14: 0.656934306569343, 5: 0.6166347992351816, 10: 0.5854166666666667, 7: 0.616, 9: 0.6324786324786325, 15: 0.6483870967741936, 6: 0.6181556195965417, 18: 0.6891891891891891, 8: 0.6003134796238244, 19: 0.6881720430107527, 16: 0.6806451612903226, 12: 0.6273291925465838, 11: 0.6649484536082474, 22: 0.5, 20: 0.5733333333333334, 17: 0.6801801801801802, 23: 0.5833333333333334, 21: 0.7857142857142857, 24: 0.5, 26: 0.5, 25: 0.75, 28: 0.5})\n",
      "Pearson's coefficient: -0.19895454683 \n",
      "p-value: 0.340376296775\n",
      "Spearman's r: -0.109826793461 \n",
      "p-value: 0.601248604051\n"
     ]
    }
   ],
   "source": [
    "obj_count_acc, obj_area_acc = img_objects_acc(results_gw_finetune_SL, objs_in_image)\n",
    "print('Count', obj_count_acc)\n",
    "\n",
    "list_obj_counts = list(obj_count_acc.keys())\n",
    "list_obj_accs = []\n",
    "\n",
    "for c in obj_count_acc:\n",
    "    list_obj_accs.append(obj_count_acc[c])\n",
    "    \n",
    "#correlation between the object counts in the images in the training set vs accuracy\n",
    "coef, p = pearsonr(list_obj_counts, list_obj_accs)\n",
    "print('Pearson\\'s coefficient:',coef, '\\np-value:', p)\n",
    "\n",
    "r, p = spearmanr(list_obj_counts, list_obj_accs)\n",
    "print('Spearman\\'s r:',r, '\\np-value:',p)\n",
    "\n",
    "# print('\\nArea', obj_area_acc)\n",
    "\n",
    "# list_obj_areas = list(obj_area_acc.keys())\n",
    "# list_obj_accs = []\n",
    "\n",
    "# for c in obj_area_acc:\n",
    "#     list_obj_accs.append(obj_area_acc[c])\n",
    "    \n",
    "# #correlation between the object areas (Target) in the images in the training set vs accuracy\n",
    "# coef, p = pearsonr(list_obj_areas, list_obj_accs)\n",
    "# print('Pearson\\'s coefficient:',coef, '\\np-value:', p)"
   ]
  },
  {
   "cell_type": "code",
   "execution_count": 414,
   "metadata": {},
   "outputs": [
    {
     "name": "stdout",
     "output_type": "stream",
     "text": [
      "Count defaultdict(<class 'float'>, {4: 0.5047425474254743, 8: 0.5015673981191222, 5: 0.4847036328871893, 14: 0.4927007299270073, 19: 0.4731182795698925, 3: 0.5084905660377359, 13: 0.515748031496063, 7: 0.508, 10: 0.49583333333333335, 6: 0.5057636887608069, 9: 0.5106837606837606, 18: 0.4954954954954955, 16: 0.5032258064516129, 15: 0.5193548387096775, 12: 0.4968944099378882, 17: 0.4954954954954955, 11: 0.49742268041237114, 21: 0.35714285714285715, 22: 0.6111111111111112, 20: 0.5, 25: 0.5, 23: 0.5833333333333334, 24: 0.5, 28: 0.5, 26: 0.5})\n",
      "Pearson's coefficient: 0.0380312890977 \n",
      "p-value: 0.856771027731\n",
      "Spearman's r: -0.120873749047 \n",
      "p-value: 0.564923230033\n"
     ]
    }
   ],
   "source": [
    "obj_count_acc, obj_area_acc = img_objects_acc(results_vqa_frozen, objs_in_image)\n",
    "print('Count', obj_count_acc)\n",
    "\n",
    "list_obj_counts = list(obj_count_acc.keys())\n",
    "list_obj_accs = []\n",
    "\n",
    "for c in obj_count_acc:\n",
    "    list_obj_accs.append(obj_count_acc[c])\n",
    "    \n",
    "#correlation between the object counts in the images in the training set vs accuracy\n",
    "coef, p = pearsonr(list_obj_counts, list_obj_accs)\n",
    "print('Pearson\\'s coefficient:',coef, '\\np-value:', p)\n",
    "\n",
    "r, p = spearmanr(list_obj_counts, list_obj_accs)\n",
    "print('Spearman\\'s r:',r, '\\np-value:',p)"
   ]
  },
  {
   "cell_type": "code",
   "execution_count": 253,
   "metadata": {
    "collapsed": true
   },
   "outputs": [],
   "source": [
    "# TODO\n",
    "# Object area\n",
    "# Difficulty of doing object identification of FOIL object"
   ]
  },
  {
   "cell_type": "code",
   "execution_count": 254,
   "metadata": {},
   "outputs": [
    {
     "data": {
      "text/plain": [
       "[(1, 15118.96455),\n",
       " (48, 1517.88465),\n",
       " (59, 147385.69909999994),\n",
       " (49, 3778.8049999999994)]"
      ]
     },
     "execution_count": 254,
     "metadata": {},
     "output_type": "execute_result"
    }
   ],
   "source": [
    "objs_in_image[27696]"
   ]
  },
  {
   "cell_type": "code",
   "execution_count": 257,
   "metadata": {},
   "outputs": [
    {
     "data": {
      "text/plain": [
       "defaultdict(<function __main__.get_category_lookup.<locals>.<lambda>>,\n",
       "            {1: {'name': 'person', 'supercategory': 'person'},\n",
       "             2: {'name': 'bicycle', 'supercategory': 'vehicle'},\n",
       "             3: {'name': 'car', 'supercategory': 'vehicle'},\n",
       "             4: {'name': 'motorcycle', 'supercategory': 'vehicle'},\n",
       "             5: {'name': 'airplane', 'supercategory': 'vehicle'},\n",
       "             6: {'name': 'bus', 'supercategory': 'vehicle'},\n",
       "             7: {'name': 'train', 'supercategory': 'vehicle'},\n",
       "             8: {'name': 'truck', 'supercategory': 'vehicle'},\n",
       "             9: {'name': 'boat', 'supercategory': 'vehicle'},\n",
       "             10: {'name': 'traffic light', 'supercategory': 'outdoor'},\n",
       "             11: {'name': 'fire hydrant', 'supercategory': 'outdoor'},\n",
       "             13: {'name': 'stop sign', 'supercategory': 'outdoor'},\n",
       "             14: {'name': 'parking meter', 'supercategory': 'outdoor'},\n",
       "             15: {'name': 'bench', 'supercategory': 'outdoor'},\n",
       "             16: {'name': 'bird', 'supercategory': 'animal'},\n",
       "             17: {'name': 'cat', 'supercategory': 'animal'},\n",
       "             18: {'name': 'dog', 'supercategory': 'animal'},\n",
       "             19: {'name': 'horse', 'supercategory': 'animal'},\n",
       "             20: {'name': 'sheep', 'supercategory': 'animal'},\n",
       "             21: {'name': 'cow', 'supercategory': 'animal'},\n",
       "             22: {'name': 'elephant', 'supercategory': 'animal'},\n",
       "             23: {'name': 'bear', 'supercategory': 'animal'},\n",
       "             24: {'name': 'zebra', 'supercategory': 'animal'},\n",
       "             25: {'name': 'giraffe', 'supercategory': 'animal'},\n",
       "             27: {'name': 'backpack', 'supercategory': 'accessory'},\n",
       "             28: {'name': 'umbrella', 'supercategory': 'accessory'},\n",
       "             31: {'name': 'handbag', 'supercategory': 'accessory'},\n",
       "             32: {'name': 'tie', 'supercategory': 'accessory'},\n",
       "             33: {'name': 'suitcase', 'supercategory': 'accessory'},\n",
       "             34: {'name': 'frisbee', 'supercategory': 'sports'},\n",
       "             35: {'name': 'skis', 'supercategory': 'sports'},\n",
       "             36: {'name': 'snowboard', 'supercategory': 'sports'},\n",
       "             37: {'name': 'sports ball', 'supercategory': 'sports'},\n",
       "             38: {'name': 'kite', 'supercategory': 'sports'},\n",
       "             39: {'name': 'baseball bat', 'supercategory': 'sports'},\n",
       "             40: {'name': 'baseball glove', 'supercategory': 'sports'},\n",
       "             41: {'name': 'skateboard', 'supercategory': 'sports'},\n",
       "             42: {'name': 'surfboard', 'supercategory': 'sports'},\n",
       "             43: {'name': 'tennis racket', 'supercategory': 'sports'},\n",
       "             44: {'name': 'bottle', 'supercategory': 'kitchen'},\n",
       "             46: {'name': 'wine glass', 'supercategory': 'kitchen'},\n",
       "             47: {'name': 'cup', 'supercategory': 'kitchen'},\n",
       "             48: {'name': 'fork', 'supercategory': 'kitchen'},\n",
       "             49: {'name': 'knife', 'supercategory': 'kitchen'},\n",
       "             50: {'name': 'spoon', 'supercategory': 'kitchen'},\n",
       "             51: {'name': 'bowl', 'supercategory': 'kitchen'},\n",
       "             52: {'name': 'banana', 'supercategory': 'food'},\n",
       "             53: {'name': 'apple', 'supercategory': 'food'},\n",
       "             54: {'name': 'sandwich', 'supercategory': 'food'},\n",
       "             55: {'name': 'orange', 'supercategory': 'food'},\n",
       "             56: {'name': 'broccoli', 'supercategory': 'food'},\n",
       "             57: {'name': 'carrot', 'supercategory': 'food'},\n",
       "             58: {'name': 'hot dog', 'supercategory': 'food'},\n",
       "             59: {'name': 'pizza', 'supercategory': 'food'},\n",
       "             60: {'name': 'donut', 'supercategory': 'food'},\n",
       "             61: {'name': 'cake', 'supercategory': 'food'},\n",
       "             62: {'name': 'chair', 'supercategory': 'furniture'},\n",
       "             63: {'name': 'couch', 'supercategory': 'furniture'},\n",
       "             64: {'name': 'potted plant', 'supercategory': 'furniture'},\n",
       "             65: {'name': 'bed', 'supercategory': 'furniture'},\n",
       "             67: {'name': 'dining table', 'supercategory': 'furniture'},\n",
       "             70: {'name': 'toilet', 'supercategory': 'furniture'},\n",
       "             72: {'name': 'tv', 'supercategory': 'electronic'},\n",
       "             73: {'name': 'laptop', 'supercategory': 'electronic'},\n",
       "             74: {'name': 'mouse', 'supercategory': 'electronic'},\n",
       "             75: {'name': 'remote', 'supercategory': 'electronic'},\n",
       "             76: {'name': 'keyboard', 'supercategory': 'electronic'},\n",
       "             77: {'name': 'cell phone', 'supercategory': 'electronic'},\n",
       "             78: {'name': 'microwave', 'supercategory': 'appliance'},\n",
       "             79: {'name': 'oven', 'supercategory': 'appliance'},\n",
       "             80: {'name': 'toaster', 'supercategory': 'appliance'},\n",
       "             81: {'name': 'sink', 'supercategory': 'appliance'},\n",
       "             82: {'name': 'refrigerator', 'supercategory': 'appliance'},\n",
       "             84: {'name': 'book', 'supercategory': 'indoor'},\n",
       "             85: {'name': 'clock', 'supercategory': 'indoor'},\n",
       "             86: {'name': 'vase', 'supercategory': 'indoor'},\n",
       "             87: {'name': 'scissors', 'supercategory': 'indoor'},\n",
       "             88: {'name': 'teddy bear', 'supercategory': 'indoor'},\n",
       "             89: {'name': 'hair drier', 'supercategory': 'indoor'},\n",
       "             90: {'name': 'toothbrush', 'supercategory': 'indoor'}})"
      ]
     },
     "execution_count": 257,
     "metadata": {},
     "output_type": "execute_result"
    }
   ],
   "source": [
    "category_lookup"
   ]
  },
  {
   "cell_type": "code",
   "execution_count": null,
   "metadata": {
    "collapsed": true
   },
   "outputs": [],
   "source": [
    "# TODO Target object areas (sum and max)"
   ]
  },
  {
   "cell_type": "code",
   "execution_count": null,
   "metadata": {
    "collapsed": true
   },
   "outputs": [],
   "source": [
    "#linear regression for position vs. accuracy\n",
    "#combining absolute and relative positions\n",
    "\n",
    "# from sklearn import linear_model\n",
    "# regr = linear_model.LinearRegression()\n",
    "# regr.fit(abs_position,rel_position,accuracy)"
   ]
  },
  {
   "cell_type": "code",
   "execution_count": null,
   "metadata": {
    "collapsed": true
   },
   "outputs": [],
   "source": []
  }
 ],
 "metadata": {
  "kernelspec": {
   "display_name": "Python [default]",
   "language": "python",
   "name": "python3"
  },
  "language_info": {
   "codemirror_mode": {
    "name": "ipython",
    "version": 3
   },
   "file_extension": ".py",
   "mimetype": "text/x-python",
   "name": "python",
   "nbconvert_exporter": "python",
   "pygments_lexer": "ipython3",
   "version": "3.6.3"
  }
 },
 "nbformat": 4,
 "nbformat_minor": 2
}
